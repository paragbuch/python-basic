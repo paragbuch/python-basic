{
 "cells": [
  {
   "cell_type": "code",
   "execution_count": 1,
   "id": "759a04bd",
   "metadata": {},
   "outputs": [],
   "source": [
    "import logging"
   ]
  },
  {
   "cell_type": "code",
   "execution_count": 2,
   "id": "1dd650c8",
   "metadata": {},
   "outputs": [],
   "source": [
    "logging.basicConfig(filename = \"test.log\" , level = logging.INFO)"
   ]
  },
  {
   "cell_type": "code",
   "execution_count": 3,
   "id": "43d06bba",
   "metadata": {},
   "outputs": [],
   "source": [
    "logging.info(\"this is my info log\")\n",
    "logging.warning(\"this is my warning log\")\n",
    "logging.error(\"this is my error log\")"
   ]
  },
  {
   "cell_type": "code",
   "execution_count": 4,
   "id": "6bd52fa3",
   "metadata": {},
   "outputs": [],
   "source": [
    "logging.shutdown()"
   ]
  },
  {
   "cell_type": "code",
   "execution_count": 1,
   "id": "c486ea6d",
   "metadata": {},
   "outputs": [],
   "source": [
    "import logging\n",
    "logging.basicConfig(filename = \"test2.log\" , level = logging.DEBUG , format = '%(asctime)s %(levelname)s %(message)s')"
   ]
  },
  {
   "cell_type": "code",
   "execution_count": 2,
   "id": "4c9e611f",
   "metadata": {},
   "outputs": [],
   "source": [
    "logging.info(\"this is my info log\")\n",
    "logging.warning(\"this is my warning log\")\n",
    "logging.debug(\"this is my debug log\")\n",
    "logging.error(\"this is my error log\")"
   ]
  },
  {
   "cell_type": "code",
   "execution_count": 3,
   "id": "c3fae94d",
   "metadata": {},
   "outputs": [],
   "source": [
    "logging.shutdown()"
   ]
  },
  {
   "cell_type": "code",
   "execution_count": 4,
   "id": "0d5adba9",
   "metadata": {},
   "outputs": [],
   "source": [
    "import logging\n",
    "def divbyzero(a,b):\n",
    "    logging.info(\"this is start of my code and i am try to enter %s and %s\" , a,b)\n",
    "    try:\n",
    "        div = a/b\n",
    "        logging.info(\"executed succ\")\n",
    "    except Exception as e:\n",
    "        logging.error(\"Error has happend\")\n",
    "        logging.exception(\"Exception occured\" + str(e))"
   ]
  },
  {
   "cell_type": "code",
   "execution_count": 5,
   "id": "8e9f3391",
   "metadata": {},
   "outputs": [],
   "source": [
    "divbyzero(4,0)"
   ]
  },
  {
   "cell_type": "code",
   "execution_count": 6,
   "id": "aa21408b",
   "metadata": {},
   "outputs": [],
   "source": [
    "logging.shutdown()"
   ]
  },
  {
   "cell_type": "code",
   "execution_count": 9,
   "id": "de0e7cee",
   "metadata": {},
   "outputs": [],
   "source": [
    "import logging\n",
    "def value(n):\n",
    "    logging.info(\"this is start of my code and i am try to enter %s\", n)\n",
    "    try:\n",
    "        value = int(input())\n",
    "        logging.info(\"executed succ\")\n",
    "        if value <0:\n",
    "            print(\"this is negative number\")\n",
    "    except Exception as e:\n",
    "        logging.error(\"Error has happend\")\n",
    "        logging.exception(\"Exception occured\" + str(e))"
   ]
  },
  {
   "cell_type": "code",
   "execution_count": 10,
   "id": "ea2ea130",
   "metadata": {},
   "outputs": [
    {
     "name": "stdout",
     "output_type": "stream",
     "text": [
      "-1\n",
      "this is negative number\n"
     ]
    }
   ],
   "source": [
    "value(5)"
   ]
  },
  {
   "cell_type": "code",
   "execution_count": 11,
   "id": "b619660e",
   "metadata": {},
   "outputs": [
    {
     "name": "stdout",
     "output_type": "stream",
     "text": [
      "-1\n",
      "this is negative number\n"
     ]
    }
   ],
   "source": [
    "value(-1)"
   ]
  },
  {
   "cell_type": "code",
   "execution_count": 12,
   "id": "3f997729",
   "metadata": {},
   "outputs": [
    {
     "name": "stdout",
     "output_type": "stream",
     "text": [
      "1\n"
     ]
    }
   ],
   "source": [
    "value(1)"
   ]
  },
  {
   "cell_type": "code",
   "execution_count": 4,
   "id": "fca2e3e0",
   "metadata": {},
   "outputs": [],
   "source": [
    "class test:\n",
    "    def func1(self):\n",
    "        return \"this is my function 1\""
   ]
  },
  {
   "cell_type": "code",
   "execution_count": 5,
   "id": "3302f4a7",
   "metadata": {},
   "outputs": [],
   "source": [
    "obj = test()"
   ]
  },
  {
   "cell_type": "code",
   "execution_count": 6,
   "id": "1a3c4eca",
   "metadata": {},
   "outputs": [
    {
     "data": {
      "text/plain": [
       "'this is my function 1'"
      ]
     },
     "execution_count": 6,
     "metadata": {},
     "output_type": "execute_result"
    }
   ],
   "source": [
    "obj.func1()"
   ]
  },
  {
   "cell_type": "code",
   "execution_count": 7,
   "id": "aab653af",
   "metadata": {},
   "outputs": [],
   "source": [
    "class test:\n",
    "    def func1(self):\n",
    "        return \"this is my function 1\"\n",
    "    def func2(parag):\n",
    "        return \"this is my name\""
   ]
  },
  {
   "cell_type": "code",
   "execution_count": 8,
   "id": "642e82f4",
   "metadata": {},
   "outputs": [],
   "source": [
    "obj = test()\n"
   ]
  },
  {
   "cell_type": "code",
   "execution_count": 9,
   "id": "333b6240",
   "metadata": {},
   "outputs": [
    {
     "data": {
      "text/plain": [
       "'this is my function 1'"
      ]
     },
     "execution_count": 9,
     "metadata": {},
     "output_type": "execute_result"
    }
   ],
   "source": [
    "obj.func1()"
   ]
  },
  {
   "cell_type": "code",
   "execution_count": 10,
   "id": "a9b3d009",
   "metadata": {},
   "outputs": [
    {
     "data": {
      "text/plain": [
       "'this is my name'"
      ]
     },
     "execution_count": 10,
     "metadata": {},
     "output_type": "execute_result"
    }
   ],
   "source": [
    "obj.func2()"
   ]
  },
  {
   "cell_type": "code",
   "execution_count": 11,
   "id": "d8b1b991",
   "metadata": {},
   "outputs": [],
   "source": [
    "class test1:\n",
    "    def func1(self,a,b):\n",
    "        self.a = a\n",
    "        self.b = b\n",
    "        return self.a+self.b"
   ]
  },
  {
   "cell_type": "code",
   "execution_count": 12,
   "id": "396de023",
   "metadata": {},
   "outputs": [],
   "source": [
    "obj = test1()"
   ]
  },
  {
   "cell_type": "code",
   "execution_count": 13,
   "id": "3aa60a4f",
   "metadata": {},
   "outputs": [
    {
     "data": {
      "text/plain": [
       "7"
      ]
     },
     "execution_count": 13,
     "metadata": {},
     "output_type": "execute_result"
    }
   ],
   "source": [
    "obj.func1(3,4)"
   ]
  },
  {
   "cell_type": "code",
   "execution_count": 15,
   "id": "5b9d4cb2",
   "metadata": {},
   "outputs": [],
   "source": [
    "class test2:\n",
    "    def func1(self,a,b):\n",
    "        self.a = a\n",
    "        self.b = b \n",
    "        return self.a*self.b\n",
    "    def func2(self):\n",
    "        return \"i love python\"\n",
    "    def func3(self,a,b):\n",
    "        self.a = a\n",
    "        self.b = b\n",
    "        return self.a/self.b"
   ]
  },
  {
   "cell_type": "code",
   "execution_count": 16,
   "id": "9dbd702b",
   "metadata": {},
   "outputs": [],
   "source": [
    "obj = test2()"
   ]
  },
  {
   "cell_type": "code",
   "execution_count": 17,
   "id": "345df74f",
   "metadata": {},
   "outputs": [
    {
     "data": {
      "text/plain": [
       "12"
      ]
     },
     "execution_count": 17,
     "metadata": {},
     "output_type": "execute_result"
    }
   ],
   "source": [
    "obj.func1(3,4)"
   ]
  },
  {
   "cell_type": "code",
   "execution_count": 18,
   "id": "d822b955",
   "metadata": {},
   "outputs": [
    {
     "data": {
      "text/plain": [
       "'i love python'"
      ]
     },
     "execution_count": 18,
     "metadata": {},
     "output_type": "execute_result"
    }
   ],
   "source": [
    "obj.func2()"
   ]
  },
  {
   "cell_type": "code",
   "execution_count": 20,
   "id": "bbd1fcdb",
   "metadata": {},
   "outputs": [
    {
     "data": {
      "text/plain": [
       "7.0"
      ]
     },
     "execution_count": 20,
     "metadata": {},
     "output_type": "execute_result"
    }
   ],
   "source": [
    "obj.func3(49,7)"
   ]
  },
  {
   "cell_type": "code",
   "execution_count": 24,
   "id": "2f7100d2",
   "metadata": {},
   "outputs": [],
   "source": [
    "class car:\n",
    "    def __init__ (self,color,engine):\n",
    "        self.color = color\n",
    "        self.engine = engine\n",
    "    def func1(self):\n",
    "        return \"this is my function 1\",self.engine\n",
    "    def func2(self):\n",
    "        return \"this is my function 2\",self.color\n",
    "    def func3(self):\n",
    "        return self.color,self.engine"
   ]
  },
  {
   "cell_type": "code",
   "execution_count": 25,
   "id": "a1fbdcd8",
   "metadata": {},
   "outputs": [],
   "source": [
    "obj = car('black','petrol')"
   ]
  },
  {
   "cell_type": "code",
   "execution_count": 26,
   "id": "9893b7b8",
   "metadata": {},
   "outputs": [
    {
     "data": {
      "text/plain": [
       "('this is my function 2', 'black')"
      ]
     },
     "execution_count": 26,
     "metadata": {},
     "output_type": "execute_result"
    }
   ],
   "source": [
    "obj.func2()"
   ]
  },
  {
   "cell_type": "code",
   "execution_count": 27,
   "id": "aa30f2a9",
   "metadata": {},
   "outputs": [
    {
     "name": "stdout",
     "output_type": "stream",
     "text": [
      "parag\n",
      "26\n",
      "95\n"
     ]
    }
   ],
   "source": [
    "class Person:\n",
    "    def __init__ (self, name, age, id):\n",
    "        self.name = name\n",
    "        self.age = age\n",
    "        self.id = id\n",
    "        \n",
    "p1 = Person(\"parag\", 26, 95)\n",
    "\n",
    "print(p1.name)\n",
    "print(p1.age)\n",
    "print(p1.id)"
   ]
  },
  {
   "cell_type": "code",
   "execution_count": 28,
   "id": "24b2b2eb",
   "metadata": {},
   "outputs": [],
   "source": [
    "class BMI:\n",
    "    def func1(self, Weight, height):\n",
    "        self.weight = int(input())\n",
    "        self.height = int(input())\n",
    "        return self.weight/self.height*self.height"
   ]
  },
  {
   "cell_type": "code",
   "execution_count": 29,
   "id": "2ae158bb",
   "metadata": {},
   "outputs": [],
   "source": [
    "obj = BMI()"
   ]
  },
  {
   "cell_type": "code",
   "execution_count": 31,
   "id": "b84683eb",
   "metadata": {},
   "outputs": [
    {
     "name": "stdout",
     "output_type": "stream",
     "text": [
      "70\n",
      "172\n"
     ]
    },
    {
     "data": {
      "text/plain": [
       "70.0"
      ]
     },
     "execution_count": 31,
     "metadata": {},
     "output_type": "execute_result"
    }
   ],
   "source": [
    "obj.func1(70,172)"
   ]
  },
  {
   "cell_type": "code",
   "execution_count": 1,
   "id": "6bed6b80",
   "metadata": {},
   "outputs": [
    {
     "data": {
      "text/plain": [
       "'this is my test function of class B'"
      ]
     },
     "execution_count": 1,
     "metadata": {},
     "output_type": "execute_result"
    }
   ],
   "source": [
    "class A:\n",
    "    def test(self):\n",
    "        return \"this is my test function of class A\"\n",
    "class B(A):\n",
    "    def test1(self):\n",
    "        return \"this is my test function of class B\"\n",
    "    \n",
    "obj = B()\n",
    "obj.test1()"
   ]
  },
  {
   "cell_type": "code",
   "execution_count": 4,
   "id": "09b4a5c3",
   "metadata": {},
   "outputs": [
    {
     "data": {
      "text/plain": [
       "'this is my test function of class A1'"
      ]
     },
     "execution_count": 4,
     "metadata": {},
     "output_type": "execute_result"
    }
   ],
   "source": [
    "class A:\n",
    "    def test(self):\n",
    "        return \"this is my test function of class A\"\n",
    "    def test1(self):\n",
    "        return \"this is my test function of class A1\"\n",
    "class B(A):\n",
    "    def test2(self):\n",
    "        return \"this is my test function of class B\"\n",
    "    def test3(self):\n",
    "        return \"this is my test function of class B1\"\n",
    "    \n",
    "obj = B()\n",
    "obj.test1()"
   ]
  },
  {
   "cell_type": "code",
   "execution_count": 2,
   "id": "ee6bf3c4",
   "metadata": {},
   "outputs": [
    {
     "data": {
      "text/plain": [
       "12"
      ]
     },
     "execution_count": 2,
     "metadata": {},
     "output_type": "execute_result"
    }
   ],
   "source": [
    "class A:\n",
    "    def __init__ (self,a,b):\n",
    "        self.a = a\n",
    "        self.b = b\n",
    "    def func1(self):\n",
    "        return \"this is my parents class\"\n",
    "    def func2(self):\n",
    "        return self.a * self.b\n",
    "    \n",
    "obj = A(3,4)\n",
    "obj.func2()\n",
    "    "
   ]
  },
  {
   "cell_type": "code",
   "execution_count": 13,
   "id": "c797eac0",
   "metadata": {},
   "outputs": [
    {
     "data": {
      "text/plain": [
       "120"
      ]
     },
     "execution_count": 13,
     "metadata": {},
     "output_type": "execute_result"
    }
   ],
   "source": [
    "class A:\n",
    "    def __init__ (self,a,b):\n",
    "        self.a = a\n",
    "        self.b = b\n",
    "    def func1(self):\n",
    "        return \"this is my parents class\"\n",
    "    def func2(self):\n",
    "        return self.a * self.b\n",
    "class B(A):\n",
    "    def __init__ (self,a,b,c,d):\n",
    "        self.c = c\n",
    "        self.d = d\n",
    "        A.__init__(self,a,b)\n",
    "    def func3(self):\n",
    "        return \"this is my child class\"\n",
    "    def func4(self):\n",
    "        return self.c + self.d\n",
    "    \n",
    "obj = B(5,7,50,70)\n",
    "obj.func4()"
   ]
  },
  {
   "cell_type": "code",
   "execution_count": 19,
   "id": "835e2b4f",
   "metadata": {},
   "outputs": [
    {
     "data": {
      "text/plain": [
       "('this is my child class', 'gripwheel')"
      ]
     },
     "execution_count": 19,
     "metadata": {},
     "output_type": "execute_result"
    }
   ],
   "source": [
    "class car:\n",
    "    def __init__(self,color,engine):\n",
    "        self.color = color\n",
    "        self.engine = engine\n",
    "    def func1(self):\n",
    "        return \"this is my parent class\",self.color\n",
    "    def func2(self):\n",
    "        return \"this is my parent class\",self.engine\n",
    "class car1(car):\n",
    "    def __init__(self,color,engine,window,wheel):\n",
    "        self.window = window\n",
    "        self.wheel = wheel\n",
    "        car.__init__(self,color,engine)\n",
    "    def func3(self):\n",
    "        return \"this is my child class\",self.window\n",
    "    def func4(self):\n",
    "        return \"this is my child class\",self.wheel\n",
    "\n",
    "obj = car1(\"black\",\"petrol\",\"bulletproof\",\"gripwheel\")\n",
    "obj.func4()"
   ]
  },
  {
   "cell_type": "code",
   "execution_count": 1,
   "id": "b7657518",
   "metadata": {},
   "outputs": [
    {
     "data": {
      "text/plain": [
       "'this is a function of class A'"
      ]
     },
     "execution_count": 1,
     "metadata": {},
     "output_type": "execute_result"
    }
   ],
   "source": [
    "## multilevel inheritance\n",
    "class A:\n",
    "    def func1(self):\n",
    "        return \"this is a function of class A\"\n",
    "class B(A):\n",
    "    def func2(self):\n",
    "        return \"this is a function of class B\"\n",
    "class C(B):\n",
    "    def func3(self):\n",
    "        return \"this is a function of class C\"\n",
    "    \n",
    "obj = C()\n",
    "obj.func1()"
   ]
  },
  {
   "cell_type": "code",
   "execution_count": 2,
   "id": "aa92f257",
   "metadata": {},
   "outputs": [
    {
     "data": {
      "text/plain": [
       "('this is grandparent class', 'black')"
      ]
     },
     "execution_count": 2,
     "metadata": {},
     "output_type": "execute_result"
    }
   ],
   "source": [
    "class car:\n",
    "    def __init__ (self,color,engine):\n",
    "        self.color = color\n",
    "        self.engine = engine\n",
    "    def func1(self):\n",
    "        return \"this is grandparent class\",self.color\n",
    "    def func2(self):\n",
    "        return \"this is grandparent class\",self.engine\n",
    "class car1(car):\n",
    "    def __init__ (self,color,engine,window,wheel):\n",
    "        self.window = window\n",
    "        self.wheel = wheel\n",
    "        car.__init__(self,color,engine)\n",
    "    def func3(self):\n",
    "        return \"this is parent class\",self.window\n",
    "    def func4(self):\n",
    "        return \"this is parent class\",self.wheel\n",
    "class car2(car1):\n",
    "    def __init__ (self,color,engine,window,wheel,glass,airbag):\n",
    "        self.glass = glass\n",
    "        self.airbag = airbag\n",
    "        car1.__init__ (self,color,engine,window,wheel)\n",
    "    def func5(self):\n",
    "        return \"this is child class\",self.glass\n",
    "    def func6(self):\n",
    "        return \"this is child class\",self.airbag\n",
    "    \n",
    "obj = car2(\"black\",\"petrol\",\"bulletproof\",\"gripwheel\",\"shadow\",\"airbag\")\n",
    "obj.func1()"
   ]
  },
  {
   "cell_type": "code",
   "execution_count": 3,
   "id": "71122170",
   "metadata": {},
   "outputs": [
    {
     "data": {
      "text/plain": [
       "'this is a function of class A'"
      ]
     },
     "execution_count": 3,
     "metadata": {},
     "output_type": "execute_result"
    }
   ],
   "source": [
    "##multiple inheritance\n",
    "class A:\n",
    "    def func1(self):\n",
    "        return \"this is a function of class A\"\n",
    "class B(A):\n",
    "    def func2(self):\n",
    "        return \"this is a function of class B\"\n",
    "class C(A):\n",
    "    def func3(self):\n",
    "        return \"this is a function of class C\"\n",
    "    \n",
    "obj = C()\n",
    "obj.func1()"
   ]
  },
  {
   "cell_type": "code",
   "execution_count": 5,
   "id": "421d5161",
   "metadata": {},
   "outputs": [
    {
     "data": {
      "text/plain": [
       "('this is child class', 'bulletproof')"
      ]
     },
     "execution_count": 5,
     "metadata": {},
     "output_type": "execute_result"
    }
   ],
   "source": [
    "class car:\n",
    "    def __init__ (self,color,engine):\n",
    "        self.color = color\n",
    "        self.engine = engine\n",
    "    def func1(self):\n",
    "        return \"this is parent class\",self.color\n",
    "    def func2(self):\n",
    "        return \"this is parent class\",self.engine\n",
    "class car1(car):\n",
    "    def __init__ (self,color,engine,window,wheel):\n",
    "        self.window = window\n",
    "        self.wheel = wheel\n",
    "        car.__init__(self,color,engine)\n",
    "    def func3(self):\n",
    "        return \"this is child class\",self.window\n",
    "    def func4(self):\n",
    "        return \"this is child class\",self.wheel\n",
    "class car2(car):\n",
    "    def __init__ (self,color,engine,glass,airbag):\n",
    "        self.glass = glass\n",
    "        self.airbag = airbag\n",
    "        car.__init__ (self,color,engine)\n",
    "    def func5(self):\n",
    "        return \"this is child class\",self.glass\n",
    "    def func6(self):\n",
    "        return \"this is child class\",self.airbag\n",
    "    \n",
    "obj = car2(\"black\",\"petrol\",\"shadow\",\"airbag\")\n",
    "obj.func1()\n",
    "obj = car1(\"black\",\"petrol\",\"bulletproof\",\"gripwheel\")\n",
    "obj.func3()"
   ]
  },
  {
   "cell_type": "code",
   "execution_count": null,
   "id": "933055fe",
   "metadata": {},
   "outputs": [],
   "source": [
    "polymorphism"
   ]
  },
  {
   "cell_type": "code",
   "execution_count": 6,
   "id": "16e14274",
   "metadata": {},
   "outputs": [
    {
     "name": "stdout",
     "output_type": "stream",
     "text": [
      "3\n",
      "4\n",
      "2\n"
     ]
    }
   ],
   "source": [
    "print(len(\"Bit\"))\n",
    "print(len([\"python\",\"java\",\"C\",\"C++\"]))\n",
    "print(len({\"name\":\"parag\",\"address\":\"india\"}))"
   ]
  },
  {
   "cell_type": "code",
   "execution_count": 1,
   "id": "1b615ed7",
   "metadata": {},
   "outputs": [
    {
     "name": "stdout",
     "output_type": "stream",
     "text": [
      "Meow\n",
      "I am a cat. My name is Kitty.I am 2.5 year old\n",
      "Meow\n",
      "Bark\n",
      "I am a dog. My name is Fluffy.I am 4 year old\n",
      "Bark\n"
     ]
    }
   ],
   "source": [
    "class cat:\n",
    "    def __init__(self,name,age):\n",
    "        self.name = name\n",
    "        self.age = age\n",
    "    \n",
    "    def info(self):\n",
    "        print(f\"I am a cat. My name is {self.name}.I am {self.age} year old\")\n",
    "    \n",
    "    def make_sound(self):\n",
    "        print(\"Meow\")\n",
    "        \n",
    "class dog:\n",
    "    def __init__ (self,name,age):\n",
    "        self.name = name\n",
    "        self.age = age\n",
    "    \n",
    "    def info(self):\n",
    "        print(f\"I am a dog. My name is {self.name}.I am {self.age} year old\")\n",
    "        \n",
    "    def make_sound(self):\n",
    "        print(\"Bark\")\n",
    "        \n",
    "cat1 = cat(\"Kitty\",2.5)\n",
    "dog1 = dog(\"Fluffy\",4)\n",
    "\n",
    "for animal in (cat1,dog1):\n",
    "    animal.make_sound()\n",
    "    animal.info()\n",
    "    animal.make_sound()"
   ]
  },
  {
   "cell_type": "code",
   "execution_count": 12,
   "id": "d3eba1da",
   "metadata": {},
   "outputs": [
    {
     "name": "stdout",
     "output_type": "stream",
     "text": [
      "This will share my facebook story\n"
     ]
    }
   ],
   "source": [
    "class insta:\n",
    "    def share_stories(self):\n",
    "        print(\"This will share my insta story\")\n",
    "        \n",
    "class facebook(insta):\n",
    "    def share_stories(self):\n",
    "        print(\"This will share my facebook story\")\n",
    "        \n",
    "obj = facebook()\n",
    "obj.share_stories()"
   ]
  },
  {
   "cell_type": "code",
   "execution_count": 13,
   "id": "95b99bd0",
   "metadata": {},
   "outputs": [
    {
     "name": "stdout",
     "output_type": "stream",
     "text": [
      "This will share my insta story\n",
      "This will share my facebook story\n"
     ]
    }
   ],
   "source": [
    "class insta:\n",
    "    def share_stories(self):\n",
    "        print(\"This will share my insta story\")\n",
    "        \n",
    "class facebook(insta):\n",
    "    def share_stories(self):\n",
    "        super().share_stories()\n",
    "        print(\"This will share my facebook story\")\n",
    "        \n",
    "obj = facebook()\n",
    "obj.share_stories()"
   ]
  },
  {
   "cell_type": "code",
   "execution_count": 14,
   "id": "bb50bbdd",
   "metadata": {},
   "outputs": [
    {
     "name": "stdout",
     "output_type": "stream",
     "text": [
      "multiplication: 200\n"
     ]
    }
   ],
   "source": [
    "class add:\n",
    "    def result(self,a,b):\n",
    "        print('addition:',a+b)\n",
    "class multi(add):\n",
    "    def result(self,a,b):\n",
    "        print('multiplication:',a*b)\n",
    "m = multi()\n",
    "m.result(10,20)"
   ]
  },
  {
   "cell_type": "code",
   "execution_count": 15,
   "id": "53c2ba96",
   "metadata": {},
   "outputs": [
    {
     "name": "stdout",
     "output_type": "stream",
     "text": [
      "addition: 30\n"
     ]
    }
   ],
   "source": [
    "class add:\n",
    "    def result(self,a,b):\n",
    "        print('addition:',a+b)\n",
    "class multi(add):\n",
    "    pass\n",
    "m = multi()\n",
    "m.result(10,20)"
   ]
  },
  {
   "cell_type": "code",
   "execution_count": 16,
   "id": "797958ea",
   "metadata": {},
   "outputs": [
    {
     "name": "stdout",
     "output_type": "stream",
     "text": [
      "addition: 70\n",
      "multiplication: 200\n"
     ]
    }
   ],
   "source": [
    "class add:\n",
    "    def result(self,a,b):\n",
    "        print('addition:',a+b)\n",
    "class multi(add):\n",
    "    def result(self,a,b):\n",
    "        super().result(30,40) #calling parent class's method\n",
    "        print('multiplication:',a*b)\n",
    "m = multi()\n",
    "m.result(10,20)"
   ]
  },
  {
   "cell_type": "code",
   "execution_count": null,
   "id": "a2422fca",
   "metadata": {},
   "outputs": [],
   "source": []
  }
 ],
 "metadata": {
  "kernelspec": {
   "display_name": "Python 3 (ipykernel)",
   "language": "python",
   "name": "python3"
  },
  "language_info": {
   "codemirror_mode": {
    "name": "ipython",
    "version": 3
   },
   "file_extension": ".py",
   "mimetype": "text/x-python",
   "name": "python",
   "nbconvert_exporter": "python",
   "pygments_lexer": "ipython3",
   "version": "3.9.13"
  }
 },
 "nbformat": 4,
 "nbformat_minor": 5
}
