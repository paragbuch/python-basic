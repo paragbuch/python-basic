{
 "cells": [
  {
   "cell_type": "code",
   "execution_count": 1,
   "id": "bffe7c02",
   "metadata": {},
   "outputs": [
    {
     "data": {
      "text/plain": [
       "1.0"
      ]
     },
     "execution_count": 1,
     "metadata": {},
     "output_type": "execute_result"
    }
   ],
   "source": [
    "def test(a):\n",
    "    return a/2\n",
    "test(2)"
   ]
  },
  {
   "cell_type": "code",
   "execution_count": 2,
   "id": "0b49a88c",
   "metadata": {},
   "outputs": [],
   "source": [
    "b = lambda a:a/2"
   ]
  },
  {
   "cell_type": "code",
   "execution_count": 3,
   "id": "da752adb",
   "metadata": {},
   "outputs": [
    {
     "data": {
      "text/plain": [
       "2.0"
      ]
     },
     "execution_count": 3,
     "metadata": {},
     "output_type": "execute_result"
    }
   ],
   "source": [
    "b(4)"
   ]
  },
  {
   "cell_type": "code",
   "execution_count": 2,
   "id": "7b09e256",
   "metadata": {},
   "outputs": [],
   "source": [
    "test = lambda a,b : a+b"
   ]
  },
  {
   "cell_type": "code",
   "execution_count": 3,
   "id": "dac31b34",
   "metadata": {},
   "outputs": [
    {
     "data": {
      "text/plain": [
       "9"
      ]
     },
     "execution_count": 3,
     "metadata": {},
     "output_type": "execute_result"
    }
   ],
   "source": [
    "test(5,4)"
   ]
  },
  {
   "cell_type": "code",
   "execution_count": 4,
   "id": "259b2000",
   "metadata": {},
   "outputs": [],
   "source": [
    "test = lambda a,b : (a+b, a-b, a*b)"
   ]
  },
  {
   "cell_type": "code",
   "execution_count": 5,
   "id": "f51015cb",
   "metadata": {},
   "outputs": [
    {
     "data": {
      "text/plain": [
       "(14, 0, 49)"
      ]
     },
     "execution_count": 5,
     "metadata": {},
     "output_type": "execute_result"
    }
   ],
   "source": [
    "test(7,7)"
   ]
  },
  {
   "cell_type": "code",
   "execution_count": 6,
   "id": "5871184b",
   "metadata": {},
   "outputs": [],
   "source": [
    "test1 = lambda a: a==2\n"
   ]
  },
  {
   "cell_type": "code",
   "execution_count": 8,
   "id": "04ca25af",
   "metadata": {},
   "outputs": [
    {
     "data": {
      "text/plain": [
       "True"
      ]
     },
     "execution_count": 8,
     "metadata": {},
     "output_type": "execute_result"
    }
   ],
   "source": [
    "test1(2)"
   ]
  },
  {
   "cell_type": "code",
   "execution_count": 9,
   "id": "9f2c063e",
   "metadata": {},
   "outputs": [
    {
     "ename": "TypeError",
     "evalue": "unsupported operand type(s) for ** or pow(): 'tuple' and 'int'",
     "output_type": "error",
     "traceback": [
      "\u001b[1;31m---------------------------------------------------------------------------\u001b[0m",
      "\u001b[1;31mTypeError\u001b[0m                                 Traceback (most recent call last)",
      "\u001b[1;32m~\\AppData\\Local\\Temp\\ipykernel_12624\\509896015.py\u001b[0m in \u001b[0;36m<module>\u001b[1;34m\u001b[0m\n\u001b[0;32m      1\u001b[0m \u001b[0mv\u001b[0m \u001b[1;33m=\u001b[0m \u001b[1;32mlambda\u001b[0m \u001b[1;33m*\u001b[0m\u001b[0mi\u001b[0m \u001b[1;33m:\u001b[0m \u001b[0mi\u001b[0m\u001b[1;33m**\u001b[0m\u001b[1;36m2\u001b[0m\u001b[1;33m\u001b[0m\u001b[1;33m\u001b[0m\u001b[0m\n\u001b[1;32m----> 2\u001b[1;33m \u001b[0mv\u001b[0m\u001b[1;33m(\u001b[0m\u001b[1;33m[\u001b[0m\u001b[1;36m1\u001b[0m\u001b[1;33m]\u001b[0m\u001b[1;33m)\u001b[0m\u001b[1;33m\u001b[0m\u001b[1;33m\u001b[0m\u001b[0m\n\u001b[0m",
      "\u001b[1;32m~\\AppData\\Local\\Temp\\ipykernel_12624\\509896015.py\u001b[0m in \u001b[0;36m<lambda>\u001b[1;34m(*i)\u001b[0m\n\u001b[1;32m----> 1\u001b[1;33m \u001b[0mv\u001b[0m \u001b[1;33m=\u001b[0m \u001b[1;32mlambda\u001b[0m \u001b[1;33m*\u001b[0m\u001b[0mi\u001b[0m \u001b[1;33m:\u001b[0m \u001b[0mi\u001b[0m\u001b[1;33m**\u001b[0m\u001b[1;36m2\u001b[0m\u001b[1;33m\u001b[0m\u001b[1;33m\u001b[0m\u001b[0m\n\u001b[0m\u001b[0;32m      2\u001b[0m \u001b[0mv\u001b[0m\u001b[1;33m(\u001b[0m\u001b[1;33m[\u001b[0m\u001b[1;36m1\u001b[0m\u001b[1;33m]\u001b[0m\u001b[1;33m)\u001b[0m\u001b[1;33m\u001b[0m\u001b[1;33m\u001b[0m\u001b[0m\n",
      "\u001b[1;31mTypeError\u001b[0m: unsupported operand type(s) for ** or pow(): 'tuple' and 'int'"
     ]
    }
   ],
   "source": [
    "v = lambda *i : i**2\n",
    "v([1])"
   ]
  },
  {
   "cell_type": "code",
   "execution_count": 10,
   "id": "cc3c5fc4",
   "metadata": {},
   "outputs": [
    {
     "data": {
      "text/plain": [
       "[1, 2, 3, 4, 5, 6, 7, 8, 9, 10]"
      ]
     },
     "execution_count": 10,
     "metadata": {},
     "output_type": "execute_result"
    }
   ],
   "source": [
    "[i for i in range (1,11)]"
   ]
  },
  {
   "cell_type": "code",
   "execution_count": 11,
   "id": "573d8a0e",
   "metadata": {},
   "outputs": [],
   "source": [
    "x = lambda x : [ i for i in range (1,11)]"
   ]
  },
  {
   "cell_type": "code",
   "execution_count": 15,
   "id": "acc95994",
   "metadata": {},
   "outputs": [
    {
     "data": {
      "text/plain": [
       "[1, 2, 3, 4, 5, 6, 7, 8, 9, 10]"
      ]
     },
     "execution_count": 15,
     "metadata": {},
     "output_type": "execute_result"
    }
   ],
   "source": [
    "x(1)"
   ]
  },
  {
   "cell_type": "code",
   "execution_count": 21,
   "id": "fb267932",
   "metadata": {},
   "outputs": [
    {
     "data": {
      "text/plain": [
       "[16, 25, 36]"
      ]
     },
     "execution_count": 21,
     "metadata": {},
     "output_type": "execute_result"
    }
   ],
   "source": [
    "def square(num):\n",
    "    return num**2\n",
    "l = [4,5,6]\n",
    "list (map (square, l))"
   ]
  },
  {
   "cell_type": "code",
   "execution_count": 22,
   "id": "33f037c6",
   "metadata": {},
   "outputs": [
    {
     "name": "stdout",
     "output_type": "stream",
     "text": [
      "1\n",
      "4\n",
      "9\n",
      "16\n",
      "25\n"
     ]
    }
   ],
   "source": [
    "def square (num):\n",
    "    return num**2\n",
    "\n",
    "l = [1,2,3,4,5]\n",
    "for x in map (square,l):\n",
    "    print(x)"
   ]
  },
  {
   "cell_type": "code",
   "execution_count": 29,
   "id": "5ce8b761",
   "metadata": {},
   "outputs": [
    {
     "name": "stdout",
     "output_type": "stream",
     "text": [
      "J\n",
      "even\n",
      "M\n",
      "A\n",
      "M\n"
     ]
    }
   ],
   "source": [
    "def inspect(mystring):\n",
    "    if len(mystring)%2==0:\n",
    "        return \"even\"\n",
    "    else:\n",
    "        return mystring[0]\n",
    "months=[\"January\", \"February\", \"March\", \"April\", \"May\"]\n",
    "for x in map (inspect,months):\n",
    "    print(x)"
   ]
  },
  {
   "cell_type": "code",
   "execution_count": 4,
   "id": "5b9b4741",
   "metadata": {},
   "outputs": [],
   "source": [
    "def check_even (num):\n",
    "    return num%2==0"
   ]
  },
  {
   "cell_type": "code",
   "execution_count": 5,
   "id": "5f2602c1",
   "metadata": {},
   "outputs": [
    {
     "data": {
      "text/plain": [
       "True"
      ]
     },
     "execution_count": 5,
     "metadata": {},
     "output_type": "execute_result"
    }
   ],
   "source": [
    "check_even(6)"
   ]
  },
  {
   "cell_type": "code",
   "execution_count": 6,
   "id": "74be7f04",
   "metadata": {},
   "outputs": [],
   "source": [
    "mynums=[1,2,3,4,5,6]"
   ]
  },
  {
   "cell_type": "code",
   "execution_count": 8,
   "id": "61f0c498",
   "metadata": {},
   "outputs": [
    {
     "data": {
      "text/plain": [
       "<filter at 0x20942279f70>"
      ]
     },
     "execution_count": 8,
     "metadata": {},
     "output_type": "execute_result"
    }
   ],
   "source": [
    "value = filter(check_even,mynums)\n",
    "value"
   ]
  },
  {
   "cell_type": "code",
   "execution_count": 9,
   "id": "9109e2ab",
   "metadata": {},
   "outputs": [
    {
     "data": {
      "text/plain": [
       "[2, 4, 6]"
      ]
     },
     "execution_count": 9,
     "metadata": {},
     "output_type": "execute_result"
    }
   ],
   "source": [
    "list(value)"
   ]
  },
  {
   "cell_type": "code",
   "execution_count": 10,
   "id": "94f54da7",
   "metadata": {},
   "outputs": [
    {
     "name": "stdout",
     "output_type": "stream",
     "text": [
      "2\n",
      "4\n",
      "6\n"
     ]
    }
   ],
   "source": [
    "def check_even(num):\n",
    "    return num%2==0\n",
    "\n",
    "mynums = [1,2,3,4,5,6]\n",
    "for x in filter (check_even,mynums):\n",
    "    print(x)"
   ]
  },
  {
   "cell_type": "code",
   "execution_count": null,
   "id": "4ec847f9",
   "metadata": {},
   "outputs": [],
   "source": [
    "for i in range (\"parag\", \"jalpa\", \"raghuraj\"):\n",
    "    print "
   ]
  },
  {
   "cell_type": "code",
   "execution_count": 11,
   "id": "eac5847e",
   "metadata": {},
   "outputs": [
    {
     "name": "stdout",
     "output_type": "stream",
     "text": [
      "p\n",
      "j\n",
      "r\n"
     ]
    }
   ],
   "source": [
    "l = [\"parag\",\"jalpa\",\"raghuraj\"]\n",
    "for i in l:\n",
    "    print(i[0])"
   ]
  },
  {
   "cell_type": "code",
   "execution_count": 12,
   "id": "983469fc",
   "metadata": {},
   "outputs": [
    {
     "data": {
      "text/plain": [
       "['j', 'p', 'r']"
      ]
     },
     "execution_count": 12,
     "metadata": {},
     "output_type": "execute_result"
    }
   ],
   "source": [
    "list(map(lambda x : x [0],['jalpa','parag','raghuraj']))"
   ]
  },
  {
   "cell_type": "code",
   "execution_count": 13,
   "id": "b89c776a",
   "metadata": {},
   "outputs": [
    {
     "data": {
      "text/plain": [
       "['J', 'even', 'M', 'A', 'M']"
      ]
     },
     "execution_count": 13,
     "metadata": {},
     "output_type": "execute_result"
    }
   ],
   "source": [
    "list(map(lambda x :\"even\" if len(x)%2==0 else x[0],[\"January\", \"February\", \"March\", \"April\", \"May\"] ))"
   ]
  },
  {
   "cell_type": "code",
   "execution_count": 14,
   "id": "d389415d",
   "metadata": {},
   "outputs": [
    {
     "name": "stdout",
     "output_type": "stream",
     "text": [
      "enter your nameparag\n",
      "vowels in your name are: [False, True, False, True, False]\n"
     ]
    }
   ],
   "source": [
    "name=input(\"enter your name\")\n",
    "vowels=list(map(lambda ch: ch in \"aeiou\", name))\n",
    "if len(vowels)==0:\n",
    "    print(\"no vowels in your name\")\n",
    "else:\n",
    "    print(\"vowels in your name are:\",vowels)"
   ]
  },
  {
   "cell_type": "code",
   "execution_count": 15,
   "id": "f0683a8c",
   "metadata": {},
   "outputs": [
    {
     "name": "stdout",
     "output_type": "stream",
     "text": [
      "enter your nameparag\n",
      "vowels in your name are: ['a', 'a']\n"
     ]
    }
   ],
   "source": [
    "name=input(\"enter your name\")\n",
    "vowels=list(filter(lambda ch: ch in \"aeiou\", name))\n",
    "if len(vowels)==0:\n",
    "    print(\"no vowels in your name\")\n",
    "else:\n",
    "    print(\"vowels in your name are:\",vowels)"
   ]
  },
  {
   "cell_type": "code",
   "execution_count": 16,
   "id": "c2005ca9",
   "metadata": {},
   "outputs": [],
   "source": [
    "a=5"
   ]
  },
  {
   "cell_type": "code",
   "execution_count": 17,
   "id": "f7eb8dd4",
   "metadata": {},
   "outputs": [
    {
     "data": {
      "text/plain": [
       "2238709066160"
      ]
     },
     "execution_count": 17,
     "metadata": {},
     "output_type": "execute_result"
    }
   ],
   "source": [
    "id(a)"
   ]
  },
  {
   "cell_type": "code",
   "execution_count": 18,
   "id": "d8e9be9e",
   "metadata": {},
   "outputs": [],
   "source": [
    "a=10"
   ]
  },
  {
   "cell_type": "code",
   "execution_count": 19,
   "id": "0ed4bb57",
   "metadata": {},
   "outputs": [
    {
     "data": {
      "text/plain": [
       "2238709066320"
      ]
     },
     "execution_count": 19,
     "metadata": {},
     "output_type": "execute_result"
    }
   ],
   "source": [
    "id(a)"
   ]
  },
  {
   "cell_type": "code",
   "execution_count": 20,
   "id": "6a4da0ce",
   "metadata": {},
   "outputs": [
    {
     "data": {
      "text/plain": [
       "10"
      ]
     },
     "execution_count": 20,
     "metadata": {},
     "output_type": "execute_result"
    }
   ],
   "source": [
    "a"
   ]
  },
  {
   "cell_type": "code",
   "execution_count": 21,
   "id": "ae0c43b0",
   "metadata": {},
   "outputs": [
    {
     "name": "stdout",
     "output_type": "stream",
     "text": [
      "garbage collector : collected 11 objects.\n"
     ]
    }
   ],
   "source": [
    "import gc\n",
    "collected = gc.collect()\n",
    "print(\"garbage collector : collected\",\n",
    "           \"%d objects.\" % collected)"
   ]
  },
  {
   "cell_type": "code",
   "execution_count": 22,
   "id": "981974c9",
   "metadata": {},
   "outputs": [
    {
     "name": "stdout",
     "output_type": "stream",
     "text": [
      "garbage collection thresholds: (700, 10, 10)\n"
     ]
    }
   ],
   "source": [
    "print(\"garbage collection thresholds:\",\n",
    "                        gc.get_threshold())"
   ]
  },
  {
   "cell_type": "code",
   "execution_count": 2,
   "id": "0ec4d4b5",
   "metadata": {},
   "outputs": [
    {
     "name": "stdout",
     "output_type": "stream",
     "text": [
      "i love python\n"
     ]
    }
   ],
   "source": [
    "s = \"i love python\"#global variable\n",
    "def f():\n",
    "    print(s)\n",
    "def f1():\n",
    "    print(s)\n",
    "def f2():\n",
    "    print(s)\n",
    "f2()"
   ]
  },
  {
   "cell_type": "code",
   "execution_count": 3,
   "id": "de21e638",
   "metadata": {},
   "outputs": [
    {
     "name": "stdout",
     "output_type": "stream",
     "text": [
      "i love python\n"
     ]
    }
   ],
   "source": [
    "def f():\n",
    "    print(s)\n",
    "    \n",
    "s = \"i love python\"#global or local?\n",
    "f()"
   ]
  },
  {
   "cell_type": "code",
   "execution_count": 4,
   "id": "4026e78a",
   "metadata": {},
   "outputs": [
    {
     "name": "stdout",
     "output_type": "stream",
     "text": [
      "i love python\n"
     ]
    }
   ],
   "source": [
    "def f():\n",
    "    p=\"i love python\"\n",
    "    print(p)\n",
    "f()"
   ]
  },
  {
   "cell_type": "code",
   "execution_count": 5,
   "id": "373d8074",
   "metadata": {},
   "outputs": [
    {
     "name": "stdout",
     "output_type": "stream",
     "text": [
      "i love python\n"
     ]
    },
    {
     "ename": "NameError",
     "evalue": "name 's1' is not defined",
     "output_type": "error",
     "traceback": [
      "\u001b[1;31m---------------------------------------------------------------------------\u001b[0m",
      "\u001b[1;31mNameError\u001b[0m                                 Traceback (most recent call last)",
      "\u001b[1;32m~\\AppData\\Local\\Temp\\ipykernel_16756\\2062720272.py\u001b[0m in \u001b[0;36m<module>\u001b[1;34m\u001b[0m\n\u001b[0;32m      3\u001b[0m     \u001b[0mprint\u001b[0m\u001b[1;33m(\u001b[0m\u001b[0ms1\u001b[0m\u001b[1;33m)\u001b[0m\u001b[1;33m\u001b[0m\u001b[1;33m\u001b[0m\u001b[0m\n\u001b[0;32m      4\u001b[0m \u001b[0mf\u001b[0m\u001b[1;33m(\u001b[0m\u001b[1;33m)\u001b[0m\u001b[1;33m\u001b[0m\u001b[1;33m\u001b[0m\u001b[0m\n\u001b[1;32m----> 5\u001b[1;33m \u001b[0mprint\u001b[0m\u001b[1;33m(\u001b[0m\u001b[0ms1\u001b[0m\u001b[1;33m)\u001b[0m\u001b[1;33m\u001b[0m\u001b[1;33m\u001b[0m\u001b[0m\n\u001b[0m",
      "\u001b[1;31mNameError\u001b[0m: name 's1' is not defined"
     ]
    }
   ],
   "source": [
    "def f():\n",
    "    s1=\"i love python\"#local variable\n",
    "    print(s1)\n",
    "f()\n",
    "print(s1)"
   ]
  },
  {
   "cell_type": "code",
   "execution_count": 6,
   "id": "27c42e3c",
   "metadata": {},
   "outputs": [
    {
     "name": "stdout",
     "output_type": "stream",
     "text": [
      "i love c\n",
      "2190630037296\n",
      "i love python\n",
      "2190630036464\n"
     ]
    }
   ],
   "source": [
    "s2=\"i love python\"\n",
    "def f():\n",
    "    s2=\"i love c\"\n",
    "    print(s2)\n",
    "    print(id(s2))\n",
    "f()\n",
    "print(s2)\n",
    "print(id(s2))"
   ]
  },
  {
   "cell_type": "code",
   "execution_count": 8,
   "id": "3700f180",
   "metadata": {},
   "outputs": [
    {
     "name": "stdout",
     "output_type": "stream",
     "text": [
      "i love c\n",
      "i love c\n"
     ]
    }
   ],
   "source": [
    "def f():\n",
    "    global p1\n",
    "    p1=\"i love c\"\n",
    "    print(p1)\n",
    "f()\n",
    "print(p1)"
   ]
  },
  {
   "cell_type": "code",
   "execution_count": 10,
   "id": "79301f21",
   "metadata": {},
   "outputs": [
    {
     "name": "stdout",
     "output_type": "stream",
     "text": [
      "hello world\n",
      "hello world\n"
     ]
    }
   ],
   "source": [
    "def func1():\n",
    "    print(\"hello world\")\n",
    "func2=func1\n",
    "func2()\n",
    "\n",
    "del func1\n",
    "func2()"
   ]
  },
  {
   "cell_type": "code",
   "execution_count": 11,
   "id": "3feb4a3d",
   "metadata": {},
   "outputs": [
    {
     "name": "stdout",
     "output_type": "stream",
     "text": [
      "executing now\n",
      "hello world\n",
      "hello\n"
     ]
    }
   ],
   "source": [
    "def dec1(func1):\n",
    "    def nowexec():\n",
    "        print(\"executing now\")\n",
    "        func1()\n",
    "        print(\"hello\")\n",
    "    return nowexec\n",
    "@dec1\n",
    "def func2():\n",
    "    print(\"hello world\")\n",
    "    \n",
    "#func2=dec1(func2)\n",
    "func2()"
   ]
  },
  {
   "cell_type": "code",
   "execution_count": 1,
   "id": "620c9482",
   "metadata": {},
   "outputs": [
    {
     "name": "stdout",
     "output_type": "stream",
     "text": [
      "hello world\n",
      "error in our program\n"
     ]
    }
   ],
   "source": [
    "try:\n",
    "    print(\"hello world\")\n",
    "    a=8\n",
    "    a/0\n",
    "except:\n",
    "    print(\"error in our program\")"
   ]
  },
  {
   "cell_type": "code",
   "execution_count": 3,
   "id": "3546be87",
   "metadata": {},
   "outputs": [
    {
     "name": "stdout",
     "output_type": "stream",
     "text": [
      "error in our program\n"
     ]
    }
   ],
   "source": [
    "try:\n",
    "    a=8\n",
    "    a/0\n",
    "    print(\"hello world\")\n",
    "except:\n",
    "    print(\"error in our program\")"
   ]
  },
  {
   "cell_type": "code",
   "execution_count": 6,
   "id": "88acc0f8",
   "metadata": {},
   "outputs": [
    {
     "name": "stdout",
     "output_type": "stream",
     "text": [
      "paragbuch\n"
     ]
    }
   ],
   "source": [
    "try:\n",
    "    print(a+b)\n",
    "    a=('parag')\n",
    "    b=('buch')\n",
    "except:\n",
    "    print(\"error in our program\")"
   ]
  },
  {
   "cell_type": "code",
   "execution_count": 8,
   "id": "cbad9d0f",
   "metadata": {},
   "outputs": [
    {
     "name": "stdout",
     "output_type": "stream",
     "text": [
      "5\n",
      "gh\n",
      "error in our program\n"
     ]
    }
   ],
   "source": [
    "try:\n",
    "    a = int(input())\n",
    "    b = int(input())\n",
    "    print(a+b)\n",
    "except:\n",
    "    print(\"error in our program\")"
   ]
  },
  {
   "cell_type": "code",
   "execution_count": 12,
   "id": "9b03027d",
   "metadata": {},
   "outputs": [
    {
     "name": "stdout",
     "output_type": "stream",
     "text": [
      "enter the value of weight in (kg) : 60\n",
      "enter the value of height in (meter) : sdf\n",
      "error in our program\n"
     ]
    }
   ],
   "source": [
    "def bmi(w,h):\n",
    "    BMI = (w/(h*h))\n",
    "    return BMI\n",
    "try:\n",
    "    w = float(input(\"enter the value of weight in (kg) : \"))\n",
    "    h = float(input(\"enter the value of height in (meter) : \"))\n",
    "    print(bmi)\n",
    "except:\n",
    "    print(\"error in our program\")\n",
    "\n",
    "    "
   ]
  },
  {
   "cell_type": "code",
   "execution_count": 7,
   "id": "99577b04",
   "metadata": {},
   "outputs": [
    {
     "name": "stderr",
     "output_type": "stream",
     "text": [
      "<>:2: SyntaxWarning: 'float' object is not callable; perhaps you missed a comma?\n",
      "<>:2: SyntaxWarning: 'float' object is not callable; perhaps you missed a comma?\n",
      "C:\\Users\\Milan\\AppData\\Local\\Temp\\ipykernel_14880\\1999313165.py:2: SyntaxWarning: 'float' object is not callable; perhaps you missed a comma?\n",
      "  f = ((9/5)(c)+32)\n"
     ]
    },
    {
     "name": "stdout",
     "output_type": "stream",
     "text": [
      "enter the value of celcius78\n"
     ]
    },
    {
     "ename": "NameError",
     "evalue": "name 'f' is not defined",
     "output_type": "error",
     "traceback": [
      "\u001b[1;31m---------------------------------------------------------------------------\u001b[0m",
      "\u001b[1;31mNameError\u001b[0m                                 Traceback (most recent call last)",
      "\u001b[1;32m~\\AppData\\Local\\Temp\\ipykernel_14880\\1999313165.py\u001b[0m in \u001b[0;36m<module>\u001b[1;34m\u001b[0m\n\u001b[0;32m      8\u001b[0m     \u001b[0mprint\u001b[0m\u001b[1;33m(\u001b[0m\u001b[1;34m\"error in our program\"\u001b[0m\u001b[1;33m)\u001b[0m\u001b[1;33m\u001b[0m\u001b[1;33m\u001b[0m\u001b[0m\n\u001b[0;32m      9\u001b[0m \u001b[1;33m\u001b[0m\u001b[0m\n\u001b[1;32m---> 10\u001b[1;33m \u001b[0mtemp\u001b[0m\u001b[1;33m(\u001b[0m\u001b[0mf\u001b[0m\u001b[1;33m)\u001b[0m\u001b[1;33m\u001b[0m\u001b[1;33m\u001b[0m\u001b[0m\n\u001b[0m",
      "\u001b[1;31mNameError\u001b[0m: name 'f' is not defined"
     ]
    }
   ],
   "source": [
    "def temp(f):\n",
    "    f = ((9/5)(c)+32)\n",
    "    return f\n",
    "try:\n",
    "    c = float(input(\"enter the value of celcius\"))\n",
    "    \n",
    "except:\n",
    "    print(\"error in our program\")\n",
    "    \n",
    "temp(f)"
   ]
  },
  {
   "cell_type": "code",
   "execution_count": 9,
   "id": "a193cbf2",
   "metadata": {},
   "outputs": [
    {
     "name": "stdout",
     "output_type": "stream",
     "text": [
      "30\n",
      "86.0\n"
     ]
    }
   ],
   "source": [
    "def fer(c):\n",
    "    f = float(((9/5)*(c)+32))\n",
    "    print(f)\n",
    "\n",
    "try:\n",
    "    c = int(input())\n",
    "    fer(c)\n",
    "except Exception as e:\n",
    "    print(e)\n",
    "    "
   ]
  },
  {
   "cell_type": "code",
   "execution_count": 11,
   "id": "02d76985",
   "metadata": {},
   "outputs": [
    {
     "name": "stdout",
     "output_type": "stream",
     "text": [
      "can only concatenate list (not \"int\") to list\n"
     ]
    }
   ],
   "source": [
    "try:\n",
    "    l=[2,3,4,5,6]\n",
    "    for i in range (len(l+3)):\n",
    "        print(l)\n",
    "except Exception as e:\n",
    "    print(e)"
   ]
  },
  {
   "cell_type": "code",
   "execution_count": 12,
   "id": "07576e93",
   "metadata": {},
   "outputs": [
    {
     "name": "stdout",
     "output_type": "stream",
     "text": [
      "0\n",
      "1\n",
      "2\n",
      "3\n",
      "4\n",
      "5\n",
      "6\n",
      "7\n"
     ]
    }
   ],
   "source": [
    "l = [2,3,4,5,6]\n",
    "for i in range (len(l)+3):\n",
    "    print(i)"
   ]
  },
  {
   "cell_type": "code",
   "execution_count": 13,
   "id": "42963cba",
   "metadata": {},
   "outputs": [
    {
     "name": "stdout",
     "output_type": "stream",
     "text": [
      "hhjkjf\n",
      "invalid literal for int() with base 10: 'hhjkjf'\n"
     ]
    }
   ],
   "source": [
    "try:\n",
    "    d = {\"key1\" : \"sudh\", \"key2\" : [1,2,3,4,5] , \"key3\" : (4,5,6,7,8)}\n",
    "    d[\"key4\"] = int(input())\n",
    "    print(d)\n",
    "except Exception as jak:\n",
    "    print(jak)"
   ]
  },
  {
   "cell_type": "code",
   "execution_count": 14,
   "id": "ebcb5099",
   "metadata": {},
   "outputs": [
    {
     "name": "stdout",
     "output_type": "stream",
     "text": [
      "fhg\n",
      "invalid literal for int() with base 10: 'fhg'\n"
     ]
    }
   ],
   "source": [
    "try:\n",
    "    d = {\"key1\" : \"sudh\", \"key2\" : [1,2,3,4,5] , \"key3\" : (4,5,6,7,8)}\n",
    "    d[\"key4\"] = int(input())\n",
    "    f = open(\"test2\" , \"r\")\n",
    "\n",
    "except ValueError as xyz:\n",
    "    print(xyz)\n",
    "except FileNotFoundError as e:\n",
    "    print(e)\n",
    "except Exception as ee:\n",
    "    print(\"this is my exception class\" , ee)"
   ]
  },
  {
   "cell_type": "code",
   "execution_count": 17,
   "id": "013eaff5",
   "metadata": {},
   "outputs": [],
   "source": [
    "def fun1():\n",
    "    \"\"\"in this program interger value is added\"\"\"\n",
    "    flag=True\n",
    "    while flag:\n",
    "        try:\n",
    "            a=int(input(\"enter the interger:\"))\n",
    "            if type (a)==int:\n",
    "                return \"yes, you have entered an interger\"\n",
    "            flag=False\n",
    "            \n",
    "        except Exception as e:\n",
    "            print(\"Nah, you did not enter an integer, please enter integer. ERROR:\",e)\n",
    "    "
   ]
  },
  {
   "cell_type": "code",
   "execution_count": 18,
   "id": "d1abaa66",
   "metadata": {},
   "outputs": [
    {
     "name": "stdout",
     "output_type": "stream",
     "text": [
      "enter the interger:gihgj\n",
      "Nah, you did not enter an integer, please enter integer. ERROR: invalid literal for int() with base 10: 'gihgj'\n",
      "enter the interger:hjj\n",
      "Nah, you did not enter an integer, please enter integer. ERROR: invalid literal for int() with base 10: 'hjj'\n",
      "enter the interger:9\n"
     ]
    },
    {
     "data": {
      "text/plain": [
       "'yes, you have entered an interger'"
      ]
     },
     "execution_count": 18,
     "metadata": {},
     "output_type": "execute_result"
    }
   ],
   "source": [
    "fun1()"
   ]
  },
  {
   "cell_type": "code",
   "execution_count": 34,
   "id": "b4bdf533",
   "metadata": {},
   "outputs": [],
   "source": [
    "def test(a):\n",
    "    if a == \"sjs\":\n",
    "        raise ZeroDivisionError(\"you have entered a negative value dfsa adshgshgsh jhd\" , a)\n",
    "    return a"
   ]
  },
  {
   "cell_type": "code",
   "execution_count": 35,
   "id": "2d12c77c",
   "metadata": {},
   "outputs": [
    {
     "ename": "ZeroDivisionError",
     "evalue": "('you have entered a negative value dfsa adshgshgsh jhd', 'sjs')",
     "output_type": "error",
     "traceback": [
      "\u001b[1;31m---------------------------------------------------------------------------\u001b[0m",
      "\u001b[1;31mZeroDivisionError\u001b[0m                         Traceback (most recent call last)",
      "\u001b[1;32m~\\AppData\\Local\\Temp\\ipykernel_21084\\487591596.py\u001b[0m in \u001b[0;36m<module>\u001b[1;34m\u001b[0m\n\u001b[1;32m----> 1\u001b[1;33m \u001b[0mtest\u001b[0m\u001b[1;33m(\u001b[0m\u001b[1;34m'sjs'\u001b[0m\u001b[1;33m)\u001b[0m\u001b[1;33m\u001b[0m\u001b[1;33m\u001b[0m\u001b[0m\n\u001b[0m",
      "\u001b[1;32m~\\AppData\\Local\\Temp\\ipykernel_21084\\122673742.py\u001b[0m in \u001b[0;36mtest\u001b[1;34m(a)\u001b[0m\n\u001b[0;32m      1\u001b[0m \u001b[1;32mdef\u001b[0m \u001b[0mtest\u001b[0m\u001b[1;33m(\u001b[0m\u001b[0ma\u001b[0m\u001b[1;33m)\u001b[0m\u001b[1;33m:\u001b[0m\u001b[1;33m\u001b[0m\u001b[1;33m\u001b[0m\u001b[0m\n\u001b[0;32m      2\u001b[0m     \u001b[1;32mif\u001b[0m \u001b[0ma\u001b[0m \u001b[1;33m==\u001b[0m \u001b[1;34m\"sjs\"\u001b[0m\u001b[1;33m:\u001b[0m\u001b[1;33m\u001b[0m\u001b[1;33m\u001b[0m\u001b[0m\n\u001b[1;32m----> 3\u001b[1;33m         \u001b[1;32mraise\u001b[0m \u001b[0mZeroDivisionError\u001b[0m\u001b[1;33m(\u001b[0m\u001b[1;34m\"you have entered a negative value dfsa adshgshgsh jhd\"\u001b[0m \u001b[1;33m,\u001b[0m \u001b[0ma\u001b[0m\u001b[1;33m)\u001b[0m\u001b[1;33m\u001b[0m\u001b[1;33m\u001b[0m\u001b[0m\n\u001b[0m\u001b[0;32m      4\u001b[0m     \u001b[1;32mreturn\u001b[0m \u001b[0ma\u001b[0m\u001b[1;33m\u001b[0m\u001b[1;33m\u001b[0m\u001b[0m\n",
      "\u001b[1;31mZeroDivisionError\u001b[0m: ('you have entered a negative value dfsa adshgshgsh jhd', 'sjs')"
     ]
    }
   ],
   "source": [
    "test('sjs')"
   ]
  },
  {
   "cell_type": "code",
   "execution_count": 25,
   "id": "9bd24b8b",
   "metadata": {},
   "outputs": [
    {
     "ename": "IndentationError",
     "evalue": "unindent does not match any outer indentation level (<tokenize>, line 8)",
     "output_type": "error",
     "traceback": [
      "\u001b[1;36m  File \u001b[1;32m\"<tokenize>\"\u001b[1;36m, line \u001b[1;32m8\u001b[0m\n\u001b[1;33m    return a\u001b[0m\n\u001b[1;37m    ^\u001b[0m\n\u001b[1;31mIndentationError\u001b[0m\u001b[1;31m:\u001b[0m unindent does not match any outer indentation level\n"
     ]
    }
   ],
   "source": [
    "try:\n",
    "    d = {\"key1\" : \"sudh\", \"key2\" : [1,2,3,4,5] , \"key3\" : (4,5,6,7,8)}\n",
    "    d[\"key4\"] = int(input())\n",
    "    print(d)\n",
    "except Exception as sjs\n",
    "if a == \"sjs\":\n",
    "        raise ZerodivisionError(\"you have entered a negative value dfsa adshgshgsh jhd\" , a)\n",
    "    return a\n"
   ]
  },
  {
   "cell_type": "code",
   "execution_count": 37,
   "id": "96b18394",
   "metadata": {},
   "outputs": [],
   "source": [
    "def test():\n",
    "    d = {\"key1\" : \"sudh\", \"key2\" : [1,2,3,4,5] , \"key3\" : (4,5,6,7,8)}\n",
    "    d[\"key4\"] = int(input())\n",
    "    if type(d[\"key4\"]) == int:\n",
    "        raise ZeroDivisionError(\"you have entered a negative value dfsa adshgshgsh jhd\" )\n",
    "    return d"
   ]
  },
  {
   "cell_type": "code",
   "execution_count": 38,
   "id": "3fadcb07",
   "metadata": {},
   "outputs": [
    {
     "ename": "TypeError",
     "evalue": "test() takes 0 positional arguments but 1 was given",
     "output_type": "error",
     "traceback": [
      "\u001b[1;31m---------------------------------------------------------------------------\u001b[0m",
      "\u001b[1;31mTypeError\u001b[0m                                 Traceback (most recent call last)",
      "\u001b[1;32m~\\AppData\\Local\\Temp\\ipykernel_21084\\616985720.py\u001b[0m in \u001b[0;36m<module>\u001b[1;34m\u001b[0m\n\u001b[1;32m----> 1\u001b[1;33m \u001b[0mtest\u001b[0m\u001b[1;33m(\u001b[0m\u001b[0md\u001b[0m\u001b[1;33m)\u001b[0m\u001b[1;33m\u001b[0m\u001b[1;33m\u001b[0m\u001b[0m\n\u001b[0m",
      "\u001b[1;31mTypeError\u001b[0m: test() takes 0 positional arguments but 1 was given"
     ]
    }
   ],
   "source": [
    "test(d)"
   ]
  },
  {
   "cell_type": "code",
   "execution_count": 36,
   "id": "1e1f1db7",
   "metadata": {},
   "outputs": [
    {
     "name": "stdout",
     "output_type": "stream",
     "text": [
      "7\n"
     ]
    },
    {
     "ename": "ZeroDivisionError",
     "evalue": "you have entered a negative value dfsa adshgshgsh jhd",
     "output_type": "error",
     "traceback": [
      "\u001b[1;31m---------------------------------------------------------------------------\u001b[0m",
      "\u001b[1;31mZeroDivisionError\u001b[0m                         Traceback (most recent call last)",
      "\u001b[1;32m~\\AppData\\Local\\Temp\\ipykernel_21084\\2250314742.py\u001b[0m in \u001b[0;36m<module>\u001b[1;34m\u001b[0m\n\u001b[0;32m      2\u001b[0m \u001b[0md\u001b[0m\u001b[1;33m[\u001b[0m\u001b[1;34m\"key4\"\u001b[0m\u001b[1;33m]\u001b[0m \u001b[1;33m=\u001b[0m \u001b[0mint\u001b[0m\u001b[1;33m(\u001b[0m\u001b[0minput\u001b[0m\u001b[1;33m(\u001b[0m\u001b[1;33m)\u001b[0m\u001b[1;33m)\u001b[0m\u001b[1;33m\u001b[0m\u001b[1;33m\u001b[0m\u001b[0m\n\u001b[0;32m      3\u001b[0m \u001b[1;32mif\u001b[0m \u001b[0mtype\u001b[0m\u001b[1;33m(\u001b[0m\u001b[0md\u001b[0m\u001b[1;33m[\u001b[0m\u001b[1;34m\"key4\"\u001b[0m\u001b[1;33m]\u001b[0m\u001b[1;33m)\u001b[0m \u001b[1;33m==\u001b[0m \u001b[0mint\u001b[0m\u001b[1;33m:\u001b[0m\u001b[1;33m\u001b[0m\u001b[1;33m\u001b[0m\u001b[0m\n\u001b[1;32m----> 4\u001b[1;33m         \u001b[1;32mraise\u001b[0m \u001b[0mZeroDivisionError\u001b[0m\u001b[1;33m(\u001b[0m\u001b[1;34m\"you have entered a negative value dfsa adshgshgsh jhd\"\u001b[0m \u001b[1;33m)\u001b[0m\u001b[1;33m\u001b[0m\u001b[1;33m\u001b[0m\u001b[0m\n\u001b[0m",
      "\u001b[1;31mZeroDivisionError\u001b[0m: you have entered a negative value dfsa adshgshgsh jhd"
     ]
    }
   ],
   "source": [
    "d = {\"key1\" : \"sudh\", \"key2\" : [1,2,3,4,5] , \"key3\" : (4,5,6,7,8)}\n",
    "d[\"key4\"] = int(input())\n",
    "if type(d[\"key4\"]) == int:\n",
    "        raise ZeroDivisionError(\"you have entered a negative value dfsa adshgshgsh jhd\" )"
   ]
  },
  {
   "cell_type": "code",
   "execution_count": 42,
   "id": "f9592d59",
   "metadata": {},
   "outputs": [
    {
     "name": "stdout",
     "output_type": "stream",
     "text": [
      "-1\n"
     ]
    },
    {
     "ename": "ZeroDivisionError",
     "evalue": "No number below zero",
     "output_type": "error",
     "traceback": [
      "\u001b[1;31m---------------------------------------------------------------------------\u001b[0m",
      "\u001b[1;31mZeroDivisionError\u001b[0m                         Traceback (most recent call last)",
      "\u001b[1;32m~\\AppData\\Local\\Temp\\ipykernel_21084\\4267172673.py\u001b[0m in \u001b[0;36m<module>\u001b[1;34m\u001b[0m\n\u001b[0;32m      2\u001b[0m \u001b[1;33m\u001b[0m\u001b[0m\n\u001b[0;32m      3\u001b[0m \u001b[1;32mif\u001b[0m \u001b[0mx\u001b[0m\u001b[1;33m<\u001b[0m\u001b[1;36m0\u001b[0m\u001b[1;33m:\u001b[0m\u001b[1;33m\u001b[0m\u001b[1;33m\u001b[0m\u001b[0m\n\u001b[1;32m----> 4\u001b[1;33m     \u001b[1;32mraise\u001b[0m \u001b[0mZeroDivisionError\u001b[0m\u001b[1;33m(\u001b[0m\u001b[1;34m\"No number below zero\"\u001b[0m\u001b[1;33m)\u001b[0m\u001b[1;33m\u001b[0m\u001b[1;33m\u001b[0m\u001b[0m\n\u001b[0m",
      "\u001b[1;31mZeroDivisionError\u001b[0m: No number below zero"
     ]
    }
   ],
   "source": [
    "x = int(input())\n",
    "\n",
    "if x<0:\n",
    "    raise ZeroDivisionError(\"No number below zero\")"
   ]
  },
  {
   "cell_type": "code",
   "execution_count": 3,
   "id": "78a7bbd2",
   "metadata": {},
   "outputs": [],
   "source": [
    "def getint(p):\n",
    "    while True:\n",
    "        try:\n",
    "            value = int(int(p))\n",
    "        except ValueError:\n",
    "            print(\"sorry, i didn't understand that.\")\n",
    "            continue\n",
    "            \n",
    "        if value < 0 :\n",
    "            print(\"sorry, your response must not be nagetive\")\n",
    "            continue\n",
    "        else:\n",
    "            break\n",
    "    return value"
   ]
  },
  {
   "cell_type": "code",
   "execution_count": 1,
   "id": "4810e2b6",
   "metadata": {},
   "outputs": [
    {
     "ename": "NameError",
     "evalue": "name 'getint' is not defined",
     "output_type": "error",
     "traceback": [
      "\u001b[1;31m---------------------------------------------------------------------------\u001b[0m",
      "\u001b[1;31mNameError\u001b[0m                                 Traceback (most recent call last)",
      "\u001b[1;32m~\\AppData\\Local\\Temp\\ipykernel_12452\\3662852128.py\u001b[0m in \u001b[0;36m<module>\u001b[1;34m\u001b[0m\n\u001b[1;32m----> 1\u001b[1;33m \u001b[0mgetint\u001b[0m\u001b[1;33m(\u001b[0m\u001b[1;33m-\u001b[0m\u001b[1;36m1\u001b[0m\u001b[1;33m)\u001b[0m\u001b[1;33m\u001b[0m\u001b[1;33m\u001b[0m\u001b[0m\n\u001b[0m",
      "\u001b[1;31mNameError\u001b[0m: name 'getint' is not defined"
     ]
    }
   ],
   "source": [
    "getint(-1)"
   ]
  },
  {
   "cell_type": "code",
   "execution_count": 2,
   "id": "c01fefee",
   "metadata": {},
   "outputs": [
    {
     "name": "stdout",
     "output_type": "stream",
     "text": [
      "-1\n"
     ]
    },
    {
     "ename": "ZeroDivisionError",
     "evalue": "No number below zero",
     "output_type": "error",
     "traceback": [
      "\u001b[1;31m---------------------------------------------------------------------------\u001b[0m",
      "\u001b[1;31mZeroDivisionError\u001b[0m                         Traceback (most recent call last)",
      "\u001b[1;32m~\\AppData\\Local\\Temp\\ipykernel_12452\\4267172673.py\u001b[0m in \u001b[0;36m<module>\u001b[1;34m\u001b[0m\n\u001b[0;32m      2\u001b[0m \u001b[1;33m\u001b[0m\u001b[0m\n\u001b[0;32m      3\u001b[0m \u001b[1;32mif\u001b[0m \u001b[0mx\u001b[0m\u001b[1;33m<\u001b[0m\u001b[1;36m0\u001b[0m\u001b[1;33m:\u001b[0m\u001b[1;33m\u001b[0m\u001b[1;33m\u001b[0m\u001b[0m\n\u001b[1;32m----> 4\u001b[1;33m     \u001b[1;32mraise\u001b[0m \u001b[0mZeroDivisionError\u001b[0m\u001b[1;33m(\u001b[0m\u001b[1;34m\"No number below zero\"\u001b[0m\u001b[1;33m)\u001b[0m\u001b[1;33m\u001b[0m\u001b[1;33m\u001b[0m\u001b[0m\n\u001b[0m",
      "\u001b[1;31mZeroDivisionError\u001b[0m: No number below zero"
     ]
    }
   ],
   "source": [
    "x = int(input())\n",
    "\n",
    "if x<0:\n",
    "    raise ZeroDivisionError(\"No number below zero\")"
   ]
  },
  {
   "cell_type": "code",
   "execution_count": 13,
   "id": "46a23a0e",
   "metadata": {},
   "outputs": [
    {
     "ename": "ZeroDivisionError",
     "evalue": "names are not accepted",
     "output_type": "error",
     "traceback": [
      "\u001b[1;31m---------------------------------------------------------------------------\u001b[0m",
      "\u001b[1;31mZeroDivisionError\u001b[0m                         Traceback (most recent call last)",
      "\u001b[1;32m~\\AppData\\Local\\Temp\\ipykernel_12452\\2224014762.py\u001b[0m in \u001b[0;36m<module>\u001b[1;34m\u001b[0m\n\u001b[0;32m      2\u001b[0m \u001b[1;32mfor\u001b[0m \u001b[0mi\u001b[0m \u001b[1;32min\u001b[0m \u001b[0ml\u001b[0m\u001b[1;33m:\u001b[0m\u001b[1;33m\u001b[0m\u001b[1;33m\u001b[0m\u001b[0m\n\u001b[0;32m      3\u001b[0m     \u001b[1;32mif\u001b[0m \u001b[0mtype\u001b[0m\u001b[1;33m(\u001b[0m\u001b[0mi\u001b[0m\u001b[1;33m)\u001b[0m \u001b[1;33m==\u001b[0m \u001b[0mint\u001b[0m\u001b[1;33m:\u001b[0m\u001b[1;33m\u001b[0m\u001b[1;33m\u001b[0m\u001b[0m\n\u001b[1;32m----> 4\u001b[1;33m         \u001b[1;32mraise\u001b[0m \u001b[0mZeroDivisionError\u001b[0m\u001b[1;33m(\u001b[0m\u001b[1;34m\"names are not accepted\"\u001b[0m\u001b[1;33m)\u001b[0m\u001b[1;33m\u001b[0m\u001b[1;33m\u001b[0m\u001b[0m\n\u001b[0m",
      "\u001b[1;31mZeroDivisionError\u001b[0m: names are not accepted"
     ]
    }
   ],
   "source": [
    "l=['jalpa','x',2,3,4,5]\n",
    "for i in l:\n",
    "    if type(i) == int:\n",
    "        raise ZeroDivisionError(\"names are not accepted\")"
   ]
  },
  {
   "cell_type": "code",
   "execution_count": 18,
   "id": "872548ff",
   "metadata": {},
   "outputs": [
    {
     "ename": "ZeroDivisionError",
     "evalue": "name are not accepted",
     "output_type": "error",
     "traceback": [
      "\u001b[1;31m---------------------------------------------------------------------------\u001b[0m",
      "\u001b[1;31mZeroDivisionError\u001b[0m                         Traceback (most recent call last)",
      "\u001b[1;32m~\\AppData\\Local\\Temp\\ipykernel_12452\\182018755.py\u001b[0m in \u001b[0;36m<module>\u001b[1;34m\u001b[0m\n\u001b[0;32m      2\u001b[0m \u001b[1;32mfor\u001b[0m \u001b[0mi\u001b[0m \u001b[1;32min\u001b[0m \u001b[0ma\u001b[0m\u001b[1;33m:\u001b[0m\u001b[1;33m\u001b[0m\u001b[1;33m\u001b[0m\u001b[0m\n\u001b[0;32m      3\u001b[0m     \u001b[1;32mif\u001b[0m \u001b[0mi\u001b[0m\u001b[1;33m%\u001b[0m\u001b[1;36m2\u001b[0m \u001b[1;33m==\u001b[0m \u001b[1;36m0\u001b[0m\u001b[1;33m:\u001b[0m\u001b[1;33m\u001b[0m\u001b[1;33m\u001b[0m\u001b[0m\n\u001b[1;32m----> 4\u001b[1;33m         \u001b[1;32mraise\u001b[0m \u001b[0mZeroDivisionError\u001b[0m\u001b[1;33m(\u001b[0m\u001b[1;34m\"name are not accepted\"\u001b[0m\u001b[1;33m)\u001b[0m\u001b[1;33m\u001b[0m\u001b[1;33m\u001b[0m\u001b[0m\n\u001b[0m",
      "\u001b[1;31mZeroDivisionError\u001b[0m: name are not accepted"
     ]
    }
   ],
   "source": [
    "a = [1,2,3,4,5]\n",
    "for i in a:\n",
    "    if i%2 == 0:\n",
    "        raise ZeroDivisionError(\"name are not accepted\")"
   ]
  },
  {
   "cell_type": "code",
   "execution_count": null,
   "id": "28432fe7",
   "metadata": {},
   "outputs": [],
   "source": []
  }
 ],
 "metadata": {
  "kernelspec": {
   "display_name": "Python 3 (ipykernel)",
   "language": "python",
   "name": "python3"
  },
  "language_info": {
   "codemirror_mode": {
    "name": "ipython",
    "version": 3
   },
   "file_extension": ".py",
   "mimetype": "text/x-python",
   "name": "python",
   "nbconvert_exporter": "python",
   "pygments_lexer": "ipython3",
   "version": "3.9.13"
  }
 },
 "nbformat": 4,
 "nbformat_minor": 5
}
