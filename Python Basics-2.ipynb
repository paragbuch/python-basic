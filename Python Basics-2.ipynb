{
 "cells": [
  {
   "cell_type": "markdown",
   "id": "60f42e8f",
   "metadata": {},
   "source": [
    "# What is Python?\n",
    "- Python is a popular programming language. It was created by Guido van Rossum, and released in 1991.\n",
    "\n",
    "#### It is used for:\n",
    "- web development (server-side),\n",
    "- software development,\n",
    "- mathematics,\n",
    "- system scripting."
   ]
  },
  {
   "cell_type": "code",
   "execution_count": 3,
   "id": "9dfee8a4",
   "metadata": {},
   "outputs": [
    {
     "data": {
      "text/plain": [
       "'Hello World'"
      ]
     },
     "execution_count": 3,
     "metadata": {},
     "output_type": "execute_result"
    }
   ],
   "source": [
    "'Hello World'"
   ]
  },
  {
   "cell_type": "code",
   "execution_count": 4,
   "id": "509ede90",
   "metadata": {},
   "outputs": [
    {
     "name": "stdout",
     "output_type": "stream",
     "text": [
      "hello\n"
     ]
    }
   ],
   "source": [
    "print('hello')"
   ]
  },
  {
   "cell_type": "markdown",
   "id": "51e66863",
   "metadata": {},
   "source": [
    "# Variables\n",
    "- Variables are containers for storing data values."
   ]
  },
  {
   "cell_type": "code",
   "execution_count": 1,
   "id": "47acf78a",
   "metadata": {},
   "outputs": [],
   "source": [
    "a = \"Tirth Modi\""
   ]
  },
  {
   "cell_type": "code",
   "execution_count": 3,
   "id": "f9f0ec51",
   "metadata": {},
   "outputs": [
    {
     "data": {
      "text/plain": [
       "'Tirth Modi'"
      ]
     },
     "execution_count": 3,
     "metadata": {},
     "output_type": "execute_result"
    }
   ],
   "source": [
    "a"
   ]
  },
  {
   "cell_type": "code",
   "execution_count": 4,
   "id": "878aa6a1-1eb8-4de9-b2b0-2d2b2a0e9249",
   "metadata": {},
   "outputs": [
    {
     "name": "stdout",
     "output_type": "stream",
     "text": [
      "Tirth Modi\n"
     ]
    }
   ],
   "source": [
    "print(a)"
   ]
  },
  {
   "cell_type": "code",
   "execution_count": 7,
   "id": "6892d272",
   "metadata": {},
   "outputs": [
    {
     "name": "stdout",
     "output_type": "stream",
     "text": [
      "Good Morning Tirth Modi\n"
     ]
    }
   ],
   "source": [
    "print('Good Morning',a)"
   ]
  },
  {
   "cell_type": "code",
   "execution_count": 10,
   "id": "10ee7b4d",
   "metadata": {},
   "outputs": [],
   "source": [
    "a='Tirth'\n",
    "b='Modi'"
   ]
  },
  {
   "cell_type": "code",
   "execution_count": 11,
   "id": "3e719ae4",
   "metadata": {},
   "outputs": [
    {
     "name": "stdout",
     "output_type": "stream",
     "text": [
      "Tirth\n",
      "Modi\n"
     ]
    }
   ],
   "source": [
    "print(a)\n",
    "print(b)"
   ]
  },
  {
   "cell_type": "code",
   "execution_count": 12,
   "id": "10c153f2",
   "metadata": {},
   "outputs": [
    {
     "data": {
      "text/plain": [
       "'TirthModi'"
      ]
     },
     "execution_count": 12,
     "metadata": {},
     "output_type": "execute_result"
    }
   ],
   "source": [
    "a+b"
   ]
  },
  {
   "cell_type": "code",
   "execution_count": 13,
   "id": "eaaa9f02",
   "metadata": {},
   "outputs": [
    {
     "name": "stdout",
     "output_type": "stream",
     "text": [
      "My Full Name  Tirth Modi\n"
     ]
    }
   ],
   "source": [
    "print('My Full Name ',a+\" \"+b)"
   ]
  },
  {
   "cell_type": "code",
   "execution_count": 14,
   "id": "e0cf04ca",
   "metadata": {},
   "outputs": [],
   "source": [
    "a=10"
   ]
  },
  {
   "cell_type": "code",
   "execution_count": 15,
   "id": "ca102f11",
   "metadata": {},
   "outputs": [],
   "source": [
    "b=5"
   ]
  },
  {
   "cell_type": "code",
   "execution_count": 16,
   "id": "d7659e1f",
   "metadata": {},
   "outputs": [
    {
     "data": {
      "text/plain": [
       "15"
      ]
     },
     "execution_count": 16,
     "metadata": {},
     "output_type": "execute_result"
    }
   ],
   "source": [
    "a+b"
   ]
  },
  {
   "cell_type": "code",
   "execution_count": 17,
   "id": "aca3390e",
   "metadata": {},
   "outputs": [
    {
     "data": {
      "text/plain": [
       "5"
      ]
     },
     "execution_count": 17,
     "metadata": {},
     "output_type": "execute_result"
    }
   ],
   "source": [
    "a-b"
   ]
  },
  {
   "cell_type": "code",
   "execution_count": 18,
   "id": "510d2f2f",
   "metadata": {},
   "outputs": [
    {
     "data": {
      "text/plain": [
       "50"
      ]
     },
     "execution_count": 18,
     "metadata": {},
     "output_type": "execute_result"
    }
   ],
   "source": [
    "a*b"
   ]
  },
  {
   "cell_type": "code",
   "execution_count": 19,
   "id": "87be9bbd",
   "metadata": {},
   "outputs": [
    {
     "data": {
      "text/plain": [
       "2.0"
      ]
     },
     "execution_count": 19,
     "metadata": {},
     "output_type": "execute_result"
    }
   ],
   "source": [
    "a/b"
   ]
  },
  {
   "cell_type": "code",
   "execution_count": 20,
   "id": "4e9aff72-e6eb-4765-81ad-320bd4ab142e",
   "metadata": {},
   "outputs": [],
   "source": [
    "c = 50.2"
   ]
  },
  {
   "cell_type": "code",
   "execution_count": 21,
   "id": "0d1c5644-9d46-4f5e-8e58-86c114fc49cf",
   "metadata": {},
   "outputs": [],
   "source": [
    "d = 25"
   ]
  },
  {
   "cell_type": "code",
   "execution_count": 22,
   "id": "a1a637c9-76b7-48c7-9516-7bee0eb8748b",
   "metadata": {},
   "outputs": [
    {
     "data": {
      "text/plain": [
       "75.2"
      ]
     },
     "execution_count": 22,
     "metadata": {},
     "output_type": "execute_result"
    }
   ],
   "source": [
    "c+d"
   ]
  },
  {
   "cell_type": "code",
   "execution_count": 23,
   "id": "7d7afd2d-ae0e-42a0-a445-4980c2ad2408",
   "metadata": {},
   "outputs": [
    {
     "data": {
      "text/plain": [
       "25.200000000000003"
      ]
     },
     "execution_count": 23,
     "metadata": {},
     "output_type": "execute_result"
    }
   ],
   "source": [
    "c-d"
   ]
  },
  {
   "cell_type": "code",
   "execution_count": 24,
   "id": "a6cde1d1",
   "metadata": {},
   "outputs": [
    {
     "name": "stdin",
     "output_type": "stream",
     "text": [
      "Enter Integer:-  55\n",
      "Enter String:-  Parag\n",
      "Enter Float:-  55\n",
      "Enter Number:-  55.55\n",
      "Enter Value:-  Buch\n"
     ]
    },
    {
     "name": "stdout",
     "output_type": "stream",
     "text": [
      "55\n",
      "Parag\n",
      "55.0\n",
      "55.55\n",
      "Buch\n"
     ]
    }
   ],
   "source": [
    "a = int(input(\"Enter Integer:- \"))\n",
    "b = str(input(\"Enter String:- \"))\n",
    "c = float(input(\"Enter Float:- \")) \n",
    "d = eval(input(\"Enter Number:- \"))\n",
    "e = input(\"Enter Value:- \")\n",
    "print(a)\n",
    "print(b)\n",
    "print(c)\n",
    "print(d)\n",
    "print(e)"
   ]
  },
  {
   "cell_type": "code",
   "execution_count": null,
   "id": "575dd89d-cd6a-45b3-8750-88e75c33b56e",
   "metadata": {},
   "outputs": [],
   "source": []
  },
  {
   "cell_type": "code",
   "execution_count": 25,
   "id": "83d1fbbd-c1e4-40f1-9301-a33839bcff69",
   "metadata": {},
   "outputs": [
    {
     "name": "stdout",
     "output_type": "stream",
     "text": [
      "55\n",
      "Parag\n",
      "55.0\n",
      "55.55\n",
      "Buch\n"
     ]
    }
   ],
   "source": [
    "print(a)\n",
    "print(b)\n",
    "print(c)\n",
    "print(d)\n",
    "print(e)"
   ]
  },
  {
   "cell_type": "code",
   "execution_count": 26,
   "id": "abdc57ec",
   "metadata": {},
   "outputs": [
    {
     "name": "stdout",
     "output_type": "stream",
     "text": [
      "12,8,20,5.0\n"
     ]
    }
   ],
   "source": [
    "a=10\n",
    "b=2\n",
    "print(a+b,a-b,a*b,a/b, sep=\",\")"
   ]
  },
  {
   "cell_type": "code",
   "execution_count": 27,
   "id": "8a115411",
   "metadata": {},
   "outputs": [
    {
     "name": "stdout",
     "output_type": "stream",
     "text": [
      "12\n",
      "8\n",
      "20\n",
      "5.0\n"
     ]
    }
   ],
   "source": [
    "print(a+b)\n",
    "print(a-b)\n",
    "print(a*b)\n",
    "print(a/b)"
   ]
  },
  {
   "cell_type": "code",
   "execution_count": 28,
   "id": "a1a66681",
   "metadata": {},
   "outputs": [],
   "source": [
    "a=0.5"
   ]
  },
  {
   "cell_type": "code",
   "execution_count": 29,
   "id": "6ae2a927",
   "metadata": {},
   "outputs": [
    {
     "data": {
      "text/plain": [
       "float"
      ]
     },
     "execution_count": 29,
     "metadata": {},
     "output_type": "execute_result"
    }
   ],
   "source": [
    "type(a)"
   ]
  },
  {
   "cell_type": "code",
   "execution_count": 30,
   "id": "05b56cd3",
   "metadata": {},
   "outputs": [],
   "source": [
    "b=5"
   ]
  },
  {
   "cell_type": "code",
   "execution_count": 31,
   "id": "d3ca614f",
   "metadata": {},
   "outputs": [
    {
     "data": {
      "text/plain": [
       "int"
      ]
     },
     "execution_count": 31,
     "metadata": {},
     "output_type": "execute_result"
    }
   ],
   "source": [
    "type(b)"
   ]
  },
  {
   "cell_type": "code",
   "execution_count": 32,
   "id": "aed74e77",
   "metadata": {},
   "outputs": [],
   "source": [
    "c='Tirth'"
   ]
  },
  {
   "cell_type": "code",
   "execution_count": 33,
   "id": "9c38a16f",
   "metadata": {},
   "outputs": [
    {
     "data": {
      "text/plain": [
       "str"
      ]
     },
     "execution_count": 33,
     "metadata": {},
     "output_type": "execute_result"
    }
   ],
   "source": [
    "type(c)"
   ]
  },
  {
   "cell_type": "code",
   "execution_count": 34,
   "id": "b7ff2986",
   "metadata": {},
   "outputs": [],
   "source": [
    "d=8+8j"
   ]
  },
  {
   "cell_type": "code",
   "execution_count": 35,
   "id": "e9048f5e",
   "metadata": {},
   "outputs": [
    {
     "data": {
      "text/plain": [
       "complex"
      ]
     },
     "execution_count": 35,
     "metadata": {},
     "output_type": "execute_result"
    }
   ],
   "source": [
    "type(d)"
   ]
  },
  {
   "cell_type": "code",
   "execution_count": 36,
   "id": "4eee808d",
   "metadata": {},
   "outputs": [
    {
     "name": "stdin",
     "output_type": "stream",
     "text": [
      "Enter the Number:  55\n"
     ]
    },
    {
     "name": "stdout",
     "output_type": "stream",
     "text": [
      "55\n"
     ]
    }
   ],
   "source": [
    "n= input(\"Enter the Number: \")\n",
    "print(n)"
   ]
  },
  {
   "cell_type": "code",
   "execution_count": 37,
   "id": "09c2aa94-a1cb-43d1-ac96-0a26744fefcc",
   "metadata": {},
   "outputs": [],
   "source": [
    "a= 'tirth'"
   ]
  },
  {
   "cell_type": "code",
   "execution_count": 38,
   "id": "e1bc2f06",
   "metadata": {},
   "outputs": [
    {
     "name": "stdin",
     "output_type": "stream",
     "text": [
      "tirth 55\n"
     ]
    },
    {
     "data": {
      "text/plain": [
       "'55'"
      ]
     },
     "execution_count": 38,
     "metadata": {},
     "output_type": "execute_result"
    }
   ],
   "source": [
    "input(a)"
   ]
  },
  {
   "cell_type": "code",
   "execution_count": 39,
   "id": "8e9ebe09",
   "metadata": {},
   "outputs": [],
   "source": [
    "a=6\n",
    "b=5"
   ]
  },
  {
   "cell_type": "code",
   "execution_count": 40,
   "id": "a3553c78",
   "metadata": {},
   "outputs": [
    {
     "data": {
      "text/plain": [
       "False"
      ]
     },
     "execution_count": 40,
     "metadata": {},
     "output_type": "execute_result"
    }
   ],
   "source": [
    "a<b"
   ]
  },
  {
   "cell_type": "code",
   "execution_count": 41,
   "id": "b22310bf",
   "metadata": {},
   "outputs": [
    {
     "data": {
      "text/plain": [
       "True"
      ]
     },
     "execution_count": 41,
     "metadata": {},
     "output_type": "execute_result"
    }
   ],
   "source": [
    "a>b"
   ]
  },
  {
   "cell_type": "code",
   "execution_count": 42,
   "id": "3131d2be",
   "metadata": {},
   "outputs": [],
   "source": [
    "a='Tirth Modi'"
   ]
  },
  {
   "cell_type": "code",
   "execution_count": 43,
   "id": "bfa861dc-3d7f-4803-b275-8ee022725873",
   "metadata": {},
   "outputs": [
    {
     "data": {
      "text/plain": [
       "'Tirth Modi'"
      ]
     },
     "execution_count": 43,
     "metadata": {},
     "output_type": "execute_result"
    }
   ],
   "source": [
    "a"
   ]
  },
  {
   "cell_type": "code",
   "execution_count": 44,
   "id": "39511421",
   "metadata": {},
   "outputs": [
    {
     "data": {
      "text/plain": [
       "'h'"
      ]
     },
     "execution_count": 44,
     "metadata": {},
     "output_type": "execute_result"
    }
   ],
   "source": [
    "a[4]"
   ]
  },
  {
   "cell_type": "code",
   "execution_count": 45,
   "id": "07ba3380",
   "metadata": {},
   "outputs": [
    {
     "data": {
      "text/plain": [
       "'h'"
      ]
     },
     "execution_count": 45,
     "metadata": {},
     "output_type": "execute_result"
    }
   ],
   "source": [
    "a[-6]"
   ]
  },
  {
   "cell_type": "code",
   "execution_count": 46,
   "id": "a7f46506",
   "metadata": {},
   "outputs": [
    {
     "data": {
      "text/plain": [
       "10"
      ]
     },
     "execution_count": 46,
     "metadata": {},
     "output_type": "execute_result"
    }
   ],
   "source": [
    "len(a)"
   ]
  },
  {
   "cell_type": "code",
   "execution_count": 47,
   "id": "50f9ddc7",
   "metadata": {},
   "outputs": [],
   "source": [
    "n = 1,2,3,4,5,6,7,8,9,10,11"
   ]
  },
  {
   "cell_type": "code",
   "execution_count": 48,
   "id": "67e5dbce",
   "metadata": {},
   "outputs": [
    {
     "data": {
      "text/plain": [
       "(4, 5, 6, 7, 8, 9)"
      ]
     },
     "execution_count": 48,
     "metadata": {},
     "output_type": "execute_result"
    }
   ],
   "source": [
    "n[3:-2]"
   ]
  },
  {
   "cell_type": "code",
   "execution_count": 49,
   "id": "c24d74ea",
   "metadata": {},
   "outputs": [
    {
     "data": {
      "text/plain": [
       "(1, 3, 5, 7, 9, 11)"
      ]
     },
     "execution_count": 49,
     "metadata": {},
     "output_type": "execute_result"
    }
   ],
   "source": [
    "n[0:11:2]"
   ]
  },
  {
   "cell_type": "code",
   "execution_count": 50,
   "id": "6465238a-f669-4c6b-92d8-0e6427ca5b31",
   "metadata": {},
   "outputs": [
    {
     "data": {
      "text/plain": [
       "(11, 10, 9, 8, 7, 6, 5, 4, 3, 2, 1)"
      ]
     },
     "execution_count": 50,
     "metadata": {},
     "output_type": "execute_result"
    }
   ],
   "source": [
    "n[::-1]"
   ]
  },
  {
   "cell_type": "code",
   "execution_count": 51,
   "id": "b5361a2e-1adb-4ce4-b276-d9f8adb0af3c",
   "metadata": {},
   "outputs": [
    {
     "name": "stdout",
     "output_type": "stream",
     "text": [
      "5 is less than 6\n"
     ]
    }
   ],
   "source": [
    "if 5<6:\n",
    "    print(\"5 is less than 6\")"
   ]
  },
  {
   "cell_type": "code",
   "execution_count": 52,
   "id": "f7d1008d",
   "metadata": {},
   "outputs": [],
   "source": [
    "if 5>6:\n",
    "    print(\"5 is more than 6\")"
   ]
  },
  {
   "cell_type": "markdown",
   "id": "10e38866",
   "metadata": {},
   "source": [
    "# if\n",
    "# else"
   ]
  },
  {
   "cell_type": "code",
   "execution_count": 3,
   "id": "b4dd70d1",
   "metadata": {},
   "outputs": [
    {
     "name": "stdin",
     "output_type": "stream",
     "text": [
      "Enter The Number of b:-  55\n"
     ]
    },
    {
     "name": "stdout",
     "output_type": "stream",
     "text": [
      "55 is bigger than 55\n",
      "55 is bigger than  55\n"
     ]
    }
   ],
   "source": [
    "##### a = int(input(\"Enter The Number of a:- \"))\n",
    "b = int(input(\"Enter The Number of b:- \"))\n",
    "if a<b :\n",
    "    print(f\"{a} is less than {b}\")\n",
    "    print(a, \"is less than\",b)\n",
    "else:\n",
    "    print(f\"{a} is bigger than {b}\")\n",
    "    print(a, \"is bigger than \",b)"
   ]
  },
  {
   "cell_type": "code",
   "execution_count": 55,
   "id": "40e187ab-1b96-4c73-ba32-8c54aa3b2a33",
   "metadata": {},
   "outputs": [
    {
     "name": "stdin",
     "output_type": "stream",
     "text": [
      "enter the string:-  Parag\n",
      "enter the string:-  Parag\n"
     ]
    },
    {
     "name": "stdout",
     "output_type": "stream",
     "text": [
      "both are same\n"
     ]
    }
   ],
   "source": [
    "a=str(input(\"enter the string:- \"))\n",
    "b=str(input(\"enter the string:- \"))\n",
    "if a==b:\n",
    "    print(\"both are same\")\n",
    "else:\n",
    "    print(\"both are not same\") "
   ]
  },
  {
   "cell_type": "code",
   "execution_count": 56,
   "id": "a92ca767",
   "metadata": {},
   "outputs": [
    {
     "name": "stdin",
     "output_type": "stream",
     "text": [
      "len of string:-  10\n",
      "len of string:-  10\n"
     ]
    },
    {
     "name": "stdout",
     "output_type": "stream",
     "text": [
      "both are same\n"
     ]
    }
   ],
   "source": [
    "a=str(input(\"len of string:- \"))\n",
    "b=str(input(\"len of string:- \"))\n",
    "if len(a)==len(b):\n",
    "    print(\"both are same\")\n",
    "else:\n",
    "    print(\"both are not same\")"
   ]
  },
  {
   "cell_type": "code",
   "execution_count": 57,
   "id": "cfa8ebe5",
   "metadata": {},
   "outputs": [
    {
     "name": "stdin",
     "output_type": "stream",
     "text": [
      "enter the value of a:  4\n"
     ]
    },
    {
     "name": "stdout",
     "output_type": "stream",
     "text": [
      "this is even number\n"
     ]
    }
   ],
   "source": [
    "a=int(input(\"enter the value of a: \"))\n",
    "if a%2==0:\n",
    "    print(\"this is even number\")\n",
    "else:\n",
    "    print(\"this is odd number\")"
   ]
  },
  {
   "cell_type": "code",
   "execution_count": 58,
   "id": "3747ea8b",
   "metadata": {},
   "outputs": [
    {
     "name": "stdin",
     "output_type": "stream",
     "text": [
      "Enter The Number:-  0\n"
     ]
    },
    {
     "name": "stdout",
     "output_type": "stream",
     "text": [
      "You Enter Zero\n"
     ]
    }
   ],
   "source": [
    "a=int(input(\"Enter The Number:- \"))\n",
    "if a<=0:\n",
    "    if a==0:\n",
    "        print(\"You Enter Zero\")\n",
    "    else:\n",
    "        print (f\"{a} is Less Then 0\")\n",
    "else:\n",
    "    print (f\"{a} is Bigger Then 0\")"
   ]
  },
  {
   "cell_type": "code",
   "execution_count": 59,
   "id": "76488687",
   "metadata": {},
   "outputs": [
    {
     "name": "stdin",
     "output_type": "stream",
     "text": [
      "Enter First Name:-  Parag\n",
      "Enter Middle Name:-  M\n",
      "Enter Last Name:-  Buch\n"
     ]
    },
    {
     "name": "stdout",
     "output_type": "stream",
     "text": [
      "My Full Name is Parag M Buch\n"
     ]
    }
   ],
   "source": [
    "a=input(\"Enter First Name:- \")\n",
    "b=input(\"Enter Middle Name:- \")\n",
    "c=input(\"Enter Last Name:- \")\n",
    "print(\"My Full Name is\", a+\" \"+b+\" \"+c)"
   ]
  },
  {
   "cell_type": "code",
   "execution_count": 7,
   "id": "3f5bbb07",
   "metadata": {},
   "outputs": [
    {
     "name": "stdin",
     "output_type": "stream",
     "text": [
      "Enter value of a 10\n",
      "Enter value of b 8\n",
      "Enter value of c 6\n",
      "Enter value of d 4\n"
     ]
    },
    {
     "name": "stdout",
     "output_type": "stream",
     "text": [
      "20\n"
     ]
    }
   ],
   "source": [
    "a= eval(input(\"Enter value of a\"))\n",
    "b= eval(input(\"Enter value of b\"))\n",
    "c= eval(input(\"Enter value of c\"))\n",
    "d= eval(input(\"Enter value of d\"))\n",
    "ans = (a+b+c)-d\n",
    "print(ans)"
   ]
  },
  {
   "cell_type": "code",
   "execution_count": null,
   "id": "e91fc9fa",
   "metadata": {},
   "outputs": [],
   "source": [
    "Task: Ask the user to enter a number. print out the square of the number, but use the sep optional argument \n",
    "    to print it out in a full sentence that ends in a period. sample output is shown below."
   ]
  },
  {
   "cell_type": "code",
   "execution_count": 9,
   "id": "49ba0017-8ca3-45d4-b0dd-59c7c100a2ce",
   "metadata": {},
   "outputs": [
    {
     "name": "stdin",
     "output_type": "stream",
     "text": [
      "Please Enter Number:-  4\n"
     ]
    },
    {
     "name": "stdout",
     "output_type": "stream",
     "text": [
      "4 Square Of 16\n",
      "4 Square Of  16\n"
     ]
    }
   ],
   "source": [
    "n = eval(input(\"Please Enter Number:- \"))\n",
    "ans = n*n\n",
    "print(f\"{n} Square Of {ans}\")\n",
    "print(n,\"Square Of \",ans)"
   ]
  },
  {
   "cell_type": "code",
   "execution_count": 17,
   "id": "eb912bc7-beef-4634-a6e3-da255b4f5cfd",
   "metadata": {},
   "outputs": [
    {
     "name": "stdin",
     "output_type": "stream",
     "text": [
      "Please Enter Number:-  10.4\n"
     ]
    },
    {
     "name": "stdout",
     "output_type": "stream",
     "text": [
      "The Square of 10.4 is 108.16000000000001 .\n"
     ]
    }
   ],
   "source": [
    "number = float(input(\"Please Enter Number:- \"))\n",
    "Square = number ** 2\n",
    "print(\"The Square of\", number, \"is\", Square, \".\")"
   ]
  },
  {
   "cell_type": "markdown",
   "id": "558bf73e-446b-4ce0-9fde-fc2fb016cff2",
   "metadata": {},
   "source": [
    "# Question\n",
    "### Write a function grade_student(score) that categorizes a student's score into grades based on the following criteria using only if and else:\n",
    "\n",
    "- \"A\" for scores 90 and above\n",
    "- \"B\" for scores between 80 and 89\n",
    "- \"C\" for scores between 70 and 79\n",
    "- \"D\" for scores between 60 and 69\n",
    "- \"F\" for scores below 60"
   ]
  },
  {
   "cell_type": "code",
   "execution_count": 28,
   "id": "bb0718c9-a5b3-422c-8a24-7c81c0c152cf",
   "metadata": {},
   "outputs": [
    {
     "name": "stdin",
     "output_type": "stream",
     "text": [
      "Enter the student's score:  50\n"
     ]
    },
    {
     "name": "stdout",
     "output_type": "stream",
     "text": [
      "The grade for a score of 50.0 is Fail .\n"
     ]
    }
   ],
   "source": [
    "score = float(input(\"Enter the student's score: \"))\n",
    "if score >= 90:\n",
    "    grade = \"A\"\n",
    "else:\n",
    "    if score >= 80:\n",
    "        grade = \"B\"\n",
    "    else:\n",
    "        if score >= 70:\n",
    "            grade = \"C\"\n",
    "        else:\n",
    "            if score >= 60:\n",
    "                grade = \"D\"\n",
    "            else:\n",
    "                grade = \"Fail\"\n",
    "print(\"The grade for a score of\", score, \"is\", grade, \".\", sep=\" \")"
   ]
  },
  {
   "cell_type": "code",
   "execution_count": 32,
   "id": "7198e4a4",
   "metadata": {},
   "outputs": [
    {
     "name": "stdin",
     "output_type": "stream",
     "text": [
      "Enter Value of a 10\n"
     ]
    },
    {
     "name": "stdout",
     "output_type": "stream",
     "text": [
      "10---20---30---40---50---60---70---80---90---100\n"
     ]
    }
   ],
   "source": [
    "a= eval(input(\"Enter Value of a\"))\n",
    "print(a,a*2,a*3,a*4,a*5,a*6,a*7,a*8,a*9,a*10,sep=\"---\")"
   ]
  },
  {
   "cell_type": "markdown",
   "id": "57df2073-7949-4203-9403-d8f7df9d584e",
   "metadata": {},
   "source": [
    "- write a program that asks the user to enter three numbers (use three separate input statements).\n",
    "create variables called total and average that hold the sum and average of the three numbers and \n",
    "print out the values of total and average."
   ]
  },
  {
   "cell_type": "code",
   "execution_count": 15,
   "id": "b49d3c9a",
   "metadata": {},
   "outputs": [
    {
     "name": "stdin",
     "output_type": "stream",
     "text": [
      "Enter value of Bill A:- 5000\n",
      "Enter Value Of Tip:- 100\n"
     ]
    },
    {
     "name": "stdout",
     "output_type": "stream",
     "text": [
      "Totla Bill:- 5000 /-\n",
      "Total Percentage of Tip:-  0.5 %\n",
      "Final Amount Of Bill With 18% Gst:-  5899.41 /-\n"
     ]
    }
   ],
   "source": [
    "a = eval(input(\"Enter value of Bill A:-\"))\n",
    "b = eval(input(\"Enter Value Of Tip:-\"))\n",
    "ans= (a/b)/100\n",
    "ans1=(a-ans)\n",
    "ans2=(ans1*0.18)\n",
    "\n",
    "print(\"Totla Bill:-\", a,\"/-\")\n",
    "print(\"Total Percentage of Tip:- \", ans,\"%\")\n",
    "print(\"Final Amount Of Bill With 18% Gst:- \", ans1+ans2,\"/-\")"
   ]
  },
  {
   "cell_type": "code",
   "execution_count": 21,
   "id": "5b9cc1fa",
   "metadata": {},
   "outputs": [
    {
     "name": "stdin",
     "output_type": "stream",
     "text": [
      "Enter the Price Of the Meal:  5000\n",
      "Enter the tip Percentage you want to leave:-  5\n"
     ]
    },
    {
     "name": "stdout",
     "output_type": "stream",
     "text": [
      "Tip amount: 250.0\n",
      "Total Bill With Tip: 5250.0\n"
     ]
    }
   ],
   "source": [
    "def calculate_tip():\n",
    "    meal_price = float(input(\"Enter the Price Of the Meal: \"))\n",
    "    tip_percent = float(input(\"Enter the tip Percentage you want to leave:- \"))\n",
    "    tip_amount = meal_price * (tip_percent / 100)\n",
    "    total_bill = meal_price + tip_amount\n",
    "    \n",
    "    print(f\"Tip amount: {tip_amount:}\")\n",
    "    print(f\"Total Bill With Tip: {total_bill:}\")\n",
    "    \n",
    "calculate_tip()"
   ]
  },
  {
   "cell_type": "code",
   "execution_count": 23,
   "id": "5f081caa",
   "metadata": {},
   "outputs": [
    {
     "name": "stdin",
     "output_type": "stream",
     "text": [
      "Enter Value Of a:-  10\n"
     ]
    },
    {
     "name": "stdout",
     "output_type": "stream",
     "text": [
      "10 is greater than zero\n"
     ]
    }
   ],
   "source": [
    "a= int(input(\"Enter Value Of a:- \"))\n",
    "if a<0:\n",
    "    print(f\"{a} is less than zero\")\n",
    "elif a>0:\n",
    "    print(f\"{a} is greater than zero\")\n",
    "else :\n",
    "    print('You Enter Zero')"
   ]
  },
  {
   "cell_type": "code",
   "execution_count": 27,
   "id": "d95dae73",
   "metadata": {},
   "outputs": [
    {
     "name": "stdin",
     "output_type": "stream",
     "text": [
      "Enter The Marks:-  90\n"
     ]
    },
    {
     "name": "stdout",
     "output_type": "stream",
     "text": [
      "You Are So Excelent Your Marks is 90 and You Archived Distinction\n"
     ]
    }
   ],
   "source": [
    "a=int(input(\"Enter The Marks:- \"))\n",
    "if a<=40:\n",
    "    print(f\"Sorry You are Fail Your Marks Is {a}\")\n",
    "elif a<=50:\n",
    "    print(f\"Your Marks Is {a} and Your Grade is C\")\n",
    "elif a<=60:\n",
    "    print(f\"Your Marks Is {a} and Your Grade is B\")\n",
    "elif a<=70:\n",
    "    print(f\"Your Marks Is {a} and Your Grade is A\")\n",
    "else :\n",
    "    print(f'You Are So Excelent Your Marks is {a} and You Archived Distinction')"
   ]
  },
  {
   "cell_type": "markdown",
   "id": "45fa31c5",
   "metadata": {},
   "source": [
    "# If Else Task"
   ]
  },
  {
   "cell_type": "code",
   "execution_count": 31,
   "id": "e2e7adc6",
   "metadata": {},
   "outputs": [
    {
     "ename": "SyntaxError",
     "evalue": "invalid syntax (3522577806.py, line 6)",
     "output_type": "error",
     "traceback": [
      "\u001b[1;36m  Cell \u001b[1;32mIn[31], line 6\u001b[1;36m\u001b[0m\n\u001b[1;33m    BMi<18 - Under Weight\u001b[0m\n\u001b[1;37m                   ^\u001b[0m\n\u001b[1;31mSyntaxError\u001b[0m\u001b[1;31m:\u001b[0m invalid syntax\n"
     ]
    }
   ],
   "source": [
    "BMI = weight / (Height * Height) \n",
    "\n",
    "Weight in kg\n",
    "Height in feet\n",
    "\n",
    "BMi<18 - Under Weight\n",
    "bmi<25 - Healthy \n",
    "BMI<30 - Over Weight\n",
    "BMI - Obese"
   ]
  },
  {
   "cell_type": "code",
   "execution_count": 29,
   "id": "1bfe9802",
   "metadata": {},
   "outputs": [
    {
     "name": "stdin",
     "output_type": "stream",
     "text": [
      " 20\n",
      " 10\n",
      " 15\n"
     ]
    },
    {
     "name": "stdout",
     "output_type": "stream",
     "text": [
      "215\n"
     ]
    }
   ],
   "source": [
    "b=int(input())\n",
    "c=int(input())\n",
    "e=int(input())\n",
    "a=(b*c) +e\n",
    "print (a)"
   ]
  },
  {
   "cell_type": "markdown",
   "id": "071b0df3",
   "metadata": {},
   "source": [
    "# Task\n",
    "\n",
    "bmi=weight/height*height\n",
    "weight in kg\n",
    "height in meter\n",
    "bmi <18: under weight\n",
    "    <25: healthy\n",
    "    <30: over weight\n",
    "        obese\n",
    "    \n"
   ]
  },
  {
   "cell_type": "code",
   "execution_count": null,
   "id": "de11322e",
   "metadata": {},
   "outputs": [],
   "source": [
    "weight=float(input(\"Enter Your Weight in kg:- \"))\n",
    "height_in_feet=float(input(\"Enter Your Height in Feet:- \"))\n",
    "\n",
    "height_in_meters = height_in_feet * 0.3048\n",
    "bmi=weight/(height_in_meters*height_in_meters)\n",
    "\n",
    "print(f\"Your BMI Is: {bmi:.2f}\")\n",
    "\n",
    "if bmi < 18.5:\n",
    "    print(\"So You Are Underweight\")  \n",
    "elif 18.5 <= bmi < 25: \n",
    "    print(\"So You Are Healthy\")\n",
    "elif 25 <= bmi < 30:\n",
    "    print(\"So You Are Overweight\")\n",
    "else:\n",
    "    print(\"So You Are Obese\")"
   ]
  },
  {
   "cell_type": "code",
   "execution_count": null,
   "id": "a2bacc0f-cc95-4dec-bd78-03e1731ddfe7",
   "metadata": {},
   "outputs": [],
   "source": [
    "weight=float(input(\"Enter Your Weight in kg:- \"))\n",
    "height_in_feet=float(input(\"Enter Your Height in Feet:- \"))\n",
    "\n",
    "bmi = (weight / ((height_in_feet*0.3048) ** 2))    ###(With conversion height_in_feet to height_in_meters)\n",
    "\n",
    "if bmi < 18.5:\n",
    "    category = \"Underweight\"  \n",
    "elif 18.5 <= bmi < 25: \n",
    "    category = \"Healthy\"\n",
    "elif 25 <= bmi < 30:\n",
    "    category = \"Overweight\"\n",
    "else:\n",
    "    category = \"Obese\"\n",
    "    \n",
    "# Output the BMI and category\n",
    "print(f\"Your BMI is {bmi:.2f} and you are {category}.\")"
   ]
  },
  {
   "cell_type": "code",
   "execution_count": 9,
   "id": "2f84791c",
   "metadata": {},
   "outputs": [
    {
     "name": "stdin",
     "output_type": "stream",
     "text": [
      "Enter the Celcius:-  25\n"
     ]
    },
    {
     "name": "stdout",
     "output_type": "stream",
     "text": [
      "77.0  Farenheit\n"
     ]
    }
   ],
   "source": [
    "celcius = float(input(\"Enter the Celcius:- \"))\n",
    "farenheit =(celcius*1.8)+32\n",
    "print(farenheit,\" Farenheit\")"
   ]
  },
  {
   "cell_type": "code",
   "execution_count": 11,
   "id": "e28861e9",
   "metadata": {},
   "outputs": [
    {
     "name": "stdin",
     "output_type": "stream",
     "text": [
      "enter yout income : 1200000\n"
     ]
    },
    {
     "name": "stdout",
     "output_type": "stream",
     "text": [
      "income tax= 172500.0\n"
     ]
    }
   ],
   "source": [
    "income=int(input(\"enter yout income :\"))\n",
    "tax=0\n",
    "if income<=250000:\n",
    "    tax=0\n",
    "elif income<=500000:\n",
    "    tax=(income-250000)*0.05 \n",
    "elif income<=1000000:\n",
    "    tax=12500+(1000000-500000)*0.2 \n",
    "else:\n",
    "    tax=12500+100000+(income-1000000)*0.3 \n",
    "print(\"income tax=\",tax)"
   ]
  },
  {
   "cell_type": "code",
   "execution_count": 13,
   "id": "ea003442",
   "metadata": {},
   "outputs": [
    {
     "name": "stdin",
     "output_type": "stream",
     "text": [
      "Enter your income:  100000\n"
     ]
    },
    {
     "name": "stdout",
     "output_type": "stream",
     "text": [
      "You got a 5% discount: 5000.0\n"
     ]
    }
   ],
   "source": [
    "income = int(input(\"Enter your income: \"))\n",
    "\n",
    "if income <= 20000:\n",
    "    discount = income * 0.20\n",
    "    print(\"You got a 20% discount:\", discount)\n",
    "elif income <= 50000:\n",
    "    discount = income * 0.10\n",
    "    print(\"You got a 10% discount:\", discount)\n",
    "elif income <= 100000:\n",
    "    discount = income * 0.05\n",
    "    print(\"You got a 5% discount:\", discount)\n",
    "else:\n",
    "    print(\"No discount\")"
   ]
  },
  {
   "cell_type": "code",
   "execution_count": 21,
   "id": "0303f9cf",
   "metadata": {},
   "outputs": [
    {
     "name": "stdin",
     "output_type": "stream",
     "text": [
      "Enter Year to be checked:-  2015\n"
     ]
    },
    {
     "name": "stdout",
     "output_type": "stream",
     "text": [
      "2015 is Not a Leap Year!!\n"
     ]
    }
   ],
   "source": [
    "year = int(input(\"Enter Year to be checked:- \"))\n",
    "if year % 4 == 0:\n",
    "    if year % 100 == 0:\n",
    "        if year % 400 == 0:\n",
    "            print(f\"{year} is a Leap Year!!!\")\n",
    "        else:\n",
    "            print(f\"{year} is Not a Leap Year!!!\")\n",
    "    else:\n",
    "        print(f\"{year} is a Leap Year!!\")\n",
    "else:\n",
    "    print(f\"{year} is Not a Leap Year!!\")"
   ]
  },
  {
   "cell_type": "code",
   "execution_count": null,
   "id": "c0c2a8c8-7e30-49bd-afe0-f5a7e66b43a8",
   "metadata": {},
   "outputs": [],
   "source": [
    "year=int(input(\"Enter year to be checked\"))\n",
    "\n",
    "if(year%4==0 and year%100!=0 or year%400==0):\n",
    "     print(f\"{year} is a leap year!\")\n",
    "else:\n",
    "     print(f\"{year} isn't a leap year!\")"
   ]
  },
  {
   "cell_type": "code",
   "execution_count": 23,
   "id": "24420ec8",
   "metadata": {},
   "outputs": [],
   "source": [
    "b = [1,2,3,4,5,6,7,8]"
   ]
  },
  {
   "cell_type": "code",
   "execution_count": 25,
   "id": "b3debe90",
   "metadata": {},
   "outputs": [
    {
     "data": {
      "text/plain": [
       "[8, 7, 6, 5, 4, 3, 2, 1]"
      ]
     },
     "execution_count": 25,
     "metadata": {},
     "output_type": "execute_result"
    }
   ],
   "source": [
    "b[::-1]"
   ]
  },
  {
   "cell_type": "code",
   "execution_count": 31,
   "id": "f0a6a32f",
   "metadata": {},
   "outputs": [
    {
     "name": "stdin",
     "output_type": "stream",
     "text": [
      "Enter The Name:- PARAP\n"
     ]
    },
    {
     "name": "stdout",
     "output_type": "stream",
     "text": [
      "PARAP This Is Pelindrome Word\n"
     ]
    }
   ],
   "source": [
    "a = input(\"Enter The Name:-\")\n",
    "b = a[::-1]\n",
    "\n",
    "if a == b:\n",
    "    print(f\"{a} This Is Pelindrome Word\")\n",
    "else:\n",
    "    print(f\"{a} This Is Not Pelindrome Word\")"
   ]
  },
  {
   "cell_type": "code",
   "execution_count": 37,
   "id": "4915e3b7",
   "metadata": {},
   "outputs": [
    {
     "name": "stdin",
     "output_type": "stream",
     "text": [
      "enter a number 45\n"
     ]
    },
    {
     "name": "stdout",
     "output_type": "stream",
     "text": [
      "its divisible by both\n"
     ]
    }
   ],
   "source": [
    "number=int(input(\"enter a number\"))\n",
    "if(number %3==0 and number %5==0):\n",
    "    print(\"its divisible by both\")\n",
    "else:\n",
    "    print(\"its not divisible by both\")"
   ]
  },
  {
   "cell_type": "code",
   "execution_count": 45,
   "id": "a853cf62-6880-4889-ba37-a8cce4b1f71e",
   "metadata": {},
   "outputs": [
    {
     "name": "stdin",
     "output_type": "stream",
     "text": [
      "Enter a number:  41\n"
     ]
    },
    {
     "name": "stdout",
     "output_type": "stream",
     "text": [
      "It's not divisible by 3 or 5\n"
     ]
    }
   ],
   "source": [
    "number = int(input(\"Enter a number: \"))\n",
    "\n",
    "if number % 3 == 0 and number % 5 == 0:\n",
    "    print(\"It's divisible by both\")\n",
    "elif number % 3 == 0:\n",
    "    print(\"It's divisible by 3\")\n",
    "elif number % 5 == 0:\n",
    "    print(\"It's divisible by 5\")\n",
    "else:\n",
    "    print(\"It's not divisible by 3 or 5\")"
   ]
  },
  {
   "cell_type": "code",
   "execution_count": null,
   "id": "6dd91530",
   "metadata": {},
   "outputs": [],
   "source": [
    "n = int(input(\"Enter the number:-\"))\n",
    "\n",
    "if n <=0:\n",
    "    if n == 0:\n",
    "        print(\"Zero\")\n",
    "    else:\n",
    "        print(\"Negative\")\n",
    "else:\n",
    "    print(\"Positive\")"
   ]
  },
  {
   "cell_type": "code",
   "execution_count": 51,
   "id": "03f88cec",
   "metadata": {},
   "outputs": [
    {
     "name": "stdout",
     "output_type": "stream",
     "text": [
      "enter triangle sides: \n"
     ]
    },
    {
     "name": "stdin",
     "output_type": "stream",
     "text": [
      "x:  25\n",
      "y:  35\n",
      "z:  45\n"
     ]
    },
    {
     "name": "stdout",
     "output_type": "stream",
     "text": [
      "scelece\n"
     ]
    }
   ],
   "source": [
    "print(\"enter triangle sides: \")\n",
    "x=int(input(\"x: \"))\n",
    "y=int(input(\"y: \"))\n",
    "z=int(input(\"z: \"))\n",
    "\n",
    "if x==y==z:\n",
    "    print(\"equilateral\")\n",
    "elif x==y or y==z or z==x:\n",
    "    print(\"isosclece\")\n",
    "else :\n",
    "    print(\"scelece\")"
   ]
  },
  {
   "cell_type": "code",
   "execution_count": 55,
   "id": "ffb5a725",
   "metadata": {},
   "outputs": [
    {
     "name": "stdin",
     "output_type": "stream",
     "text": [
      " a\n"
     ]
    },
    {
     "name": "stdout",
     "output_type": "stream",
     "text": [
      "its a vowel\n"
     ]
    }
   ],
   "source": [
    "alphabet=str(input())\n",
    "if alphabet==\"a\":\n",
    "   print(\"its a vowel\")\n",
    "elif alphabet==\"e\":    \n",
    "   print(\"its a vowel\")\n",
    "elif alphabet==\"i\":\n",
    "   print(\"its a vowel\")\n",
    "elif alphabet==\"o\":\n",
    "   print(\"its a vowel\")\n",
    "elif alphabet==\"u\":\n",
    "   print(\"its a vowel\")\n",
    "else:\n",
    "    print(\"its a consonent\")"
   ]
  },
  {
   "cell_type": "code",
   "execution_count": 57,
   "id": "c96cfdea-8205-4f2f-bab5-17e067f81304",
   "metadata": {},
   "outputs": [
    {
     "name": "stdin",
     "output_type": "stream",
     "text": [
      "Enter Alphabet:- A\n"
     ]
    },
    {
     "name": "stdout",
     "output_type": "stream",
     "text": [
      "its a vowel\n"
     ]
    }
   ],
   "source": [
    "alphabet=str(input(\"Enter Alphabet:-\"))\n",
    "if alphabet in ['a','e','i','o','u','A','E','I','O','U']:\n",
    "    print(\"its a vowel\")\n",
    "else:\n",
    "    print(\"its a consonent\")"
   ]
  },
  {
   "cell_type": "code",
   "execution_count": 61,
   "id": "f47d2171",
   "metadata": {},
   "outputs": [
    {
     "name": "stdin",
     "output_type": "stream",
     "text": [
      "enter your birth year:  2004\n"
     ]
    },
    {
     "name": "stdout",
     "output_type": "stream",
     "text": [
      "your zodiac sign is monkey\n"
     ]
    }
   ],
   "source": [
    "year =int(input('enter your birth year: '))\n",
    "if (year-2000) % 12 ==0:\n",
    "    sign = 'dragon'\n",
    "elif(year-2000) % 12 ==1:\n",
    "    sign = 'snake'\n",
    "elif(year-2000) % 12==2:\n",
    "    sign ='horse'\n",
    "elif(year-2000) %12==3:\n",
    "    sign ='sheep'\n",
    "elif(year-2000) %12==4:\n",
    "    sign ='monkey'\n",
    "elif(year-2000) %12==5:\n",
    "    sign ='rooster'\n",
    "elif(year-2000) %12==6:\n",
    "    sigh = 'dog'\n",
    "elif(year-2000) %12==7:\n",
    "    sign = 'pig'\n",
    "elif(year-2000) %12==8:\n",
    "    sign = 'rat'\n",
    "elif(year-2000) %12==9:\n",
    "    sign = 'ox'\n",
    "elif(year-2000) %12==10:\n",
    "    sign = 'tiger'\n",
    "else:\n",
    "    sign = 'hare'\n",
    "print ('your zodiac sign is ' + sign)    "
   ]
  },
  {
   "cell_type": "code",
   "execution_count": 69,
   "id": "8515af55-286b-4b41-9415-631e31594e1c",
   "metadata": {},
   "outputs": [
    {
     "name": "stdout",
     "output_type": "stream",
     "text": [
      "list of months:Jan,feb,mar,apr,may,jun,july,aug,sep,oct,nov,dec\n"
     ]
    },
    {
     "name": "stdin",
     "output_type": "stream",
     "text": [
      "enter the name of month:  jan\n"
     ]
    },
    {
     "name": "stdout",
     "output_type": "stream",
     "text": [
      "no.of days : 31 days\n"
     ]
    }
   ],
   "source": [
    "print(\"list of months:Jan,feb,mar,apr,may,jun,july,aug,sep,oct,nov,dec\")\n",
    "month_name =input(\"enter the name of month: \")\n",
    "if month_name ==\"feb\":\n",
    "    print(\"no.of days: 28/29 days\")\n",
    "elif month_name in [\"apr\",\"jun\",\"sep\",\"nov\"]:\n",
    "    print(\"no.of days : 30 days\")\n",
    "elif month_name in [\"jan\",\"mar\",\"may\",\"aug\",\"oct\",\"dec\"]:\n",
    "    print(\"no.of days : 31 days\")\n",
    "else:\n",
    "    print(\"wrong month\")"
   ]
  },
  {
   "cell_type": "markdown",
   "id": "2400da0f-fa2a-4f30-96da-0a92f2d802b0",
   "metadata": {},
   "source": [
    "### - List\n",
    "### - Tupple\n",
    "### - Set\n",
    "### - Dictionary"
   ]
  },
  {
   "cell_type": "markdown",
   "id": "ee5ba72d",
   "metadata": {},
   "source": [
    "# List\n",
    "\n",
    "### What Is List? \n",
    "- A list is data Structure in python that is a mutable, or changeble, ordered sequence of elements. Each element or value that is inside of a list is called an item. Just as string are difined as characters between quotes, lists are defined by having values between square brackets[ ]."
   ]
  },
  {
   "cell_type": "code",
   "execution_count": null,
   "id": "e15224c4",
   "metadata": {},
   "outputs": [],
   "source": [
    "L = [3,4,5,6,7,8,9,10]"
   ]
  },
  {
   "cell_type": "code",
   "execution_count": null,
   "id": "c6d19ec8",
   "metadata": {},
   "outputs": [],
   "source": [
    "L"
   ]
  },
  {
   "cell_type": "code",
   "execution_count": null,
   "id": "1102f732",
   "metadata": {},
   "outputs": [],
   "source": [
    "L[2]"
   ]
  },
  {
   "cell_type": "code",
   "execution_count": null,
   "id": "cb478bbc",
   "metadata": {},
   "outputs": [],
   "source": [
    "s = 'Tirth'"
   ]
  },
  {
   "cell_type": "code",
   "execution_count": null,
   "id": "fb0a8abd",
   "metadata": {},
   "outputs": [],
   "source": [
    "s"
   ]
  },
  {
   "cell_type": "code",
   "execution_count": null,
   "id": "f8c22848",
   "metadata": {},
   "outputs": [],
   "source": [
    "s[0]"
   ]
  },
  {
   "cell_type": "code",
   "execution_count": null,
   "id": "d5620b32-b961-4d5d-bc9d-f6fc33fb1a53",
   "metadata": {},
   "outputs": [],
   "source": [
    "L[1:-1:2]"
   ]
  },
  {
   "cell_type": "code",
   "execution_count": null,
   "id": "d079f33a",
   "metadata": {},
   "outputs": [],
   "source": [
    "L[::-1]"
   ]
  },
  {
   "cell_type": "code",
   "execution_count": null,
   "id": "f27c4a7b",
   "metadata": {},
   "outputs": [],
   "source": [
    "l = [4,5,67,['Tirth',78,'xyz']]"
   ]
  },
  {
   "cell_type": "code",
   "execution_count": null,
   "id": "f33bd9db",
   "metadata": {},
   "outputs": [],
   "source": [
    "l"
   ]
  },
  {
   "cell_type": "code",
   "execution_count": null,
   "id": "f7d9bf0a-2563-4db3-b22b-e0548e61b83a",
   "metadata": {},
   "outputs": [],
   "source": [
    "l[3]"
   ]
  },
  {
   "cell_type": "code",
   "execution_count": null,
   "id": "bc41ecec",
   "metadata": {},
   "outputs": [],
   "source": [
    "l[-1]"
   ]
  },
  {
   "cell_type": "code",
   "execution_count": null,
   "id": "c88d402f-65be-4903-ac9d-d225b5f858b2",
   "metadata": {},
   "outputs": [],
   "source": [
    "l[-1][-3]"
   ]
  },
  {
   "cell_type": "code",
   "execution_count": null,
   "id": "9aa4541f",
   "metadata": {},
   "outputs": [],
   "source": [
    "l[3][0]"
   ]
  },
  {
   "cell_type": "code",
   "execution_count": null,
   "id": "03405cae",
   "metadata": {},
   "outputs": [],
   "source": [
    "l = [4,5,67,[7,8,['Tirth','xyz',[44,50,'HGHJKK'],89,90]]]"
   ]
  },
  {
   "cell_type": "code",
   "execution_count": null,
   "id": "9395827c",
   "metadata": {},
   "outputs": [],
   "source": [
    "l[-1][2][2][2]"
   ]
  },
  {
   "cell_type": "code",
   "execution_count": null,
   "id": "dc09df25",
   "metadata": {},
   "outputs": [],
   "source": [
    "l[3][0] = 70"
   ]
  },
  {
   "cell_type": "code",
   "execution_count": null,
   "id": "3fe08928-8acb-42f9-bf8a-4a1cfa8a2bf7",
   "metadata": {},
   "outputs": [],
   "source": [
    "l[-1][2][2][2] = 'Modi'"
   ]
  },
  {
   "cell_type": "code",
   "execution_count": null,
   "id": "b0bdef6f",
   "metadata": {},
   "outputs": [],
   "source": [
    "l"
   ]
  },
  {
   "cell_type": "code",
   "execution_count": null,
   "id": "d899e938",
   "metadata": {},
   "outputs": [],
   "source": [
    "## data structure elements\n",
    "# List \n",
    "l =[3,5,6,'tirth']"
   ]
  },
  {
   "cell_type": "code",
   "execution_count": null,
   "id": "e2518d0b",
   "metadata": {},
   "outputs": [],
   "source": [
    "l"
   ]
  },
  {
   "cell_type": "code",
   "execution_count": null,
   "id": "eb75ba04",
   "metadata": {},
   "outputs": [],
   "source": [
    "print(l)"
   ]
  },
  {
   "cell_type": "code",
   "execution_count": null,
   "id": "da38ec10",
   "metadata": {},
   "outputs": [],
   "source": [
    "len(l)"
   ]
  },
  {
   "cell_type": "code",
   "execution_count": null,
   "id": "4e9104d6",
   "metadata": {},
   "outputs": [],
   "source": [
    "type(l)"
   ]
  },
  {
   "cell_type": "markdown",
   "id": "164e97b3",
   "metadata": {},
   "source": [
    "[3,5,6,['tirth']]"
   ]
  },
  {
   "cell_type": "code",
   "execution_count": null,
   "id": "1423cef8",
   "metadata": {},
   "outputs": [],
   "source": [
    "l=[4,5,6,7,['j','x',5,6.7,'tirth']]"
   ]
  },
  {
   "cell_type": "code",
   "execution_count": null,
   "id": "13234d39",
   "metadata": {},
   "outputs": [],
   "source": [
    "l[-1][-1]"
   ]
  },
  {
   "cell_type": "code",
   "execution_count": null,
   "id": "a8af5535",
   "metadata": {},
   "outputs": [],
   "source": [
    "l=[3,4,5,[6,'tirth',6,7,[6,9,100,20,30],6,7,900]]"
   ]
  },
  {
   "cell_type": "code",
   "execution_count": null,
   "id": "6ca5bd06",
   "metadata": {},
   "outputs": [],
   "source": [
    "l[3][4][2]"
   ]
  },
  {
   "cell_type": "markdown",
   "id": "dc214278",
   "metadata": {},
   "source": [
    "# Tuple\n",
    "### What Is Tuple?\n",
    "- Python tuples are a type of data structure that is very similar to lists. The main difference between the two is that tuples are immutable, meaning they cannot be changed once they are created. This makes them ideal for stroring data that should not be modified, such as database record.\n",
    "- Just as string are difined as characters between quotes, lists are defined by having values between Round brackets( )."
   ]
  },
  {
   "cell_type": "code",
   "execution_count": null,
   "id": "d478667d",
   "metadata": {},
   "outputs": [],
   "source": [
    "t = (4,5,6,'Tirth','xyz')"
   ]
  },
  {
   "cell_type": "code",
   "execution_count": null,
   "id": "bb4fe30b",
   "metadata": {},
   "outputs": [],
   "source": [
    "t"
   ]
  },
  {
   "cell_type": "code",
   "execution_count": null,
   "id": "efc9e1df-b92e-469f-8a1a-1985128a49d8",
   "metadata": {},
   "outputs": [],
   "source": [
    "type(t)"
   ]
  },
  {
   "cell_type": "code",
   "execution_count": null,
   "id": "54bd7bcb",
   "metadata": {},
   "outputs": [],
   "source": [
    "t = (3,4,5,6,'Tirth','xyz',[6,7,8])"
   ]
  },
  {
   "cell_type": "code",
   "execution_count": null,
   "id": "ba989aa3",
   "metadata": {},
   "outputs": [],
   "source": [
    "t"
   ]
  },
  {
   "cell_type": "code",
   "execution_count": null,
   "id": "b8a963d4",
   "metadata": {},
   "outputs": [],
   "source": [
    "t[-1][1]"
   ]
  },
  {
   "cell_type": "code",
   "execution_count": null,
   "id": "50925fb8",
   "metadata": {},
   "outputs": [],
   "source": [
    "## Tuple\n",
    "t=(4,5,6,7,[7,8,9])"
   ]
  },
  {
   "cell_type": "code",
   "execution_count": null,
   "id": "064c3345",
   "metadata": {},
   "outputs": [],
   "source": [
    "t[-1][1]=800"
   ]
  },
  {
   "cell_type": "code",
   "execution_count": null,
   "id": "85c1256a-f692-48f4-8506-4798f4051dea",
   "metadata": {},
   "outputs": [],
   "source": [
    "t[4][0]=700"
   ]
  },
  {
   "cell_type": "code",
   "execution_count": null,
   "id": "be467ab6",
   "metadata": {},
   "outputs": [],
   "source": [
    "t"
   ]
  },
  {
   "cell_type": "code",
   "execution_count": null,
   "id": "6711efd1",
   "metadata": {},
   "outputs": [],
   "source": [
    "t[-1][2]=600"
   ]
  },
  {
   "cell_type": "code",
   "execution_count": null,
   "id": "6ef2442d",
   "metadata": {},
   "outputs": [],
   "source": [
    "t"
   ]
  },
  {
   "cell_type": "markdown",
   "id": "48d67bbd",
   "metadata": {},
   "source": [
    "# Sets\n",
    "### What Is The Sets?\n",
    "- **Set** is a data type in python used to store several items in a single variable. It is one of the four built-in data types (List, Dictionary, Tuple, and set) having qualities and usage different from the other three. It is a collection that is written with curly brackets and is both unindexed and unordered."
   ]
  },
  {
   "cell_type": "code",
   "execution_count": null,
   "id": "0de3eb50",
   "metadata": {},
   "outputs": [],
   "source": [
    "s = {7,3,4,5,6,3,3,3,6}"
   ]
  },
  {
   "cell_type": "code",
   "execution_count": null,
   "id": "07e1fb3a",
   "metadata": {},
   "outputs": [],
   "source": [
    "s"
   ]
  },
  {
   "cell_type": "code",
   "execution_count": null,
   "id": "6a51f7bc",
   "metadata": {},
   "outputs": [],
   "source": [
    "s = {3,4,3,6,(3,2,2,1)}"
   ]
  },
  {
   "cell_type": "code",
   "execution_count": null,
   "id": "6981d68b",
   "metadata": {},
   "outputs": [],
   "source": [
    "s"
   ]
  },
  {
   "cell_type": "code",
   "execution_count": null,
   "id": "0a932e7a",
   "metadata": {},
   "outputs": [],
   "source": [
    "## Sets\n",
    "s={3,3,4,5,6,4,4,4,'tirth','x'}"
   ]
  },
  {
   "cell_type": "code",
   "execution_count": null,
   "id": "b722609f",
   "metadata": {},
   "outputs": [],
   "source": [
    "s"
   ]
  },
  {
   "cell_type": "code",
   "execution_count": null,
   "id": "73b6329a",
   "metadata": {},
   "outputs": [],
   "source": [
    "type(s)"
   ]
  },
  {
   "cell_type": "code",
   "execution_count": null,
   "id": "672fb98e",
   "metadata": {},
   "outputs": [],
   "source": [
    "s[-2}]"
   ]
  },
  {
   "cell_type": "code",
   "execution_count": null,
   "id": "4998ccf3",
   "metadata": {},
   "outputs": [],
   "source": [
    "l=[1,3,3,'tirth',{2,3,3,4,1,'sonu'},(8,9,'sun')]"
   ]
  },
  {
   "cell_type": "code",
   "execution_count": null,
   "id": "9ee01665",
   "metadata": {},
   "outputs": [],
   "source": [
    "type(l)"
   ]
  },
  {
   "cell_type": "code",
   "execution_count": null,
   "id": "fbb6b79c",
   "metadata": {},
   "outputs": [],
   "source": [
    "print(l)"
   ]
  },
  {
   "cell_type": "markdown",
   "id": "d940081d",
   "metadata": {},
   "source": [
    "# Dictionary\n",
    "### What is Dictionary?\n",
    "- Dictionary are Python implemention of a data structure that is more generally known as an associative array. A dictionary consists of a collection of key-value pairs. Each Key-value pair maps the key to its associated value."
   ]
  },
  {
   "cell_type": "code",
   "execution_count": null,
   "id": "64e8be17",
   "metadata": {},
   "outputs": [],
   "source": [
    "dict = {1:\"Tirth\",2:\"Harsh\",'x':\"Vinit\"}"
   ]
  },
  {
   "cell_type": "code",
   "execution_count": null,
   "id": "9081bfb6",
   "metadata": {},
   "outputs": [],
   "source": [
    "dict"
   ]
  },
  {
   "cell_type": "code",
   "execution_count": null,
   "id": "f9f9ecca",
   "metadata": {},
   "outputs": [],
   "source": [
    "dict[2]"
   ]
  },
  {
   "cell_type": "code",
   "execution_count": null,
   "id": "c1e9d02b",
   "metadata": {},
   "outputs": [],
   "source": [
    "dict[1]"
   ]
  },
  {
   "cell_type": "code",
   "execution_count": null,
   "id": "0ff85086",
   "metadata": {},
   "outputs": [],
   "source": [
    "#Dictionary\n",
    "dict1 ={1:'jalpa',2:'tirth',3:'raj',4:[4,5,6,7],'x':('sneha',4,5,6,6,6),'y':{5,7,7,8}}"
   ]
  },
  {
   "cell_type": "code",
   "execution_count": null,
   "id": "814a2ae5",
   "metadata": {},
   "outputs": [],
   "source": [
    "dict1"
   ]
  },
  {
   "cell_type": "code",
   "execution_count": null,
   "id": "93d2f5f3",
   "metadata": {},
   "outputs": [],
   "source": [
    "dict1['x']"
   ]
  },
  {
   "cell_type": "code",
   "execution_count": null,
   "id": "a00b9c2d",
   "metadata": {},
   "outputs": [],
   "source": [
    "dict1['y']"
   ]
  },
  {
   "cell_type": "code",
   "execution_count": null,
   "id": "17fc8108",
   "metadata": {},
   "outputs": [],
   "source": [
    "dict1['x'][0]"
   ]
  },
  {
   "cell_type": "code",
   "execution_count": null,
   "id": "090ae32d",
   "metadata": {},
   "outputs": [],
   "source": [
    "x={\n",
    " \"name\": \"john\",\n",
    "  \"age\": 30,\n",
    "  \"married\" : True,\n",
    "   \"divorced\": False,\n",
    "   \"children\" : (\"ann\",\"billy\"),\n",
    "    \"pets\" : None,\n",
    "    \"cars\" :[\n",
    "        {\"model\": \"Bmw 230\",\"mpg\": 27.5},\n",
    "        {\"model\": \"Ford Edge\", \"mpg\":24.1}]}\n"
   ]
  },
  {
   "cell_type": "code",
   "execution_count": null,
   "id": "211d292e",
   "metadata": {},
   "outputs": [],
   "source": [
    "x[\"cars\"][0][\"mpg\"]"
   ]
  },
  {
   "cell_type": "code",
   "execution_count": null,
   "id": "43d4e9fd",
   "metadata": {},
   "outputs": [],
   "source": [
    "x[\"age\"]"
   ]
  },
  {
   "cell_type": "code",
   "execution_count": null,
   "id": "5c2825ef",
   "metadata": {},
   "outputs": [],
   "source": [
    "x[\"cars\"][1][\"model\"]"
   ]
  },
  {
   "cell_type": "code",
   "execution_count": null,
   "id": "d1607e07",
   "metadata": {},
   "outputs": [],
   "source": [
    "l=['tirth','raj','tejal','preeti','soham','renu']\n",
    "for i in l:\n",
    "    print(i[0])"
   ]
  },
  {
   "cell_type": "code",
   "execution_count": null,
   "id": "6fdd9add",
   "metadata": {},
   "outputs": [],
   "source": [
    "num=int(input('enter a number:  '))\n",
    "if (num %2 )==0:\n",
    "    print('its an even number')\n",
    "else:\n",
    "    print('its an odd number')"
   ]
  },
  {
   "cell_type": "code",
   "execution_count": null,
   "id": "ac31d775-4f4a-4bf8-ba52-2fdb11223abd",
   "metadata": {},
   "outputs": [],
   "source": [
    "data_dict = {\n",
    "    \"glossary\": {\n",
    "        \"title\": \"example glossary\",\n",
    "\t\t\"GlossDiv\": {\n",
    "            \"title\": \"S\",\n",
    "\t\t\t\"GlossList\": {\n",
    "                \"GlossEntry\": {\n",
    "                    \"ID\": \"SGML\",\n",
    "\t\t\t\t\t\"SortAs\": \"SGML\",\n",
    "\t\t\t\t\t\"GlossTerm\": \"Standard Generalized Markup Language\",\n",
    "\t\t\t\t\t\"Acronym\": \"SGML\",\n",
    "\t\t\t\t\t\"Abbrev\": \"ISO 8879:1986\",\n",
    "\t\t\t\t\t\"GlossDef\": {\n",
    "                        \"para\": \"A meta-markup language, used to create markup languages such as DocBook.\",\n",
    "\t\t\t\t\t\t\"GlossSeeAlso\": [\"GML\", \"XML\"]\n",
    "                    },\n",
    "\t\t\t\t\t\"GlossSee\": \"markup\"\n",
    "                }\n",
    "            }\n",
    "        }\n",
    "    }\n",
    "}"
   ]
  },
  {
   "cell_type": "code",
   "execution_count": null,
   "id": "c6d3e81c-b629-4789-979f-daad5a477f26",
   "metadata": {},
   "outputs": [],
   "source": []
  },
  {
   "cell_type": "code",
   "execution_count": null,
   "id": "aeb502ce",
   "metadata": {},
   "outputs": [],
   "source": [
    "data_dict['glossary']['GlossDiv']['GlossList']['GlossEntry']['GlossSee']"
   ]
  },
  {
   "cell_type": "code",
   "execution_count": null,
   "id": "4de7b723",
   "metadata": {},
   "outputs": [],
   "source": [
    "data_dict['glossary']['GlossDiv']['GlossList']['GlossEntry']['GlossDef']['GlossSeeAlso'][0]"
   ]
  },
  {
   "cell_type": "code",
   "execution_count": null,
   "id": "4acdb850",
   "metadata": {},
   "outputs": [],
   "source": [
    "dict1={\"widget\": {\n",
    "    \"debug\": \"on\",\n",
    "    \"window\": {\n",
    "        \"title\": \"Sample Konfabulator Widget\",\n",
    "        \"name\": \"main_window\",\n",
    "        \"width\": 500,\n",
    "        \"height\": 500\n",
    "    },\n",
    "    \"image\": { \n",
    "        \"src\": \"Images/Sun.png\",\n",
    "        \"name\": \"sun1\",\n",
    "        \"hOffset\": 250,\n",
    "        \"vOffset\": 250,\n",
    "        \"alignment\": \"center\"\n",
    "    },\n",
    "    \"text\": {\n",
    "        \"data\": \"Click Here\",\n",
    "        \"size\": 36,\n",
    "        \"style\": \"bold\",\n",
    "        \"name\": \"text1\",\n",
    "        \"hOffset\": 250,\n",
    "        \"vOffset\": 100,\n",
    "        \"alignment\": \"center\",\n",
    "        \"onMouseUp\": \"sun1.opacity = (sun1.opacity / 100) * 90;\"\n",
    "    }\n",
    "}}    "
   ]
  },
  {
   "cell_type": "code",
   "execution_count": null,
   "id": "e32c8363",
   "metadata": {},
   "outputs": [],
   "source": [
    "dict1['widget'][\"text\"]['vOffset']"
   ]
  },
  {
   "cell_type": "code",
   "execution_count": null,
   "id": "f43d556a",
   "metadata": {},
   "outputs": [],
   "source": [
    "sampleDict = {\n",
    "    \"class\": {\n",
    "        \"student\": {\n",
    "            \"name\": \"Mike\",\n",
    "            \"marks\": {\n",
    "                \"physics\": 70,\n",
    "                \"history\": 80\n",
    "            }\n",
    "        }\n",
    "    }\n",
    "}"
   ]
  },
  {
   "cell_type": "code",
   "execution_count": null,
   "id": "edf02092",
   "metadata": {},
   "outputs": [],
   "source": [
    "sampleDict['class']"
   ]
  },
  {
   "cell_type": "code",
   "execution_count": null,
   "id": "e42ed774",
   "metadata": {},
   "outputs": [],
   "source": [
    "sampleDict['class']['student']"
   ]
  },
  {
   "cell_type": "code",
   "execution_count": null,
   "id": "e35000f0",
   "metadata": {},
   "outputs": [],
   "source": [
    "sampleDict['class']['student']['name']"
   ]
  },
  {
   "cell_type": "code",
   "execution_count": null,
   "id": "3fd93d93",
   "metadata": {},
   "outputs": [],
   "source": [
    "sampleDict['class']['student']['marks']"
   ]
  },
  {
   "cell_type": "code",
   "execution_count": null,
   "id": "ef1e4806",
   "metadata": {},
   "outputs": [],
   "source": [
    "print(sampleDict['class']['student']['marks']['history'])"
   ]
  },
  {
   "cell_type": "markdown",
   "id": "71765d3c",
   "metadata": {},
   "source": [
    "# For Loop\n",
    "### What is For Loop in Python?\n",
    "- A for loop in Python is a control flow statement that is used to repetedly execute a group of statements as long as the condiction is satisfied. Such a type of statement is also known as an iterative statement. Therfore, a for loop is an iterative statement."
   ]
  },
  {
   "cell_type": "code",
   "execution_count": null,
   "id": "bf20dc7e",
   "metadata": {},
   "outputs": [],
   "source": [
    "for a in range(0,12,2):\n",
    "    print(a)"
   ]
  },
  {
   "cell_type": "code",
   "execution_count": null,
   "id": "e44f953c",
   "metadata": {},
   "outputs": [],
   "source": [
    "l = ['tirth','vinit',2,3,4]\n",
    "for i in l:\n",
    "    print(i)\n",
    "print(l)"
   ]
  },
  {
   "cell_type": "code",
   "execution_count": null,
   "id": "f78100b0",
   "metadata": {},
   "outputs": [],
   "source": [
    "l = ['tirth','vinit','rohit']\n",
    "for i in l:\n",
    "    print(l[2])"
   ]
  },
  {
   "cell_type": "code",
   "execution_count": null,
   "id": "607abfd7",
   "metadata": {},
   "outputs": [],
   "source": [
    "for i in range(1, 11):\n",
    "    if i % 2 == 0:\n",
    "        print('Even Number:', i)\n",
    "    else:\n",
    "        print('Odd Number:', i)"
   ]
  },
  {
   "cell_type": "code",
   "execution_count": null,
   "id": "8e3823ea",
   "metadata": {},
   "outputs": [],
   "source": [
    "l=[2,3,4,5,6,7,8]\n",
    "for i in l:\n",
    "    if i%2==0:\n",
    "        print(i,\"its an even no\")\n",
    "    else:\n",
    "        print(i,\"its an odd no\")"
   ]
  },
  {
   "cell_type": "code",
   "execution_count": null,
   "id": "15b8f8bf",
   "metadata": {},
   "outputs": [],
   "source": [
    "for i in range(10):\n",
    "    print(i)"
   ]
  },
  {
   "cell_type": "code",
   "execution_count": null,
   "id": "b7261980",
   "metadata": {},
   "outputs": [],
   "source": [
    "n = int(input(\"Enter The Range:- \"))\n",
    "for col in range(n):\n",
    "    for row in range(n):\n",
    "        print(\"*\", end=\" \")\n",
    "    print(\"\\n\")"
   ]
  },
  {
   "cell_type": "code",
   "execution_count": null,
   "id": "ef58edd0",
   "metadata": {},
   "outputs": [],
   "source": [
    "dict1={1:'jalpa',2:'sneha',3:'raj','x':'jeet'}"
   ]
  },
  {
   "cell_type": "code",
   "execution_count": null,
   "id": "90950e87",
   "metadata": {},
   "outputs": [],
   "source": [
    "dict1.values()"
   ]
  },
  {
   "cell_type": "code",
   "execution_count": null,
   "id": "6b6e3848",
   "metadata": {},
   "outputs": [],
   "source": [
    "dict1.keys()"
   ]
  },
  {
   "cell_type": "code",
   "execution_count": null,
   "id": "513aaa8d-082e-4f55-881c-3746a628b5b4",
   "metadata": {},
   "outputs": [],
   "source": [
    "dict1"
   ]
  },
  {
   "cell_type": "code",
   "execution_count": null,
   "id": "80841e0e",
   "metadata": {},
   "outputs": [],
   "source": [
    "for i in dict1.values():\n",
    "    print(i)"
   ]
  },
  {
   "cell_type": "code",
   "execution_count": null,
   "id": "7955c417",
   "metadata": {},
   "outputs": [],
   "source": [
    "for i in dict1.keys():\n",
    "    print(i)"
   ]
  },
  {
   "cell_type": "code",
   "execution_count": null,
   "id": "64e19a37",
   "metadata": {},
   "outputs": [],
   "source": [
    "l=[1,23,85,9,5,73]\n",
    "for i in l :\n",
    "    if i>10:\n",
    "        print(i)    "
   ]
  },
  {
   "cell_type": "markdown",
   "id": "643003c4",
   "metadata": {},
   "source": [
    "# *\n",
    "# * *\n",
    "# * * *\n",
    "# * * * *\n",
    "# * * * * *"
   ]
  },
  {
   "cell_type": "code",
   "execution_count": null,
   "id": "6a34b89b-fcd7-448b-9e16-ac42df730034",
   "metadata": {},
   "outputs": [],
   "source": [
    "0+1 =1 = *\n",
    "1+1 =2 = **\n",
    "2+1 =3 = ***\n",
    "3+1 =4 = ****\n",
    "4+1 =5 = *****"
   ]
  },
  {
   "cell_type": "code",
   "execution_count": null,
   "id": "75137dd5",
   "metadata": {},
   "outputs": [],
   "source": [
    "n=int(input(\"enter the value of n:  \"))\n",
    "for row in range(n):     \n",
    "    for col in range(row+1):\n",
    "        print(\"*\",end=\" \")\n",
    "    print(\"\\n\")"
   ]
  },
  {
   "cell_type": "code",
   "execution_count": null,
   "id": "8cb7bde4",
   "metadata": {},
   "outputs": [],
   "source": [
    "n=int(input(\"enter the value of n:  \"))\n",
    "for row in range(n):     \n",
    "    for col in range(n):\n",
    "        print(\"*\",end=\" \")\n",
    "    print(\"\\n\")"
   ]
  },
  {
   "cell_type": "code",
   "execution_count": null,
   "id": "16878614",
   "metadata": {},
   "outputs": [],
   "source": [
    "num = int(input(\"Enter the number for row and col: \"))\n",
    "for row in range(num):\n",
    "    for col in range(num):\n",
    "        if row==0 or row==num-1 or col==0 or col==num-1:\n",
    "            print('*',end=\" \")\n",
    "        else:\n",
    "            print(\" \",end=\" \")\n",
    "    print()"
   ]
  },
  {
   "cell_type": "code",
   "execution_count": null,
   "id": "fccffdb7",
   "metadata": {},
   "outputs": [],
   "source": [
    "a = str(input(\"Enter Alphabate: \"))\n",
    "for row in range(5):\n",
    "    for col in range(5):\n",
    "        if(row in(0,4)):\n",
    "            print(\"*\", end=' ')\n",
    "        elif (row in(1,2,3,4)) and (col in(0,4)):\n",
    "            print(\"*\", end=' ')\n",
    "        elif (row in(0,2)) and (col in(0,2)):\n",
    "            print(a, end=' ')\n",
    "        else:\n",
    "            print(\" \", end=' ')\n",
    "    print()"
   ]
  },
  {
   "cell_type": "code",
   "execution_count": null,
   "id": "ab5b53ba",
   "metadata": {},
   "outputs": [],
   "source": [
    "n = int(input(\"Enter Range: \"))\n",
    "a = str(input(\"Enter Alphabate: \"))\n",
    "\n",
    "for row in range(n):\n",
    "    for col in range(n):\n",
    "        if row in(0,n-1):\n",
    "            print(\"*\", end=\" \")\n",
    "        elif(row in range(1, n-1)) and (col in (0,n-1)):\n",
    "            print(\"*\", end=\" \")\n",
    "        elif row == col == n//2:\n",
    "            print(a, end=\" \")\n",
    "        else:\n",
    "            print(\" \", end=\" \")\n",
    "    print()"
   ]
  },
  {
   "cell_type": "code",
   "execution_count": null,
   "id": "73c48ef6",
   "metadata": {},
   "outputs": [],
   "source": [
    "n=int(input(\"enter the value of n: \"))\n",
    "for i in range(n):\n",
    "    for j in range(i+1):\n",
    "        print(i+1,end=\" \")\n",
    "    print(\"\\n\")"
   ]
  },
  {
   "cell_type": "code",
   "execution_count": null,
   "id": "4cee4c1a",
   "metadata": {},
   "outputs": [],
   "source": [
    "n=int(input(\"enter the value of n: \"))\n",
    "for i in range(n):\n",
    "    for j in range(i+1):\n",
    "        print(j+1,end=\" \")\n",
    "    print(\"\\n\")"
   ]
  },
  {
   "cell_type": "code",
   "execution_count": null,
   "id": "416ae843",
   "metadata": {},
   "outputs": [],
   "source": [
    "n=int(input(\"enter the value of n:  \"))\n",
    "for i in range(n):     \n",
    "    for j in range(i):\n",
    "        print(\"*\",end=\" \")\n",
    "    print(\"\\n\")"
   ]
  },
  {
   "cell_type": "code",
   "execution_count": null,
   "id": "6ab1c1a5",
   "metadata": {},
   "outputs": [],
   "source": [
    "a = int(input(\"Enter Number Of Row: \"))\n",
    "for i in range(a,0,-1):\n",
    "    for j in range(0,i):\n",
    "        print(\"*\", end=\" \")\n",
    "    print()"
   ]
  },
  {
   "cell_type": "code",
   "execution_count": null,
   "id": "bebcd3fa",
   "metadata": {},
   "outputs": [],
   "source": [
    "n=int(input(\"enter the value of n:  \"))\n",
    "for i in range(n):     \n",
    "    for j in range(i+1):\n",
    "        print(\"*\",end=\" \")\n",
    "    print(\"\")\n",
    "for i in range(n,0,-1):\n",
    "    for j in range(0,i):\n",
    "        print(\"*\", end=\" \")\n",
    "    print()"
   ]
  },
  {
   "cell_type": "code",
   "execution_count": null,
   "id": "0206169f",
   "metadata": {},
   "outputs": [],
   "source": [
    "n=int(input(\"Enter the Value \"))\n",
    "for i in range(1,n+1):\n",
    "    for j in range(1,n+1):\n",
    "        if (i==j)or (j==1) or (i==n):\n",
    "            print(\"*\", end=\" \")\n",
    "        else:\n",
    "            print(\" \",end=\" \")\n",
    "    print()"
   ]
  },
  {
   "cell_type": "code",
   "execution_count": null,
   "id": "4836f993-cc24-4ed9-b8d0-be6293c915d5",
   "metadata": {},
   "outputs": [],
   "source": [
    "n=int(input(\"Enter the Value \"))\n",
    "for i in range(1,n+1):\n",
    "    for j in range(1,n+1):\n",
    "        if (i==j) or i+j==n+1:\n",
    "            print(\"*\", end=\" \")\n",
    "        else:\n",
    "            print(\" \",end=\" \")\n",
    "    print()"
   ]
  },
  {
   "cell_type": "code",
   "execution_count": null,
   "id": "f69d3aeb",
   "metadata": {},
   "outputs": [],
   "source": [
    "row = int(input(\"Enter the Number \"))\n",
    "for i in range(row):\n",
    "    print(\" \"*(row-i)+\" *\"* (i+1))\n",
    "for j in range(row-1):\n",
    "    print(\" \"*(j+2)+\" *\"* (row-1-j))"
   ]
  },
  {
   "cell_type": "code",
   "execution_count": null,
   "id": "c3a3e804",
   "metadata": {},
   "outputs": [],
   "source": [
    "n = int(input(\"Enter the Number of Rows for V \"))\n",
    "for i in range(n - 1):\n",
    "    for j in range(i + 1):\n",
    "        print(\" \", end=\"\")\n",
    "    print(\"*\", end=\"\")\n",
    "    for j in range(2*(n-i-2)):\n",
    "        print(\" \", end=\"\")\n",
    "    print(\"*\")"
   ]
  },
  {
   "cell_type": "code",
   "execution_count": null,
   "id": "dc318ff5",
   "metadata": {},
   "outputs": [],
   "source": [
    "size = 5 \n",
    "count = 0\n",
    "\n",
    "for i in range(size):\n",
    "    for j in range(size):\n",
    "        print(chr(65+count), end=\" \")\n",
    "        count += 1\n",
    "    print()"
   ]
  },
  {
   "cell_type": "code",
   "execution_count": null,
   "id": "81c2c23b",
   "metadata": {},
   "outputs": [],
   "source": [
    "Task\n",
    "\n",
    "5 X 1 = 5\n",
    "5 X 2 = 10\n",
    "5 X 3 = 15\n",
    "\"\"\"\"\"\"\"\"\n",
    "5 X 10 = 50"
   ]
  },
  {
   "cell_type": "code",
   "execution_count": null,
   "id": "bfcdaa0a",
   "metadata": {},
   "outputs": [],
   "source": [
    "n = int(input(\"enter the number for rows and col: \"))\n",
    "m = int(input(\"enter the number for rows and col: \"))\n",
    "def print_rectringle (n,m):\n",
    "    for i in range(1, n+1):\n",
    "        for j in range (1, m+1):\n",
    "            if (i==1 or i==n or j==1 or j==m):\n",
    "                print (\"*\",end =\"\")\n",
    "            else: \n",
    "                print (\" \",end =\"\")"
   ]
  },
  {
   "cell_type": "code",
   "execution_count": null,
   "id": "5a51faf1",
   "metadata": {},
   "outputs": [],
   "source": [
    "num = int(input(\"enter the number for rows and col: \"))\n",
    "for i in range(num):\n",
    "    for j in range(num):\n",
    "        if i==0 or i==num-1 or j==0 or j==num-1:\n",
    "            print(\"*\",end=\" \")\n",
    "        else:\n",
    "            print(\" \",end=\" \")\n",
    "    print()              "
   ]
  },
  {
   "cell_type": "code",
   "execution_count": null,
   "id": "038e7248",
   "metadata": {},
   "outputs": [],
   "source": [
    "for row in range(7):\n",
    "    for col in range (5):\n",
    "        if (col==0) or (col==4 and (row!=0 and row!=6)) or((row==0 or row==6) and (col>0 and col<4)):\n",
    "            print(\"*\",end=\" \")\n",
    "        else:\n",
    "            print(end=\"  \")\n",
    "    print()        "
   ]
  },
  {
   "cell_type": "code",
   "execution_count": null,
   "id": "e618825d",
   "metadata": {},
   "outputs": [],
   "source": [
    "n=int(input(\"enter the number: \"))\n",
    "for i in range(n):\n",
    "    for j in range(i+1):\n",
    "        print(chr(j+65),end=\" \")\n",
    "    print()"
   ]
  },
  {
   "cell_type": "code",
   "execution_count": null,
   "id": "763740d9",
   "metadata": {},
   "outputs": [],
   "source": [
    "chr(65)"
   ]
  },
  {
   "cell_type": "code",
   "execution_count": null,
   "id": "1c437414",
   "metadata": {},
   "outputs": [],
   "source": [
    "chr(97)"
   ]
  },
  {
   "cell_type": "code",
   "execution_count": null,
   "id": "d2a164bf",
   "metadata": {},
   "outputs": [],
   "source": [
    "n=int(input(\"enter the number: \"))\n",
    "ascii_value=65\n",
    "for i in range(n):\n",
    "    for j in range(i+1):\n",
    "        alphabet=chr(ascii_value)\n",
    "        print(alphabet,end=\" \")\n",
    "    ascii_value +=1    \n",
    "    print()"
   ]
  },
  {
   "cell_type": "code",
   "execution_count": null,
   "id": "1015032c",
   "metadata": {},
   "outputs": [],
   "source": [
    "num = int(input(\"Enter the number: \"))\n",
    "\n",
    "for count in range(1, 11):\n",
    "    print(num, 'x', count, '=', num * count)"
   ]
  },
  {
   "cell_type": "code",
   "execution_count": null,
   "id": "b5f364b1",
   "metadata": {},
   "outputs": [],
   "source": [
    "number = int(input(\"Enter the number: \"))\n",
    " \n",
    "if number>1:\n",
    "    for i in range (2,number):\n",
    "        \n",
    "        if (number%i)==0:\n",
    "            print (number,\"is not a prime number\")\n",
    "            break\n",
    "    else:\n",
    "        print(number,\"is a prime number\")"
   ]
  },
  {
   "cell_type": "code",
   "execution_count": null,
   "id": "9ed3bd25",
   "metadata": {},
   "outputs": [],
   "source": [
    "#fibonacci series \n",
    "num = int(input(\"Enter upper limit : \"))\n",
    "a=0\n",
    "b=1\n",
    "\n",
    "print(a)\n",
    "print(b)\n",
    "\n",
    "for i in range(1,num):\n",
    "    c=a+b\n",
    "    a=b\n",
    "    b=c\n",
    "    print(c)"
   ]
  },
  {
   "cell_type": "code",
   "execution_count": null,
   "id": "668db709",
   "metadata": {},
   "outputs": [],
   "source": [
    "num =1 \n",
    "n=5\n",
    "for i in range(0,n):\n",
    "    for j in range(0,i+1):\n",
    "        print(num, end=\" \")\n",
    "        num =num +1\n",
    "    print()    "
   ]
  },
  {
   "cell_type": "code",
   "execution_count": null,
   "id": "f4dc2c32",
   "metadata": {},
   "outputs": [],
   "source": [
    "n=int(input(\"enter the value of n:  \"))\n",
    "for i in range(1,n+1):     \n",
    "    for j in range(1,n+1):\n",
    "        if (i==j) or (j==1) or (i==n):\n",
    "            print(\"*\",end=\" \")\n",
    "        else:\n",
    "            print(\" \",end=\" \") \n",
    "    print()        "
   ]
  },
  {
   "cell_type": "code",
   "execution_count": null,
   "id": "0d12a6dd",
   "metadata": {},
   "outputs": [],
   "source": [
    "row =int(input(\"enter the number of rows: \"))\n",
    "for i in range(row):\n",
    "    print(\" \"*(row-i)+\" *\"* (i+1))\n",
    "for j in range(row-1):\n",
    "    print(\" \"*(j+2)+\" *\"* (row -1-j))"
   ]
  },
  {
   "cell_type": "code",
   "execution_count": null,
   "id": "76c56eca",
   "metadata": {},
   "outputs": [],
   "source": [
    "n=int(input(\"enter the value of n:  \"))\n",
    "for i in range(1,n+1):     \n",
    "    for j in range(n-i):\n",
    "         print(\" \",end=\" \")\n",
    "    for k in range(2*i-1):\n",
    "        if k==0 or k==2*i-2:\n",
    "        \n",
    "            print(\"*\",end=\" \") \n",
    "        else:\n",
    "            if i==n:\n",
    "                print(\"*\",end=\" \")\n",
    "            else:\n",
    "                print(\" \",end=\" \")\n",
    "            \n",
    "    print()        "
   ]
  },
  {
   "cell_type": "code",
   "execution_count": null,
   "id": "f0367f33",
   "metadata": {},
   "outputs": [],
   "source": [
    "row =int(input(\"enter the number of rows: \"))\n",
    "for i in range(row):\n",
    "    print(\" \"*(row-i)+\" *\"* (i+1))\n",
    "for j in range(row-1):\n",
    "    print(\" \"*(j+2)+\" *\"* (row -1-j))"
   ]
  },
  {
   "cell_type": "code",
   "execution_count": null,
   "id": "a8914df6",
   "metadata": {},
   "outputs": [],
   "source": [
    "row = int(input('Enter number of row: '))\n",
    "for i in range(1, row+1):\n",
    "    for j in range(1,row-i+1):\n",
    "        print(\" \", end=\"\")\n",
    "    for j in range(1, 2*i):\n",
    "        if j==1 or j==2*i-1:\n",
    "            print(\"*\", end=\"\")\n",
    "        else:\n",
    "            print(\" \", end=\"\")\n",
    "    print()\n",
    "\n",
    "\n",
    "for i in range(row-1,0, -1):\n",
    "    for j in range(1,row-i+1):\n",
    "        print(\" \", end=\"\")\n",
    "    for j in range(1, 2*i):\n",
    "        if j==1 or j==2*i-1:\n",
    "            print(\"*\", end=\"\")\n",
    "        else:\n",
    "            print(\" \", end=\"\")\n",
    "    print()        "
   ]
  },
  {
   "cell_type": "code",
   "execution_count": null,
   "id": "5cf7ec6a-96c7-43fc-8e19-9e8049f1ce05",
   "metadata": {},
   "outputs": [],
   "source": [
    "for i in range(1,6):\n",
    "    print(i)\n",
    "    i= i+1"
   ]
  },
  {
   "cell_type": "code",
   "execution_count": null,
   "id": "866e2f47",
   "metadata": {},
   "outputs": [],
   "source": [
    "l=[1,2,3,4,5,\"emailed\",6]\n",
    "for i in l:\n",
    "    if i==4:\n",
    "        break\n",
    "    print(i)\n",
    "else:\n",
    "    print(\"check the statement\")"
   ]
  },
  {
   "cell_type": "code",
   "execution_count": null,
   "id": "082e1aae",
   "metadata": {},
   "outputs": [],
   "source": [
    "l=[1,2,3,4,4,\"emailed\"]\n",
    "for i in l:\n",
    "    if i==5:\n",
    "        break\n",
    "    print(i)\n",
    "else:\n",
    "    print(\"check the statement\")"
   ]
  },
  {
   "cell_type": "markdown",
   "id": "1b5867e2",
   "metadata": {},
   "source": [
    "# While Loop"
   ]
  },
  {
   "cell_type": "code",
   "execution_count": null,
   "id": "89dd1e06",
   "metadata": {},
   "outputs": [],
   "source": [
    "a = 1\n",
    "while a<6:\n",
    "    print(a)\n",
    "    a=a+1"
   ]
  },
  {
   "cell_type": "code",
   "execution_count": null,
   "id": "9ce27c36",
   "metadata": {},
   "outputs": [],
   "source": [
    "a = 5\n",
    "while a>0:\n",
    "    print(a)\n",
    "    a=a-1"
   ]
  },
  {
   "cell_type": "code",
   "execution_count": null,
   "id": "f6b87f10",
   "metadata": {},
   "outputs": [],
   "source": [
    "a = int(input(\"Enter a number (-1 to quit): \"))\n",
    "while a!=-1:\n",
    "    a=int(input(\"Enter a Number (-1 to quit Number): \"))"
   ]
  },
  {
   "cell_type": "code",
   "execution_count": null,
   "id": "e16d0a60",
   "metadata": {},
   "outputs": [],
   "source": [
    "a = 10\n",
    "while a>0:\n",
    "    print(a)\n",
    "    a=a-1\n",
    "    if a==5:\n",
    "        continue\n",
    "print(\"Have a Nice Day\")"
   ]
  },
  {
   "cell_type": "code",
   "execution_count": null,
   "id": "88cce74e",
   "metadata": {},
   "outputs": [],
   "source": [
    "i = 1\n",
    "j = 7 \n",
    "while i < j:\n",
    "    print(i * '* ')\n",
    "    i = i+1"
   ]
  },
  {
   "cell_type": "code",
   "execution_count": null,
   "id": "ca10c4ee",
   "metadata": {},
   "outputs": [],
   "source": [
    "row = int(input(\"Enter number of row:\"))\n",
    "k = 0\n",
    "for i in range(1, row+1):\n",
    "    for space in range(1, (row-i)+1):\n",
    "        print(end=\" \")\n",
    "        \n",
    "    while k!=(2*i-1):\n",
    "        print(\"*\", end=\"\")\n",
    "        k += 1\n",
    "    k = 0\n",
    "    print()"
   ]
  },
  {
   "cell_type": "code",
   "execution_count": null,
   "id": "9ad42d16",
   "metadata": {},
   "outputs": [],
   "source": [
    "row = int(input(\"Enter the Number \"))\n",
    "for i in range(row):\n",
    "    print(\" \"*(row-i)+\" *\"* (i+1))"
   ]
  },
  {
   "cell_type": "markdown",
   "id": "2e280893",
   "metadata": {},
   "source": [
    "# Function"
   ]
  },
  {
   "cell_type": "markdown",
   "id": "3e391832",
   "metadata": {},
   "source": [
    "# What Is The Function?\n",
    "\n",
    "- Function are nothing but a block or code which performs a specific task and can be called again and again as per requirement in the code."
   ]
  },
  {
   "cell_type": "code",
   "execution_count": null,
   "id": "9c138e2d",
   "metadata": {},
   "outputs": [],
   "source": [
    "def fuction_name():\n",
    "    #function body starts\n",
    "    pass\n",
    "    #function body end\n",
    "#calling function in the code\n",
    "function_name()"
   ]
  },
  {
   "cell_type": "code",
   "execution_count": null,
   "id": "cbd09cb8",
   "metadata": {},
   "outputs": [],
   "source": [
    "def greetings():\n",
    "    print(\"Hi I Am Tirth\")\n",
    "greetings()"
   ]
  },
  {
   "cell_type": "code",
   "execution_count": null,
   "id": "f05c4505",
   "metadata": {},
   "outputs": [],
   "source": [
    "def test():\n",
    "    print(\"Hello World\")"
   ]
  },
  {
   "cell_type": "code",
   "execution_count": null,
   "id": "7db084d0",
   "metadata": {},
   "outputs": [],
   "source": [
    "test()"
   ]
  },
  {
   "cell_type": "code",
   "execution_count": null,
   "id": "3e1162a0",
   "metadata": {},
   "outputs": [],
   "source": [
    "def test():\n",
    "    a=input(\"Enter The Name:- \")\n",
    "    print(\"Good Morning\",a)"
   ]
  },
  {
   "cell_type": "code",
   "execution_count": null,
   "id": "5e952c9e",
   "metadata": {},
   "outputs": [],
   "source": [
    "test()"
   ]
  },
  {
   "cell_type": "code",
   "execution_count": null,
   "id": "de64614c",
   "metadata": {},
   "outputs": [],
   "source": [
    "def test(a,b):\n",
    "    print(a+b)"
   ]
  },
  {
   "cell_type": "code",
   "execution_count": null,
   "id": "2c92b148",
   "metadata": {},
   "outputs": [],
   "source": [
    "test(10,25)"
   ]
  },
  {
   "cell_type": "code",
   "execution_count": null,
   "id": "1d92be20",
   "metadata": {},
   "outputs": [],
   "source": [
    "def test(a,b):\n",
    "    print (a+b)\n",
    "\n",
    "a=int(input())\n",
    "b=int(input())\n",
    "\n",
    "test(a,b)"
   ]
  },
  {
   "cell_type": "code",
   "execution_count": null,
   "id": "b86c6e69",
   "metadata": {},
   "outputs": [],
   "source": [
    "weight=float(input(\"enter the value of weight in kg:\"))\n",
    "height=float(input(\"enter the value of height in meter:\"))\n",
    "\n",
    "def bmi_test(weight,height):\n",
    "    bmi=(weight/(height*height))\n",
    "    print(f\"BMI:- {bmi:.2f}\")\n",
    "\n",
    "bmi_test(weight,height)    "
   ]
  },
  {
   "cell_type": "code",
   "execution_count": null,
   "id": "6e551542",
   "metadata": {},
   "outputs": [],
   "source": [
    "def calculate_bmi(weight_kg,height_m):\n",
    "    \"\"\"This is the function of BMI calculation\"\"\"\n",
    "    return weight_kg /(height_m**2)\n",
    "\n",
    "weight=float(input(\"enter the value of weight in kg:\"))\n",
    "height=float(input(\"enter the value of height in meter:\"))\n",
    "\n",
    "bmi = calculate_bmi(weight,height)\n",
    "print(\"BMI:-\", bmi)"
   ]
  },
  {
   "cell_type": "code",
   "execution_count": null,
   "id": "95bde586-4800-4d03-b775-56529d49bb37",
   "metadata": {},
   "outputs": [],
   "source": [
    "help(calculate_bmi)"
   ]
  },
  {
   "cell_type": "code",
   "execution_count": null,
   "id": "d5c1da85-5a6d-4e25-bf32-1a1f6c99c0b9",
   "metadata": {},
   "outputs": [],
   "source": [
    "calculate_bmi?"
   ]
  },
  {
   "cell_type": "code",
   "execution_count": null,
   "id": "11f4b420",
   "metadata": {},
   "outputs": [],
   "source": [
    "def BMI(weight, height):\n",
    "    \"\"\"this is the function of BMI calculation\"\"\"\n",
    "    bmi=weight/(height*height)\n",
    "\n",
    "    if bmi<18.5:\n",
    "        print(\"Underweight\")\n",
    "    elif bmi<24.9:\n",
    "        print(\"Normal Weight\")\n",
    "    elif bmi<29.9:\n",
    "        print(\"Overweight\")\n",
    "    else:\n",
    "        print(\"Obesity\")\n",
    "        \n",
    "    print(\"BMI:- \", round(bmi,2))\n",
    "\n",
    "weight=float(input(\"enter the value of weight in kg:\"))\n",
    "height=float(input(\"enter the value of height in merter:\"))\n",
    "\n",
    "BMI(weight,height)   "
   ]
  },
  {
   "cell_type": "code",
   "execution_count": null,
   "id": "dba0d0cc",
   "metadata": {},
   "outputs": [],
   "source": [
    "def test(a=10,b=10):\n",
    "    return a+b"
   ]
  },
  {
   "cell_type": "code",
   "execution_count": null,
   "id": "ab5a95d9",
   "metadata": {},
   "outputs": [],
   "source": [
    "test()"
   ]
  },
  {
   "cell_type": "code",
   "execution_count": null,
   "id": "1330b53e",
   "metadata": {},
   "outputs": [],
   "source": [
    "def test(a,b):\n",
    "    return (a*b)\n",
    "test(3,4)"
   ]
  },
  {
   "cell_type": "code",
   "execution_count": null,
   "id": "c1508cce",
   "metadata": {},
   "outputs": [],
   "source": [
    "def test(a,b=10):\n",
    "    return(a+b)"
   ]
  },
  {
   "cell_type": "code",
   "execution_count": null,
   "id": "13d43fa3",
   "metadata": {},
   "outputs": [],
   "source": [
    "test(20)"
   ]
  },
  {
   "cell_type": "code",
   "execution_count": null,
   "id": "8a47c467",
   "metadata": {},
   "outputs": [],
   "source": [
    "def test(a=10,b=10,c=5):\n",
    "    return a+b+c"
   ]
  },
  {
   "cell_type": "code",
   "execution_count": null,
   "id": "b1e89caa",
   "metadata": {},
   "outputs": [],
   "source": [
    "test()"
   ]
  },
  {
   "cell_type": "code",
   "execution_count": null,
   "id": "5a4b27e3",
   "metadata": {},
   "outputs": [],
   "source": [
    "def test(a,b=10,c=5):\n",
    "    return a+b+c"
   ]
  },
  {
   "cell_type": "code",
   "execution_count": null,
   "id": "c15b4229",
   "metadata": {},
   "outputs": [],
   "source": [
    "test(20)"
   ]
  },
  {
   "cell_type": "code",
   "execution_count": null,
   "id": "fe26d1d6",
   "metadata": {},
   "outputs": [],
   "source": [
    "def test(a,b=10,c=10):\n",
    "    return a+b+c\n",
    "test(15)"
   ]
  },
  {
   "cell_type": "code",
   "execution_count": null,
   "id": "a244b9e3",
   "metadata": {},
   "outputs": [],
   "source": [
    "#block one\n",
    "BIKE = True\n",
    "CAR = True\n",
    "Travel_100_KM = BIKE or CAR\n",
    "print(f\"You have BIKE: {BIKE}\")\n",
    "print(f\"You have CAR: {CAR}\")\n",
    "print(f\"You can travel 100 KMs:{Travel_100_KM}\\n\")\n",
    "\n",
    "#block 2\n",
    "BIKE = True\n",
    "CAR = False\n",
    "Travel_100_KM = BIKE or CAR\n",
    "print(f\"You have BIKE: {BIKE}\")\n",
    "print(f\"You have CAR: {CAR}\")\n",
    "print(f\"You can travel 100 KMs:{Travel_100_KM}\\n\")\n",
    "\n",
    "#block 3 \n",
    "BIKE = False\n",
    "CAR = True\n",
    "Travel_100_KM = BIKE or CAR\n",
    "print(f\"You have BIKE: {BIKE}\")\n",
    "print(f\"You have CAR: {CAR}\")\n",
    "print(f\"You can travel 100 KMs:{Travel_100_KM}\\n\")\n",
    "\n",
    "#block 4\n",
    "BIKE = False\n",
    "CAR = False\n",
    "Travel_100_KM = BIKE or CAR\n",
    "print(f\"You have BIKE: {BIKE}\")\n",
    "print(f\"You have CAR: {CAR}\")\n",
    "print(f\"You can travel 100 KMs:{Travel_100_KM}\\n\")"
   ]
  },
  {
   "cell_type": "markdown",
   "id": "8483157d",
   "metadata": {},
   "source": [
    "# What Is The Arguments(*args)\n",
    "- ***args** is used to Pass a variable number of positional arguments to a function.\n",
    "- The ***args** Parameter allows you to pass any number of arguments to the function. Inside the function, these arguments are treated as a tuple."
   ]
  },
  {
   "cell_type": "code",
   "execution_count": null,
   "id": "535dffce",
   "metadata": {},
   "outputs": [],
   "source": [
    "def test(*args,a=10):\n",
    "    return args,a"
   ]
  },
  {
   "cell_type": "code",
   "execution_count": null,
   "id": "1d0f55ab",
   "metadata": {},
   "outputs": [],
   "source": [
    "test(2,3,5,4,6,7,[5,6,3,4])"
   ]
  },
  {
   "cell_type": "code",
   "execution_count": null,
   "id": "5d105fb7",
   "metadata": {},
   "outputs": [],
   "source": [
    "def branch_and_subjects_in_graduation(*args, branch=\"Electronics Engineering\"):\n",
    "    print(f\"My Branch was {branch}\")\n",
    "    return f\"I Liked these subject in graduation {args}\"\n",
    "result = branch_and_subjects_in_graduation(\"Microprocessor\")\n",
    "print(result)"
   ]
  },
  {
   "cell_type": "markdown",
   "id": "975a385e",
   "metadata": {},
   "source": [
    "# What Is The Keyword Arguments??\n",
    "- ****kwargs**** is a special syntax used to pass a variable number of Keyword Arguments to a function.\n",
    "- The Double Asterisks **(\"****\") Before **kwargs** denote that the function should accept should accept any number of keyword arguments, Which are then captured into a dictionary named **'kwargs'** within the function."
   ]
  },
  {
   "cell_type": "code",
   "execution_count": null,
   "id": "894938d6",
   "metadata": {},
   "outputs": [],
   "source": [
    "def test_function(**kwargs):\n",
    "    for key, value in kwargs.items():\n",
    "        print(key, \":\",value)\n",
    "\n",
    "test_function(name=\"Tirth\", age=30, city=\"Vadodara\")"
   ]
  },
  {
   "cell_type": "code",
   "execution_count": null,
   "id": "cef4dba8",
   "metadata": {},
   "outputs": [],
   "source": [
    "def test(a,**kwargs):\n",
    "    return kwargs,a"
   ]
  },
  {
   "cell_type": "code",
   "execution_count": null,
   "id": "bf148427",
   "metadata": {},
   "outputs": [],
   "source": [
    "test(a=20,b=40,c='tirth')"
   ]
  },
  {
   "cell_type": "code",
   "execution_count": null,
   "id": "619b96b0",
   "metadata": {},
   "outputs": [],
   "source": [
    "def test(a,b,**kwargs):\n",
    "    return kwargs,a,b"
   ]
  },
  {
   "cell_type": "code",
   "execution_count": null,
   "id": "473784fc",
   "metadata": {},
   "outputs": [],
   "source": [
    "test(a=20,b=40,c='tirth')"
   ]
  },
  {
   "cell_type": "code",
   "execution_count": null,
   "id": "87ff5df7",
   "metadata": {},
   "outputs": [],
   "source": [
    "def travel_or_not(BIKE,CAR):\n",
    "    TRAVEL_100_KM = BIKE or CAR\n",
    "    \n",
    "    print(f\"you have a BIKE:{BIKE}\")\n",
    "    print(f\"you have a CAR :{CAR}\")\n",
    "    print(f\"you can travel 100 Kms:{TRAVEL_100_KM}\\n\")\n",
    "    \n",
    "travel_or_not(False,False)\n",
    "\n",
    "travel_or_not(False,True)\n",
    "\n",
    "travel_or_not(True,False)\n",
    "\n",
    "travel_or_not(True,True)"
   ]
  },
  {
   "cell_type": "code",
   "execution_count": null,
   "id": "df0fe612",
   "metadata": {},
   "outputs": [],
   "source": [
    "def travel_or_not(BIKE,CAR):\n",
    "    TRAVEL_100_KM = BIKE or CAR\n",
    "    \n",
    "    print(f\"you have a BIKE:{BIKE}\")\n",
    "    print(f\"you have a CAR:{CAR}\")\n",
    "    print(f\"you can travel 100 Kms:{TRAVEL_100_KM}\\n\")\n",
    "    \n",
    "BIKE=[False,False,True,True]\n",
    "CAR=[False,True,False,True]\n",
    "for bike,car in zip(BIKE,CAR):\n",
    "    travel_or_not(bike,car)"
   ]
  },
  {
   "cell_type": "code",
   "execution_count": null,
   "id": "07ad0d91",
   "metadata": {},
   "outputs": [],
   "source": [
    "def travel_or_not(BIKE=True,CAR=False):\n",
    "    TRAVEL_100_KM = BIKE or CAR\n",
    "    print(f\"you have a BIKE:{BIKE}\")\n",
    "    print(f\"you have a CAR:{CAR}\")\n",
    "    return f\"you can travel 100 Kms:{TRAVEL_100_KM}\\n\"\n",
    "result =travel_or_not(True,False)\n",
    "print(f\"\\nresults:-\\n{result}\")"
   ]
  },
  {
   "cell_type": "code",
   "execution_count": null,
   "id": "af2cd297",
   "metadata": {},
   "outputs": [],
   "source": [
    "def travel_or_not(BIKE=True,CAR=True):\n",
    "    TRAVEL_100_KM = BIKE or CAR\n",
    "    print(f\"you have a BIKE:{BIKE}\")\n",
    "    print(f\"you have a CAR:{CAR}\")\n",
    "    return f\"you can travel 100 Kms:{TRAVEL_100_KM}\\n\"\n",
    "result =travel_or_not(True,True)\n",
    "print(f\"\\nresults:-\\n{result}\")"
   ]
  },
  {
   "cell_type": "code",
   "execution_count": null,
   "id": "16c91464",
   "metadata": {},
   "outputs": [],
   "source": [
    "def travel_or_not(BIKE=False,CAR=False):\n",
    "    TRAVEL_100_KM = BIKE or CAR\n",
    "    print(f\"you have a BIKE:{BIKE}\")\n",
    "    print(f\"you have a CAR:{CAR}\")\n",
    "    return f\"you can travel 100 Kms:{TRAVEL_100_KM}\\n\"\n",
    "result =travel_or_not(False,False)\n",
    "print(f\"\\nresults:-\\n{result}\")"
   ]
  },
  {
   "cell_type": "code",
   "execution_count": null,
   "id": "9affe276",
   "metadata": {},
   "outputs": [],
   "source": [
    "def BMI(weight, height):\n",
    "    \"\"\"this is the function of bmi calculation\"\"\" \n",
    "    bmi=(weight/(height*height))\n",
    "    \n",
    "    if bmi<10:\n",
    "        print(\"weak\")\n",
    "    elif bmi<14:\n",
    "        print(\"Normal\")\n",
    "    elif bmi<16:  \n",
    "        print(\"Good\")\n",
    "    elif bmi<18:\n",
    "        print(\"Excellent\")\n",
    "    print(bmi)\n",
    "weight=int(input(\"enter the value of weight in kg:\"))\n",
    "height=float(input(\"enter the value of height in merter:\"))\n",
    "\n",
    "BMI(weight,height)"
   ]
  },
  {
   "cell_type": "code",
   "execution_count": null,
   "id": "62737e68",
   "metadata": {},
   "outputs": [],
   "source": [
    "def marks_in_subject_of_semester(**kwargs):\n",
    "    def total_marks(marks_list):\n",
    "        return sum(marks_list)\n",
    "    \n",
    "    marks_list = list()\n",
    "    for subject, marks in kwargs.items():\n",
    "        marks_list.append(marks)\n",
    "        print(f\"Scointre in {subject} = {marks}\")\n",
    "        \n",
    "    return total_marks(marks_list)\n",
    "result = marks_in_subject_of_semester(Digital_Image_Processing = 90, Microprocessor = 90, Signals_and_systems = 85)\n",
    "print(f\"\\nTotal Marks Obtained {result}\")"
   ]
  },
  {
   "cell_type": "code",
   "execution_count": null,
   "id": "d5e1008b",
   "metadata": {},
   "outputs": [],
   "source": [
    "def test1(*tirth):\n",
    "    l = []\n",
    "    for i in tirth:\n",
    "        if type(i) == int:\n",
    "            l.append(i)\n",
    "    return l"
   ]
  },
  {
   "cell_type": "code",
   "execution_count": null,
   "id": "e515a307",
   "metadata": {},
   "outputs": [],
   "source": [
    "test1(45,67,67.55,76,'dfsdf',[23,54,5,4,565656],[3,4,5,'TI'],['RTH',2,3,4])"
   ]
  },
  {
   "cell_type": "code",
   "execution_count": null,
   "id": "261461db",
   "metadata": {},
   "outputs": [],
   "source": [
    "def test5(**tirth):\n",
    "    return tirth\n",
    "test5(name=\"Tirth\", age=30, city=\"Vadodara\", phone_number='12546575235', mail_id = 'bdhbjhbkjdvn', Adr = \"sdhfjdknv\")"
   ]
  },
  {
   "cell_type": "markdown",
   "id": "97b09926",
   "metadata": {},
   "source": [
    "# What is the Lamda Function?\n",
    "\n",
    "- A Lamda Function in Python is a small anonymous function defined using the **lamda** keyword. It can take any number of arguments, but can only have one expression.\n",
    "- Lamda Functions are often used when you need a short function for a short period of time."
   ]
  },
  {
   "cell_type": "code",
   "execution_count": null,
   "id": "3aa0cc27",
   "metadata": {},
   "outputs": [],
   "source": [
    "# Lambda\n",
    "def test(a,b):\n",
    "    return a+b\n",
    "test(4,5)"
   ]
  },
  {
   "cell_type": "code",
   "execution_count": null,
   "id": "0d7d4c4f",
   "metadata": {},
   "outputs": [],
   "source": [
    "x=lambda a,b:a+b\n",
    "x(4,5)"
   ]
  },
  {
   "cell_type": "code",
   "execution_count": null,
   "id": "bd07b65b",
   "metadata": {},
   "outputs": [],
   "source": [
    "x=lambda a,b:a**b"
   ]
  },
  {
   "cell_type": "code",
   "execution_count": null,
   "id": "322ff91b",
   "metadata": {},
   "outputs": [],
   "source": [
    "x(2,2)"
   ]
  },
  {
   "cell_type": "code",
   "execution_count": null,
   "id": "5d369975",
   "metadata": {},
   "outputs": [],
   "source": [
    "x=lambda a:a%2==0"
   ]
  },
  {
   "cell_type": "code",
   "execution_count": null,
   "id": "e890fb83",
   "metadata": {},
   "outputs": [],
   "source": [
    "x(3)"
   ]
  },
  {
   "cell_type": "code",
   "execution_count": null,
   "id": "b1ce1823",
   "metadata": {},
   "outputs": [],
   "source": [
    "x=lambda a:a%3==0"
   ]
  },
  {
   "cell_type": "code",
   "execution_count": null,
   "id": "e6f5c9bd",
   "metadata": {},
   "outputs": [],
   "source": [
    "x(3)"
   ]
  },
  {
   "cell_type": "code",
   "execution_count": null,
   "id": "08500f4f",
   "metadata": {},
   "outputs": [],
   "source": [
    "[i for i in range(5)]"
   ]
  },
  {
   "cell_type": "code",
   "execution_count": null,
   "id": "0f8bf50e",
   "metadata": {},
   "outputs": [],
   "source": [
    "for i in range(5):\n",
    "    print(i)"
   ]
  },
  {
   "cell_type": "code",
   "execution_count": null,
   "id": "32926ceb",
   "metadata": {},
   "outputs": [],
   "source": [
    "x= lambda x:[i for i in range(x)]"
   ]
  },
  {
   "cell_type": "code",
   "execution_count": null,
   "id": "edd8cbfb",
   "metadata": {},
   "outputs": [],
   "source": [
    "x(5)"
   ]
  },
  {
   "cell_type": "code",
   "execution_count": null,
   "id": "c487a8a4",
   "metadata": {},
   "outputs": [],
   "source": [
    "x= lambda x:[x*x if (x>0) else(x<0)]"
   ]
  },
  {
   "cell_type": "code",
   "execution_count": null,
   "id": "7f162a6c",
   "metadata": {},
   "outputs": [],
   "source": [
    "x(5)"
   ]
  },
  {
   "cell_type": "code",
   "execution_count": null,
   "id": "8bacaaef",
   "metadata": {},
   "outputs": [],
   "source": [
    "x(0.5)"
   ]
  },
  {
   "cell_type": "code",
   "execution_count": null,
   "id": "90045f5d",
   "metadata": {},
   "outputs": [],
   "source": [
    "a = lambda **kwargs : kwargs"
   ]
  },
  {
   "cell_type": "code",
   "execution_count": null,
   "id": "ce3f0a5f",
   "metadata": {},
   "outputs": [],
   "source": [
    "a(a = 50, b = 60)"
   ]
  },
  {
   "cell_type": "code",
   "execution_count": null,
   "id": "3596eb2d",
   "metadata": {},
   "outputs": [],
   "source": [
    "l = [1,2,3,4,56,78,7,88,7]\n",
    "l1 = []\n",
    "for i in l:\n",
    "    l1.append(i+2)"
   ]
  },
  {
   "cell_type": "code",
   "execution_count": null,
   "id": "25847fb5",
   "metadata": {},
   "outputs": [],
   "source": [
    "l1"
   ]
  },
  {
   "cell_type": "code",
   "execution_count": null,
   "id": "1560909e",
   "metadata": {},
   "outputs": [],
   "source": [
    "def test6(a):\n",
    "    l1 = []\n",
    "    for i in a:\n",
    "        l1.append(i+2)\n",
    "    return l1"
   ]
  },
  {
   "cell_type": "code",
   "execution_count": null,
   "id": "a6c5d5b8",
   "metadata": {},
   "outputs": [],
   "source": [
    "test6(l)"
   ]
  },
  {
   "cell_type": "code",
   "execution_count": null,
   "id": "8402d402",
   "metadata": {},
   "outputs": [],
   "source": [
    "a = lambda a : [i+2 for i in a]\n",
    "a(l)"
   ]
  },
  {
   "cell_type": "code",
   "execution_count": null,
   "id": "da93c415",
   "metadata": {},
   "outputs": [],
   "source": [
    "l"
   ]
  },
  {
   "cell_type": "code",
   "execution_count": null,
   "id": "11bf0530",
   "metadata": {},
   "outputs": [],
   "source": [
    "[(i**2,i+i) for i in l if i< 4 if i>1]"
   ]
  },
  {
   "cell_type": "code",
   "execution_count": null,
   "id": "7b9b9fa4",
   "metadata": {},
   "outputs": [],
   "source": [
    "d = {1:1, 2:4, 3:9}"
   ]
  },
  {
   "cell_type": "code",
   "execution_count": null,
   "id": "547fa871",
   "metadata": {},
   "outputs": [],
   "source": [
    "{i:i**2 for i in range(11)}"
   ]
  },
  {
   "cell_type": "code",
   "execution_count": null,
   "id": "c582e7a1",
   "metadata": {},
   "outputs": [],
   "source": [
    "d1 ={}\n",
    "for i in range(11):\n",
    "    d1[i] = i**2\n",
    "d1"
   ]
  },
  {
   "cell_type": "code",
   "execution_count": null,
   "id": "7984d837",
   "metadata": {},
   "outputs": [],
   "source": [
    "tuple(i for i in range(10))"
   ]
  },
  {
   "cell_type": "code",
   "execution_count": null,
   "id": "5a6d31b3",
   "metadata": {},
   "outputs": [],
   "source": [
    "l1 = []\n",
    "for i in l:\n",
    "    if i <4:\n",
    "        l1.append((i**2, i+i))\n",
    "l1"
   ]
  },
  {
   "cell_type": "code",
   "execution_count": null,
   "id": "392f4485",
   "metadata": {},
   "outputs": [],
   "source": [
    "name = input(\"Please Enter Your Name:- \")\n",
    "vowels = list(filter(lambda ch: ch in \"aeiouAEIOU\", name))\n",
    "if len(vowels)==0:\n",
    "    print(\"No Vowel in Your Name\")\n",
    "else:\n",
    "    print(\"Vowels in Your Name are: \",vowels)"
   ]
  },
  {
   "cell_type": "code",
   "execution_count": null,
   "id": "0d26b549-a52e-43a8-a330-6ab5967413c5",
   "metadata": {},
   "outputs": [],
   "source": [
    "name = input(\"Please Enter Your Name: \")\n",
    "vowels = list(filter(lambda ch: ch in \"aeiouAEIOU\", name))\n",
    "unique_vowels = list(dict.fromkeys(vowels))  # Remove duplicates while maintaining order\n",
    "\n",
    "if len(unique_vowels) == 0:\n",
    "    print(\"No Vowel in Your Name\")\n",
    "else:\n",
    "    print(\"Vowels in Your Name are: \", unique_vowels)"
   ]
  },
  {
   "cell_type": "code",
   "execution_count": null,
   "id": "0e92e9e0-fb6f-4846-97b5-71b61a5a5f9d",
   "metadata": {},
   "outputs": [],
   "source": [
    "name = input(\"Please Enter Your Name:- \")\n",
    "vowels = list(filter(lambda ch: ch in \"aeiouAEIOU\", name))\n",
    "unique_vowels = list(set(vowels))  # Remove duplicates by converting to a set\n",
    "\n",
    "if len(unique_vowels) == 0:\n",
    "    print(\"No Vowel in Your Name\")\n",
    "else:\n",
    "    print(\"Vowels in Your Name are: \", unique_vowels)"
   ]
  },
  {
   "cell_type": "code",
   "execution_count": null,
   "id": "9d48ae6a-664a-4429-a388-228efb8dfffb",
   "metadata": {},
   "outputs": [],
   "source": [
    "from collections import Counter\n",
    "\n",
    "name = input(\"Please Enter Your Name:- \")\n",
    "vowels = list(filter(lambda ch: ch in \"aeiouAEIOU\", name))\n",
    "\n",
    "if len(vowels) == 0:\n",
    "    print(\"No Vowel in Your Name\")\n",
    "else:\n",
    "    vowel_count = dict(Counter(vowels))  # Count the occurrences of each vowel\n",
    "    print(\"Vowels in Your Name are: \", vowel_count)"
   ]
  },
  {
   "cell_type": "code",
   "execution_count": null,
   "id": "23df98b4",
   "metadata": {},
   "outputs": [],
   "source": [
    "name = input(\"Please Enter Your Name:- \")\n",
    "vowels = list(map(lambda ch: ch in \"aeiouAEIOU\", name))\n",
    "if len(vowels)==0:\n",
    "    print(\"No Vowel in Your Name\")\n",
    "else:\n",
    "    print(\"Vowels in Your Name are: \",vowels)"
   ]
  },
  {
   "cell_type": "code",
   "execution_count": null,
   "id": "fe42f946",
   "metadata": {},
   "outputs": [],
   "source": [
    "def inspect(mystring):\n",
    "    if len(mystring)%2==0:\n",
    "        return \"Even\"\n",
    "    else:\n",
    "        return mystring[0]\n",
    "months = [\"January\", \"February\", \"March\", \"April\"]\n",
    "print(list(map(inspect, months)))"
   ]
  },
  {
   "cell_type": "code",
   "execution_count": null,
   "id": "31ea81ad",
   "metadata": {},
   "outputs": [],
   "source": [
    "list(map(lambda x:\"Even\" if len(x)%2==0 else x[0],[\"January\", \"February\", \"March\", \"April\"]))"
   ]
  },
  {
   "cell_type": "markdown",
   "id": "496eee23",
   "metadata": {},
   "source": [
    "# What Is The Local Variable??\n",
    "- A Local Variable ia a Variable Declared whithin the scope of a function. It Can only be accessed within that function and is not visible outside of it. \n",
    "\n",
    "# What Is The Global Variable??\n",
    "- A global variable in python is a variable declared outside of any function or class definition. It is accessible from anywhere within the python script or module."
   ]
  },
  {
   "cell_type": "code",
   "execution_count": null,
   "id": "7ec2fa90",
   "metadata": {},
   "outputs": [],
   "source": [
    "#local variable,global variable\n",
    "def test():\n",
    "    return a\n",
    "a=5\n",
    "test()"
   ]
  },
  {
   "cell_type": "code",
   "execution_count": null,
   "id": "1912df75",
   "metadata": {},
   "outputs": [],
   "source": [
    "a=\"ilove python.\"\n",
    "def test():\n",
    "    return a\n",
    "\n",
    "test()"
   ]
  },
  {
   "cell_type": "code",
   "execution_count": null,
   "id": "21334399",
   "metadata": {},
   "outputs": [],
   "source": [
    "s2=\"i love python\"\n",
    "def f():\n",
    "    s2 =\"i love python\"\n",
    "    print(s2)\n",
    "    print(id(s2))\n",
    "f()\n",
    "print(s2)\n",
    "print(id(s2))"
   ]
  },
  {
   "cell_type": "code",
   "execution_count": null,
   "id": "5f5fffe1",
   "metadata": {},
   "outputs": [],
   "source": [
    "def f():\n",
    "    global p1\n",
    "    p1=\"i love c\"\n",
    "    print(p1)\n",
    "    print(id(p1))\n",
    "f()\n",
    "print(p1)\n",
    "print(id(p1))          "
   ]
  },
  {
   "cell_type": "code",
   "execution_count": null,
   "id": "f5aab391",
   "metadata": {},
   "outputs": [],
   "source": [
    "a = 1\n",
    "def f():\n",
    "    print(\"Inside f(): \",a)\n",
    "def g():\n",
    "    a=2\n",
    "    print(\"Inside g(): \",a)\n",
    "def h():\n",
    "    a=3\n",
    "    print(\"Inside h(): \",a)\n",
    "print(\"Global: \",a)\n",
    "f()\n",
    "print(\"Global: \",a)\n",
    "g()\n",
    "print(\"Global: \",a)\n",
    "h()\n",
    "print(\"Global: \",a)"
   ]
  },
  {
   "cell_type": "markdown",
   "id": "79e096e4",
   "metadata": {},
   "source": [
    "# What Is The Map Function?\n",
    "- The **MAP()** function is used to apply a given function to each item of an iterable (like a list, tuple or set) and return a new iterable containing the results."
   ]
  },
  {
   "cell_type": "code",
   "execution_count": null,
   "id": "6daf0880",
   "metadata": {},
   "outputs": [],
   "source": [
    "my_list = [1,2,3,4,5]\n",
    "for item in my_list:\n",
    "    print(item)\n",
    "    \n",
    "t = (1,2,3,4,5)\n",
    "for item in t:\n",
    "    print(item)\n",
    "\n",
    "s = \"Hello\"\n",
    "for char in s:\n",
    "    print(char)\n",
    "    \n",
    "sets = {1,2,3,4,5,6}\n",
    "for item in sets:\n",
    "    print(item)\n",
    "    \n",
    "d = {'a':1, 'b':2, 'c':3, 'd':4, 'e':5}\n",
    "for key in d:\n",
    "    print(key)\n"
   ]
  },
  {
   "cell_type": "code",
   "execution_count": null,
   "id": "dae2d790",
   "metadata": {},
   "outputs": [],
   "source": [
    "#map function\n",
    "b=[3,4,5]\n",
    "def power_a(b):\n",
    "    return b**2\n",
    "l=print(list(map(power_a,b)))"
   ]
  },
  {
   "cell_type": "code",
   "execution_count": null,
   "id": "60108ab0",
   "metadata": {},
   "outputs": [],
   "source": [
    "def square(num):\n",
    "    return num**2\n",
    "mynums=[1,2,3,4]\n",
    "\n",
    "result=print(list(map(square,mynums)))"
   ]
  },
  {
   "cell_type": "code",
   "execution_count": null,
   "id": "2dbd156f",
   "metadata": {},
   "outputs": [],
   "source": [
    "a=('january','february','march','april','may','june','july','august')\n",
    "def test(a):\n",
    "    if len(a)%2==0:\n",
    "        print('even')\n",
    "    else:\n",
    "        print(a[0:3])\n",
    "        \n",
    "result=(list(map(test,a)))"
   ]
  },
  {
   "cell_type": "code",
   "execution_count": null,
   "id": "42fa8e8a",
   "metadata": {},
   "outputs": [],
   "source": [
    "list(map(lambda x:\"Even\" if len(x)%2==0 else x[0:3],['january','february','march','april','may','june','july','august']))"
   ]
  },
  {
   "cell_type": "code",
   "execution_count": null,
   "id": "dff743f4",
   "metadata": {},
   "outputs": [],
   "source": [
    "months=[\"january\",\"february\",\"march\"]\n",
    "print(list(map(lambda mystring:\"Even\" if len(mystring)%2==0 else mystring[0],months)))"
   ]
  },
  {
   "cell_type": "code",
   "execution_count": null,
   "id": "f8b8aa8a",
   "metadata": {},
   "outputs": [],
   "source": [
    "name= input(\"Enter your name: \")\n",
    "vowels=list(map(lambda ch:ch in \"aeiou\",name))\n",
    "if len(vowels)==0:\n",
    "        print(\"Your name has  no vowel\")\n",
    "else:\n",
    "        print(\"vowels in your name are\",vowels)"
   ]
  },
  {
   "cell_type": "code",
   "execution_count": null,
   "id": "1e7fa035",
   "metadata": {},
   "outputs": [],
   "source": [
    "def square(num):\n",
    "    return num%2\n",
    "mynum=[1,2,3,4,5]\n",
    "print(list(filter(square,mynum)))"
   ]
  },
  {
   "cell_type": "markdown",
   "id": "3688728f",
   "metadata": {},
   "source": [
    "# What is the Try and Exception in Python??\n",
    "- Try-Except block are used for handling exceptions, Which are unexpected events that occur during the execution of a program."
   ]
  },
  {
   "cell_type": "code",
   "execution_count": null,
   "id": "19b6d420",
   "metadata": {},
   "outputs": [],
   "source": [
    "try:\n",
    "    a = 5\n",
    "    a/0\n",
    "except Exception as e:\n",
    "    print(e)"
   ]
  },
  {
   "cell_type": "code",
   "execution_count": null,
   "id": "0510c342",
   "metadata": {},
   "outputs": [],
   "source": [
    "try:\n",
    "    a = int(input())\n",
    "    print(a)\n",
    "except Exception as e:\n",
    "    print(e)"
   ]
  },
  {
   "cell_type": "code",
   "execution_count": null,
   "id": "82edaf34",
   "metadata": {},
   "outputs": [],
   "source": [
    "try:\n",
    "    a=int(input())\n",
    "    b = a/0\n",
    "    print(b)\n",
    "except:\n",
    "    print(\"error in your program\")"
   ]
  },
  {
   "cell_type": "code",
   "execution_count": null,
   "id": "babd3f4d",
   "metadata": {},
   "outputs": [],
   "source": [
    "try:\n",
    "    a=int(input())\n",
    "    b = a/0\n",
    "    print(b)\n",
    "except Exception as e:\n",
    "    print(e)"
   ]
  },
  {
   "cell_type": "code",
   "execution_count": null,
   "id": "76f66080",
   "metadata": {},
   "outputs": [],
   "source": [
    "try:\n",
    "    def test(a,b):\n",
    "        return a+b\n",
    "except Exception as e:\n",
    "    print(e)\n",
    "try:\n",
    "    a= int(input())\n",
    "    b= int(input())\n",
    "except Exception as e:\n",
    "    print(\"Error: \",e)\n",
    "test(a,b)"
   ]
  },
  {
   "cell_type": "code",
   "execution_count": null,
   "id": "ba8c0f56",
   "metadata": {},
   "outputs": [],
   "source": [
    "try:\n",
    "    def bmi(w,h):\n",
    "        \"\"\"hoiuhuioho\"\"\"\n",
    "        BMI = round((w/(h*h)),2)\n",
    "        return BMI\n",
    "except Exception as s:\n",
    "    print(s)\n",
    "try:\n",
    "    w = float(input('Enter your weight (kilograms):'))\n",
    "    h = float(input('Enter your height (meters):'))\n",
    "except Exception as s:\n",
    "    print(s)\n",
    "bmi(w,h)"
   ]
  },
  {
   "cell_type": "code",
   "execution_count": null,
   "id": "dad26e75",
   "metadata": {},
   "outputs": [],
   "source": [
    "def bmi():\n",
    "    try:\n",
    "        height = float(input('Enter your height (meters):'))\n",
    "        weight = float(input('Enter your weight (kilograms):'))\n",
    "\n",
    "    except ValueError as error:\n",
    "        print(error)\n",
    "bmi()        "
   ]
  },
  {
   "cell_type": "code",
   "execution_count": null,
   "id": "49cd420e",
   "metadata": {},
   "outputs": [],
   "source": [
    "try:\n",
    "    Height = float(input(\"Please enter your height in inches: \"))\n",
    "    Weight = float(input(\"Please enter your weight in kg: \"))\n",
    "except ValueError:\n",
    "    print(\"Please provide valid input.\")"
   ]
  },
  {
   "cell_type": "code",
   "execution_count": null,
   "id": "e1d7f48f",
   "metadata": {},
   "outputs": [],
   "source": [
    "def convert(c):\n",
    "    F = (9/5)*c + 32\n",
    "    return (F)\n",
    "try:\n",
    "    cel = float(input())\n",
    "    f = convert(cel)\n",
    "    print(\"The Temperature in Fahrenheit is \", f)\n",
    "except Exception as e:\n",
    "    print(\"Error\", e)"
   ]
  },
  {
   "cell_type": "code",
   "execution_count": null,
   "id": "ec1d4aa3",
   "metadata": {},
   "outputs": [],
   "source": [
    "try:\n",
    "    x = int(input(\"Enter number: \"))\n",
    "    x = x + 1\n",
    "    print(x)\n",
    "except ValueError:\n",
    "    print(\"Invalid input: Please enter a valid Number.\")\n",
    "except Exception as e:\n",
    "    print(\"An Error Occurred:\",e)"
   ]
  },
  {
   "cell_type": "code",
   "execution_count": null,
   "id": "ad6c7c74",
   "metadata": {},
   "outputs": [],
   "source": [
    "try:\n",
    "    x = int(input(\"Enter numerator: \"))\n",
    "    y = int(input(\"Enter denominator\"))\n",
    "    result = x / y\n",
    "    print(\"Result:\", result)\n",
    "except ZeroDivisionError as e:\n",
    "    print(\"Error1\", e)\n",
    "except ValueError as e:\n",
    "    print(\"Error2: \",e)\n",
    "except Exception as e:\n",
    "    print(\"An unexpected Error Occurred:\",e)"
   ]
  },
  {
   "cell_type": "code",
   "execution_count": null,
   "id": "4d1b961c",
   "metadata": {},
   "outputs": [],
   "source": [
    "try:\n",
    "    num = int(input(\"Enter a number: \"))\n",
    "    if num%2==0:\n",
    "        print(num,\"is Even Number\")\n",
    "    else:\n",
    "        print(num,\"is Odd Number\")\n",
    "except:\n",
    "    print(\"Enter Valid Input!\")"
   ]
  },
  {
   "cell_type": "code",
   "execution_count": null,
   "id": "d0c4f410",
   "metadata": {},
   "outputs": [],
   "source": [
    "x = 1\n",
    "y = 0\n",
    "\n",
    "try:\n",
    "    z = x / y\n",
    "    \n",
    "except ZeroDivisionError:\n",
    "    print(\"Error: Division by zero\")"
   ]
  },
  {
   "cell_type": "code",
   "execution_count": null,
   "id": "f4a6b931",
   "metadata": {},
   "outputs": [],
   "source": [
    "    try:\n",
    "        dict = {'tirth': 1, 'Raj': 2, 'Jeet': 3}\n",
    "\n",
    "        dict['y']=int(input())\n",
    "    except: \n",
    "        print(\"That word is not a key in the dictionary, try again\")"
   ]
  },
  {
   "cell_type": "code",
   "execution_count": null,
   "id": "4a3b62a7",
   "metadata": {},
   "outputs": [],
   "source": [
    "dict = {1:'tirth',2:'vinit','a':'1234'}\n",
    "dict['x'] = int(input())\n",
    "if type(dict['x']) == int:\n",
    "    raise ZeroDivisionError(\"Only Integers are allowed\")"
   ]
  },
  {
   "cell_type": "code",
   "execution_count": null,
   "id": "afad6815",
   "metadata": {},
   "outputs": [],
   "source": [
    "dict = {1:'tirth',2:'vinit','a':'1234'}\n",
    "try:\n",
    "    dict['x'] = int(input())\n",
    "    if type(dict['x']) == int:\n",
    "        raise ValueError(\"Only Integers are allowed\")\n",
    "except ValueError as e:\n",
    "    print(e)"
   ]
  },
  {
   "cell_type": "code",
   "execution_count": null,
   "id": "840080b6",
   "metadata": {},
   "outputs": [],
   "source": [
    "x= int(input())\n",
    "if x<0:\n",
    "        raise Exception(\"Sorry, no number below zero\")"
   ]
  },
  {
   "cell_type": "code",
   "execution_count": null,
   "id": "b4bda513",
   "metadata": {},
   "outputs": [],
   "source": [
    "def integer():\n",
    "    \"\"\"Function asks For an Integer unless provided otherwise\"\"\"\n",
    "    while True:\n",
    "        try:\n",
    "            x= int(input())\n",
    "            break\n",
    "        except ValueError as e:\n",
    "            print(\"enter the input again\",e)"
   ]
  },
  {
   "cell_type": "code",
   "execution_count": null,
   "id": "b6a6a772",
   "metadata": {},
   "outputs": [],
   "source": [
    "integer()"
   ]
  },
  {
   "cell_type": "code",
   "execution_count": null,
   "id": "d3f69ea3",
   "metadata": {},
   "outputs": [],
   "source": [
    "def fun1():\n",
    "    \"\"\" in this program integer value is added\"\"\"\n",
    "    flag=True\n",
    "    while flag:\n",
    "        try:\n",
    "            a=int(input(\"enter the integer:\"))\n",
    "            if type(a)==int:\n",
    "                return \"yes, you have entered an integer\"\n",
    "                flag=False\n",
    "        except Exception as e:\n",
    "            print(\"no, you did not enter an integer,please enter an integer. ERROR:\",e)"
   ]
  },
  {
   "cell_type": "code",
   "execution_count": null,
   "id": "b3826647",
   "metadata": {},
   "outputs": [],
   "source": [
    "fun1()"
   ]
  },
  {
   "cell_type": "code",
   "execution_count": null,
   "id": "366532cd",
   "metadata": {},
   "outputs": [],
   "source": [
    "def gettin(p):\n",
    "    while True:\n",
    "        try:\n",
    "            value = int(input(p))\n",
    "        except ValueError:\n",
    "            print(\"Sorry, I didnt understand that\")\n",
    "            continue\n",
    "        if value <0:\n",
    "            print(\"sorry, your response must be negative\")\n",
    "            continue \n",
    "        else:\n",
    "            break\n",
    "    return value        "
   ]
  },
  {
   "cell_type": "code",
   "execution_count": null,
   "id": "fdb95fa0",
   "metadata": {},
   "outputs": [],
   "source": [
    "gettin(1)"
   ]
  },
  {
   "cell_type": "code",
   "execution_count": null,
   "id": "5bce7952",
   "metadata": {},
   "outputs": [],
   "source": [
    "array = [\"Jan\", \"Feb\", \"Mar\", \"Apr\",\"May\"]\n",
    "for i in range(6):\n",
    "    try:\n",
    "        print(\"The element from the array present in index\", i,\"is\", array[i])\n",
    "    except:\n",
    "        print (\"Index out of range\")"
   ]
  },
  {
   "cell_type": "code",
   "execution_count": null,
   "id": "fe5c8480",
   "metadata": {},
   "outputs": [],
   "source": [
    "for i in range(8):\n",
    "    try:\n",
    "        if i % 2 == 0:\n",
    "            raise ValueError(\"some error\")\n",
    "        print(i)\n",
    "    except ValueError as e:\n",
    "        print(e)"
   ]
  },
  {
   "cell_type": "code",
   "execution_count": null,
   "id": "d513e1dd",
   "metadata": {},
   "outputs": [],
   "source": [
    "try: \n",
    "    x=ValueError(\"Value must be a letter\")\n",
    "    x.interror=\"value must be a letter\"  \n",
    "    raise x\n",
    "except ValueError as e:\n",
    "    print(\"value error exception\" .e.interror)"
   ]
  },
  {
   "cell_type": "code",
   "execution_count": null,
   "id": "7426d817",
   "metadata": {},
   "outputs": [],
   "source": [
    "def test(a):\n",
    "    if type(a)==int :\n",
    "        raise ZeroDivisionError(\"You have entered integer value \",a)\n",
    "    return(test)    "
   ]
  },
  {
   "cell_type": "code",
   "execution_count": null,
   "id": "62ce1398",
   "metadata": {},
   "outputs": [],
   "source": [
    "test (5)"
   ]
  },
  {
   "cell_type": "markdown",
   "id": "b4c78c2e",
   "metadata": {},
   "source": [
    "# What is logging??\n",
    "- Ligging is the process of recording events, errors and informational messages during the execution of a program.\n",
    "- The logging module provides a flexible framework for emitting log messages from python program which can help in debugging and monitring applications.\n",
    "- Log messages can be directed to various outputs such as the console files or external logging services and can include different levels of severity   \n",
    "(**e.g.**, DEBUG, INFO, WARNING, ERROR, CRITICAL)."
   ]
  },
  {
   "cell_type": "code",
   "execution_count": null,
   "id": "f6c4e117",
   "metadata": {},
   "outputs": [],
   "source": [
    "import logging\n",
    "logging.basicConfig(filename=\"test.log\",level =logging.INFO)"
   ]
  },
  {
   "cell_type": "code",
   "execution_count": null,
   "id": "a9744073",
   "metadata": {},
   "outputs": [],
   "source": [
    "logging.info(\"this is my info log\")\n",
    "logging.warning(\"this is my warning log\")\n",
    "logging.error(\"this is my error log\")"
   ]
  },
  {
   "cell_type": "code",
   "execution_count": null,
   "id": "d4f97cd7",
   "metadata": {},
   "outputs": [],
   "source": [
    "logging.shutdown()"
   ]
  },
  {
   "cell_type": "code",
   "execution_count": null,
   "id": "ec969be6",
   "metadata": {},
   "outputs": [],
   "source": [
    "pwd()"
   ]
  },
  {
   "cell_type": "code",
   "execution_count": null,
   "id": "6329391e",
   "metadata": {},
   "outputs": [],
   "source": [
    "import logging\n",
    "logging.basicConfig(filename=\"test11.log\",level =logging.DEBUG,format='%(asctime)s %(levelname)s %(message)s')"
   ]
  },
  {
   "cell_type": "code",
   "execution_count": null,
   "id": "eed995b8",
   "metadata": {},
   "outputs": [],
   "source": [
    "logging.info(\"this is my info log\")\n",
    "logging.warning(\"this is my warning log\")\n",
    "logging.debug(\" this is my debug log\")\n",
    "logging.error(\"this is my error log\")"
   ]
  },
  {
   "cell_type": "code",
   "execution_count": null,
   "id": "eaa272ae",
   "metadata": {},
   "outputs": [],
   "source": [
    "logging.shutdown()"
   ]
  },
  {
   "cell_type": "code",
   "execution_count": null,
   "id": "06fff562",
   "metadata": {
    "scrolled": true
   },
   "outputs": [],
   "source": [
    "import logging as lg\n",
    "a=5\n",
    "b=0\n",
    "try:\n",
    "   c =a/b\n",
    "except Exception as e:\n",
    "   lg.exception(\"Exception occured\")"
   ]
  },
  {
   "cell_type": "code",
   "execution_count": null,
   "id": "ce30eb15",
   "metadata": {},
   "outputs": [],
   "source": [
    "import logging\n",
    "def divzero(a,b):\n",
    "    logging.info(\"This is a start of my code and i am try to enter %s and %s\",a,b)\n",
    "    try:\n",
    "        div = a/b\n",
    "        logging.info(\"Executed Succ\")\n",
    "    except Exception as e:\n",
    "        logging.error(\"Error has happend\")\n",
    "        logging.exception(\"Exception occured \"+str(e))"
   ]
  },
  {
   "cell_type": "code",
   "execution_count": null,
   "id": "e5008128",
   "metadata": {},
   "outputs": [],
   "source": [
    "divzero(4,0)"
   ]
  },
  {
   "cell_type": "code",
   "execution_count": null,
   "id": "80d4ea83",
   "metadata": {},
   "outputs": [],
   "source": [
    "logging.shutdown()"
   ]
  },
  {
   "cell_type": "code",
   "execution_count": null,
   "id": "2aecd4c1",
   "metadata": {},
   "outputs": [],
   "source": [
    "import logging\n",
    "logging.basicConfig(filename = \"BMI.log\", level = logging.DEBUG, format = '%(asctime)s %(levelname)s %(message)s')\n",
    "try:\n",
    "    weight = float(input(\"Enter Weight In Kg: \"))\n",
    "    height = float(input(\"Enter Height In Inches:- \"))\n",
    "    bmi = weight/(height**2)\n",
    "    print(bmi)\n",
    "except Exception as e:\n",
    "    logging.exception(\"Exception Occurred\")"
   ]
  },
  {
   "cell_type": "code",
   "execution_count": null,
   "id": "8fdb0355",
   "metadata": {},
   "outputs": [],
   "source": [
    "logging.shutdown()"
   ]
  },
  {
   "cell_type": "code",
   "execution_count": null,
   "id": "b8e6b45e",
   "metadata": {},
   "outputs": [],
   "source": [
    "import logging as lg\n",
    "lg.basicConfig(filename=\"test300.log\",level =lg.DEBUG,format='%(asctime)s %(levelname)s %(message)s')\n",
    "\n",
    "try:\n",
    "    Height = float(input(\"Please enter your height in inches: \"))\n",
    "    Weight = float(input(\"Please enter your weight in kg: \"))\n",
    "\n",
    "    bmi=Weight/(Height*Height)\n",
    "    print(bmi)\n",
    "except Exception as e:\n",
    "    lg.exception(\"Exception occured\")\n",
    "    "
   ]
  },
  {
   "cell_type": "code",
   "execution_count": null,
   "id": "7059e99e",
   "metadata": {},
   "outputs": [],
   "source": [
    "lg.shutdown()"
   ]
  },
  {
   "cell_type": "code",
   "execution_count": null,
   "id": "47a84ec2",
   "metadata": {},
   "outputs": [],
   "source": [
    "import logging\n",
    "#create and configure logger\n",
    "logging.basicConfig(filename=\"test400.log\",\n",
    "                   format='%(asctime)s %(message)s', \n",
    "                   filemode='w')\n",
    "\n",
    "#Creating on object\n",
    "logger=logging.getLogger()\n",
    "\n",
    "#setting the threshold of logger to DEBUG\n",
    "logger.setLevel(logging.DEBUG)\n",
    "\n",
    "#test messages\n",
    "logger.debug(\"Harmless debug Message\")\n",
    "logger.info(\"Information only\")\n",
    "logger.warning(\"Its a warning message\")\n",
    "logger.error(\"Did you try to divide by zero\")\n",
    "logger.critical(\"Internet speed is down\")"
   ]
  },
  {
   "cell_type": "code",
   "execution_count": null,
   "id": "eefe2a29",
   "metadata": {},
   "outputs": [],
   "source": [
    "logging.shutdown()"
   ]
  },
  {
   "cell_type": "code",
   "execution_count": null,
   "id": "6eb5e169",
   "metadata": {},
   "outputs": [],
   "source": [
    "pwd()"
   ]
  },
  {
   "cell_type": "code",
   "execution_count": null,
   "id": "09c05f99",
   "metadata": {},
   "outputs": [],
   "source": [
    "import logging\n",
    "#create and configure logger\n",
    "logging.basicConfig(filename=\"test500.log\",\n",
    "                   format='%(asctime)s %(message)s', \n",
    "                   filemode='w')\n",
    "\n",
    "# Prompt for user input\n",
    "a = float(input(\"Enter the first number: \"))\n",
    "b = float(input(\"Enter the second number: \"))\n",
    "#Perform operations\n",
    "print(\"Sum: {} + {} = {}\".format(a,b,a+b))\n",
    "print(\"Difference: {}-{} = {}\".format(a,b,a-b))\n",
    "print(\"Product: {}*{} = {}\".format(a,b, a*b))\n",
    "\n",
    "print(\"Quotient: ({}/ {} = {}\".format(a,b,a/b))\n",
    "print(\"Power: {}^0) {}\".format(a,b,a**b))\n",
    "print(\"Division with remainder: {} / {} = {} Remainder: {}\".format(a,b,a//b,a*b))"
   ]
  },
  {
   "cell_type": "code",
   "execution_count": null,
   "id": "c0fad97b",
   "metadata": {},
   "outputs": [],
   "source": [
    "logging.shutdown()"
   ]
  },
  {
   "cell_type": "code",
   "execution_count": null,
   "id": "06ff382f",
   "metadata": {},
   "outputs": [],
   "source": [
    "pwd()"
   ]
  },
  {
   "cell_type": "markdown",
   "id": "75d00ab2",
   "metadata": {},
   "source": [
    "# What Is The File Handlin??\n",
    "- File Handling in Python Involves Reading from and Writing to file.\n",
    "- This allows you to store data presistently read data from external source and manage file operation.\n",
    "- Python Provides built in function and method to facilitate file handling.\n",
    "\n",
    "#### Key File Handling Operations:\n",
    "\n",
    "- `'r'`**: Read**\n",
    "- `'w'`**: Write**\n",
    "- `'a'`**: Append**\n",
    "- `'b'`**: Binary Mode ('rb','wb' For Reading and Writing Binary File)**\n",
    "- `'+'`**: Update Mode ('r+','w+' For Reading and Writing)**"
   ]
  },
  {
   "cell_type": "code",
   "execution_count": null,
   "id": "3a079649",
   "metadata": {},
   "outputs": [],
   "source": [
    "#file handling\n",
    "f=open(\"test555.txt\",\"w\")"
   ]
  },
  {
   "cell_type": "code",
   "execution_count": null,
   "id": "e55e613e",
   "metadata": {},
   "outputs": [],
   "source": [
    "%ls"
   ]
  },
  {
   "cell_type": "code",
   "execution_count": null,
   "id": "f9b4e7e2",
   "metadata": {},
   "outputs": [],
   "source": [
    "pwd()"
   ]
  },
  {
   "cell_type": "code",
   "execution_count": null,
   "id": "6a1ab5a0",
   "metadata": {},
   "outputs": [],
   "source": [
    "f.write(\"this is my file write op at 5 th location\")"
   ]
  },
  {
   "cell_type": "code",
   "execution_count": null,
   "id": "73a46051",
   "metadata": {},
   "outputs": [],
   "source": [
    "f.close()"
   ]
  },
  {
   "cell_type": "code",
   "execution_count": null,
   "id": "10d3097a",
   "metadata": {},
   "outputs": [],
   "source": [
    "f=open(\"test555.txt\",\"w\")"
   ]
  },
  {
   "cell_type": "code",
   "execution_count": null,
   "id": "f71680d5",
   "metadata": {},
   "outputs": [],
   "source": [
    "f.write(\"this is my name\")"
   ]
  },
  {
   "cell_type": "code",
   "execution_count": null,
   "id": "8b052e6f",
   "metadata": {},
   "outputs": [],
   "source": [
    "f.close()"
   ]
  },
  {
   "cell_type": "code",
   "execution_count": null,
   "id": "22bee68e",
   "metadata": {},
   "outputs": [],
   "source": [
    "f=open('1.txt','w')"
   ]
  },
  {
   "cell_type": "code",
   "execution_count": null,
   "id": "7f99c0f1",
   "metadata": {},
   "outputs": [],
   "source": [
    "f.write(\"sdeffvggfgghhhnhjjjhjhjhjjjj\")"
   ]
  },
  {
   "cell_type": "code",
   "execution_count": null,
   "id": "9f1561ad",
   "metadata": {},
   "outputs": [],
   "source": [
    "f.close()"
   ]
  },
  {
   "cell_type": "code",
   "execution_count": null,
   "id": "a6a8ea1c",
   "metadata": {},
   "outputs": [],
   "source": [
    "f=open('1.txt','a')"
   ]
  },
  {
   "cell_type": "code",
   "execution_count": null,
   "id": "f4156893",
   "metadata": {},
   "outputs": [],
   "source": [
    "f.write(\"my name is tirth\")"
   ]
  },
  {
   "cell_type": "code",
   "execution_count": null,
   "id": "b88bdbf6",
   "metadata": {},
   "outputs": [],
   "source": [
    "f.close()"
   ]
  },
  {
   "cell_type": "code",
   "execution_count": null,
   "id": "1d7a3255",
   "metadata": {},
   "outputs": [],
   "source": [
    "f=open('goggle_1.txt','w')"
   ]
  },
  {
   "cell_type": "code",
   "execution_count": null,
   "id": "35cabdc8",
   "metadata": {},
   "outputs": [],
   "source": [
    "f.write(\"\"\"Python is a high-level, general-purpose programming language. Its design philosophy emphasizes code readability with the use of significant indentation via the off-side rule.[34]\n",
    "\n",
    "Python is dynamically typed and garbage-collected. It supports multiple programming paradigms, including structured (particularly procedural), object-oriented and functional programming. It is often described as a \"batteries included\" language due to its comprehensive standard library.[35][36]\n",
    "\n",
    "Guido van Rossum began working on Python in the late 1980s as a successor to the ABC programming language and first released it in 1991 as Python 0.9.0.[37] Python 2.0 was released in 2000. Python 3.0, released in 2008, was a major revision not completely backward-compatible with earlier versions. Python 2.7.18, released in 2020, was the last release of Python 2.[38]\"\"\")"
   ]
  },
  {
   "cell_type": "code",
   "execution_count": null,
   "id": "195c1897",
   "metadata": {},
   "outputs": [],
   "source": [
    "f.close()"
   ]
  },
  {
   "cell_type": "code",
   "execution_count": null,
   "id": "67451b0d",
   "metadata": {},
   "outputs": [],
   "source": [
    "f=open('goggle_1.txt','r+')"
   ]
  },
  {
   "cell_type": "code",
   "execution_count": null,
   "id": "640ba691",
   "metadata": {},
   "outputs": [],
   "source": [
    "f.read()"
   ]
  },
  {
   "cell_type": "code",
   "execution_count": null,
   "id": "c6683eb5",
   "metadata": {},
   "outputs": [],
   "source": [
    "f.seek(5)"
   ]
  },
  {
   "cell_type": "code",
   "execution_count": null,
   "id": "8e02f3e7",
   "metadata": {},
   "outputs": [],
   "source": [
    "f.readline()"
   ]
  },
  {
   "cell_type": "code",
   "execution_count": null,
   "id": "0e86f0b0",
   "metadata": {},
   "outputs": [],
   "source": [
    "f=open('goggle_1.txt','r+')\n",
    "for line in f:\n",
    "    print(line,end=\" \")"
   ]
  },
  {
   "cell_type": "code",
   "execution_count": null,
   "id": "2cc7e669",
   "metadata": {},
   "outputs": [],
   "source": [
    "msg=str(input(\"enter the massage which you want to encrypt:\"))\n",
    "str1 = \"\"\n",
    "#print(len(msg))\n",
    "for i in range(len(msg)):\n",
    "    #print(msg[i])\n",
    "         n=ord (msg[i])\n",
    "   # print(n)\n",
    "         j=122-n+97\n",
    "    #print(j)\n",
    "         str1[i]=chr(j)\n",
    "    \n",
    "print(msg)\n",
    "   \n",
    "    \n",
    "    \n",
    "     \n",
    "    \n"
   ]
  },
  {
   "cell_type": "code",
   "execution_count": null,
   "id": "490a1493",
   "metadata": {},
   "outputs": [],
   "source": [
    "msg=str(input(\"enter the massage: \"))\n",
    "\n",
    "ascii_value=65\n",
    "for i in range(len(msg)):\n",
    "    for j in range(i+1):\n",
    "        alphabet=chr(ascii_value)\n",
    "        print(alphabet,end=\" \")\n",
    "    ascii_value +=1    \n",
    "        \n",
    "        \n",
    "    print(\"\\n\")"
   ]
  },
  {
   "cell_type": "code",
   "execution_count": null,
   "id": "258be2b6",
   "metadata": {},
   "outputs": [],
   "source": [
    "file = open('example.txt','w')"
   ]
  },
  {
   "cell_type": "code",
   "execution_count": null,
   "id": "05f4d046",
   "metadata": {},
   "outputs": [],
   "source": [
    "with open('example.txt','r') as file:\n",
    "    content = file.read()\n",
    "    print(content)"
   ]
  },
  {
   "cell_type": "code",
   "execution_count": null,
   "id": "618f874d",
   "metadata": {},
   "outputs": [],
   "source": [
    "with open('example.txt','a') as file:\n",
    "    file.write('Appending this line.\\n')"
   ]
  },
  {
   "cell_type": "code",
   "execution_count": null,
   "id": "8a56178b",
   "metadata": {},
   "outputs": [],
   "source": [
    "file = open('example.txt','r')\n",
    "content = file.read()\n",
    "file.close()"
   ]
  },
  {
   "cell_type": "code",
   "execution_count": null,
   "id": "84ea2a75",
   "metadata": {},
   "outputs": [],
   "source": [
    "with open('example.txt','r') as file:\n",
    "    content = file.read()\n",
    "    print(content)"
   ]
  },
  {
   "cell_type": "code",
   "execution_count": null,
   "id": "9d4577e3",
   "metadata": {},
   "outputs": [],
   "source": [
    "with open('example.txt','w') as file:\n",
    "    file.write(\"Hello, World!\\n\")\n",
    "    file.writelines([\"This is Line 1.\\n\", \"This is Line 2.\\n\"])\n",
    "    \n",
    "with open('example.txt','r') as file:\n",
    "    content = file.read()\n",
    "    print('Read entire file:\\n',content)\n",
    "    \n",
    "with open('example.txt','r') as file:\n",
    "    for line in file:\n",
    "        print(\"Read Line:\",line.strip())\n",
    "        \n",
    "with open('example.txt', 'r') as file:\n",
    "    first_line = file.readline()\n",
    "    print(\"First Line:\",first_line.strip())\n",
    "    \n",
    "    second_line = file.readline()\n",
    "    print(\"Second Line:\",second_line.strip())"
   ]
  },
  {
   "cell_type": "code",
   "execution_count": null,
   "id": "ee3158b1",
   "metadata": {},
   "outputs": [],
   "source": [
    "with open('example.txt','a') as file:\n",
    "    file.write('Appending this line.\\n')"
   ]
  },
  {
   "cell_type": "code",
   "execution_count": null,
   "id": "e8fdf584",
   "metadata": {},
   "outputs": [],
   "source": [
    "file.close()"
   ]
  },
  {
   "cell_type": "code",
   "execution_count": null,
   "id": "44c5e566",
   "metadata": {},
   "outputs": [],
   "source": [
    "try:\n",
    "    with open('example.txt','r') as file:\n",
    "        content = file.read()\n",
    "        print(content)\n",
    "except FileNotFoundError:\n",
    "    print(\"File Not Found.\")\n",
    "except IoError:\n",
    "    print(\"An Error Occurred.\")"
   ]
  },
  {
   "cell_type": "code",
   "execution_count": null,
   "id": "5cd9ba91",
   "metadata": {},
   "outputs": [],
   "source": [
    "try:\n",
    "    with open('none.txt','r') as file:\n",
    "        content = file.read()\n",
    "        print(content)\n",
    "except FileNotFoundError:\n",
    "    print(\"File Not Found.\")\n",
    "except IoError:\n",
    "    print(\"An Error Occurred.\")"
   ]
  },
  {
   "cell_type": "code",
   "execution_count": null,
   "id": "6a393bfe",
   "metadata": {},
   "outputs": [],
   "source": []
  }
 ],
 "metadata": {
  "kernelspec": {
   "display_name": "Python 3 (ipykernel)",
   "language": "python",
   "name": "python3"
  },
  "language_info": {
   "codemirror_mode": {
    "name": "ipython",
    "version": 3
   },
   "file_extension": ".py",
   "mimetype": "text/x-python",
   "name": "python",
   "nbconvert_exporter": "python",
   "pygments_lexer": "ipython3",
   "version": "3.12.7"
  }
 },
 "nbformat": 4,
 "nbformat_minor": 5
}
