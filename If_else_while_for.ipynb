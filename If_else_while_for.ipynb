{
 "cells": [
  {
   "cell_type": "code",
   "execution_count": 5,
   "id": "5c590573",
   "metadata": {},
   "outputs": [
    {
     "name": "stdout",
     "output_type": "stream",
     "text": [
      "18\n",
      "this is divisible\n"
     ]
    }
   ],
   "source": [
    "a = int(input())\n",
    "if a%2 == 0:\n",
    "    print ('this is divisible')\n",
    "else:\n",
    "    print ('this is not divisible')"
   ]
  },
  {
   "cell_type": "code",
   "execution_count": 3,
   "id": "40a006a9",
   "metadata": {},
   "outputs": [
    {
     "name": "stdout",
     "output_type": "stream",
     "text": [
      "2000\n",
      "it is leap year\n"
     ]
    }
   ],
   "source": [
    "a = int(input())\n",
    "if a%400 == 0:\n",
    "    if a%100 == 0:\n",
    "        if a%4 == 0:\n",
    "            print ('it is leap year')\n",
    "else:\n",
    "    print ('it is not leap year')"
   ]
  },
  {
   "cell_type": "code",
   "execution_count": 12,
   "id": "e964857f",
   "metadata": {},
   "outputs": [
    {
     "name": "stdout",
     "output_type": "stream",
     "text": [
      "2016\n",
      "it is leap year\n"
     ]
    }
   ],
   "source": [
    "a = int(input())\n",
    "if a%400 == 0:\n",
    "     print ('it is leap year')\n",
    "elif (a%4 == 0) and (a%100 != 0):\n",
    "    print ('it is leap year')\n",
    "else:\n",
    "    print ('it is not leap year')"
   ]
  },
  {
   "cell_type": "code",
   "execution_count": 18,
   "id": "dea0920e",
   "metadata": {},
   "outputs": [
    {
     "name": "stdout",
     "output_type": "stream",
     "text": [
      "this is not a list\n"
     ]
    }
   ],
   "source": [
    "#a = [2,3,4,5, 'parag', 2.5,4.5,5.6]\n",
    "a=3\n",
    "if type (a) == list:\n",
    "    print (a)\n",
    "else:\n",
    "    print ('this is not a list')"
   ]
  },
  {
   "cell_type": "code",
   "execution_count": 19,
   "id": "78aa36ea",
   "metadata": {},
   "outputs": [
    {
     "data": {
      "text/plain": [
       "int"
      ]
     },
     "execution_count": 19,
     "metadata": {},
     "output_type": "execute_result"
    }
   ],
   "source": [
    "type (a)"
   ]
  },
  {
   "cell_type": "code",
   "execution_count": 1,
   "id": "7931a9df",
   "metadata": {},
   "outputs": [
    {
     "data": {
      "text/plain": [
       "range(0, 6)"
      ]
     },
     "execution_count": 1,
     "metadata": {},
     "output_type": "execute_result"
    }
   ],
   "source": [
    "range(6)"
   ]
  },
  {
   "cell_type": "code",
   "execution_count": 2,
   "id": "3bb86b6c",
   "metadata": {},
   "outputs": [
    {
     "data": {
      "text/plain": [
       "range(0, 6)"
      ]
     },
     "execution_count": 2,
     "metadata": {},
     "output_type": "execute_result"
    }
   ],
   "source": [
    "range(0,6)"
   ]
  },
  {
   "cell_type": "code",
   "execution_count": 3,
   "id": "500ad96e",
   "metadata": {},
   "outputs": [
    {
     "data": {
      "text/plain": [
       "range(0, 20, 2)"
      ]
     },
     "execution_count": 3,
     "metadata": {},
     "output_type": "execute_result"
    }
   ],
   "source": [
    "range(0,20,2)"
   ]
  },
  {
   "cell_type": "code",
   "execution_count": 4,
   "id": "bb341743",
   "metadata": {},
   "outputs": [
    {
     "name": "stdout",
     "output_type": "stream",
     "text": [
      "3\n",
      "4\n",
      "5\n",
      "6\n",
      "7\n"
     ]
    }
   ],
   "source": [
    "l = [3,4,5,6,7]\n",
    "for i in l:\n",
    "    print(i)"
   ]
  },
  {
   "cell_type": "code",
   "execution_count": 5,
   "id": "15f208d0",
   "metadata": {},
   "outputs": [
    {
     "name": "stdout",
     "output_type": "stream",
     "text": [
      "p\n",
      "a\n",
      "r\n",
      "a\n",
      "g\n"
     ]
    }
   ],
   "source": [
    "l = ('parag')\n",
    "for i in l:\n",
    "    print(i)"
   ]
  },
  {
   "cell_type": "code",
   "execution_count": 6,
   "id": "ac047c9f",
   "metadata": {},
   "outputs": [
    {
     "name": "stdout",
     "output_type": "stream",
     "text": [
      "0\n",
      "1\n",
      "2\n",
      "3\n",
      "4\n",
      "5\n",
      "6\n",
      "7\n",
      "8\n",
      "9\n"
     ]
    }
   ],
   "source": [
    "for i in range (10):\n",
    "    print(i)"
   ]
  },
  {
   "cell_type": "code",
   "execution_count": 14,
   "id": "8e5bcd32",
   "metadata": {},
   "outputs": [
    {
     "name": "stdout",
     "output_type": "stream",
     "text": [
      "0\n",
      "2\n",
      "4\n",
      "6\n",
      "8\n"
     ]
    }
   ],
   "source": [
    "for i in range(0,10,2):\n",
    "    print(i)"
   ]
  },
  {
   "cell_type": "code",
   "execution_count": 5,
   "id": "65cfb948",
   "metadata": {},
   "outputs": [],
   "source": [
    "l = [8,9,'parag','p',8.9,8+9j]"
   ]
  },
  {
   "cell_type": "code",
   "execution_count": 6,
   "id": "6f0b8368",
   "metadata": {},
   "outputs": [
    {
     "data": {
      "text/plain": [
       "[8, 9, 'parag', 'p', 8.9, (8+9j)]"
      ]
     },
     "execution_count": 6,
     "metadata": {},
     "output_type": "execute_result"
    }
   ],
   "source": [
    "l"
   ]
  },
  {
   "cell_type": "code",
   "execution_count": 7,
   "id": "35b82796",
   "metadata": {},
   "outputs": [
    {
     "name": "stdout",
     "output_type": "stream",
     "text": [
      "8\n",
      "9\n"
     ]
    }
   ],
   "source": [
    "for i in l:\n",
    "    if type(i) == int:\n",
    "        print (i)"
   ]
  },
  {
   "cell_type": "code",
   "execution_count": 25,
   "id": "fcc6907c",
   "metadata": {},
   "outputs": [
    {
     "name": "stdout",
     "output_type": "stream",
     "text": [
      "8\n",
      "9\n"
     ]
    }
   ],
   "source": [
    "for i in l:\n",
    "    #print(i)\n",
    "    if type(i) == int:\n",
    "        print (i)"
   ]
  },
  {
   "cell_type": "code",
   "execution_count": 8,
   "id": "5240c74a",
   "metadata": {},
   "outputs": [],
   "source": [
    "l = [8,9,'parag','p',8.9,8+9j,[8,9,7,'j']]"
   ]
  },
  {
   "cell_type": "code",
   "execution_count": 9,
   "id": "0f3ac17f",
   "metadata": {},
   "outputs": [],
   "source": [
    "l = [1,2,3,4,'parag',8.9,7.7,7.5]"
   ]
  },
  {
   "cell_type": "code",
   "execution_count": 10,
   "id": "51ab6b11",
   "metadata": {},
   "outputs": [
    {
     "data": {
      "text/plain": [
       "[1, 2, 3, 4, 'parag', 8.9, 7.7, 7.5]"
      ]
     },
     "execution_count": 10,
     "metadata": {},
     "output_type": "execute_result"
    }
   ],
   "source": [
    "l"
   ]
  },
  {
   "cell_type": "code",
   "execution_count": 30,
   "id": "327a33ae",
   "metadata": {},
   "outputs": [
    {
     "name": "stdout",
     "output_type": "stream",
     "text": [
      "1\n",
      "2\n",
      "3\n",
      "4\n"
     ]
    }
   ],
   "source": [
    "for i in l:\n",
    "    if type(i) == int:\n",
    "        print (i)"
   ]
  },
  {
   "cell_type": "code",
   "execution_count": 31,
   "id": "3fc47925",
   "metadata": {},
   "outputs": [
    {
     "name": "stdout",
     "output_type": "stream",
     "text": [
      "parag\n"
     ]
    }
   ],
   "source": [
    "for i in l:\n",
    "    if type(i) == str:\n",
    "        print (i)"
   ]
  },
  {
   "cell_type": "code",
   "execution_count": 32,
   "id": "2df0e605",
   "metadata": {},
   "outputs": [
    {
     "name": "stdout",
     "output_type": "stream",
     "text": [
      "8.9\n",
      "7.7\n",
      "7.5\n"
     ]
    }
   ],
   "source": [
    "for i in l:\n",
    "    if type(i) == float:\n",
    "        print (i)"
   ]
  },
  {
   "cell_type": "code",
   "execution_count": 33,
   "id": "703c91cb",
   "metadata": {},
   "outputs": [
    {
     "name": "stdout",
     "output_type": "stream",
     "text": [
      "1\n",
      "2\n",
      "3\n",
      "4\n",
      "parag\n",
      "8.9\n",
      "7.7\n",
      "7.5\n"
     ]
    }
   ],
   "source": [
    "for i in l:\n",
    "    if type(i) == int:\n",
    "        print (i)\n",
    "    elif type(i) == str:\n",
    "        print (i)\n",
    "    elif type(i) == float:\n",
    "        print(i)"
   ]
  },
  {
   "cell_type": "code",
   "execution_count": 34,
   "id": "52835c08",
   "metadata": {},
   "outputs": [
    {
     "name": "stdout",
     "output_type": "stream",
     "text": [
      "\n",
      "\n",
      " *  \n",
      "\n",
      " *   *  \n",
      "\n",
      " *   *   *  \n",
      "\n",
      " *   *   *   *  \n",
      "\n"
     ]
    }
   ],
   "source": [
    "for i in range (0,5):\n",
    "    for j in range (0,i):\n",
    "        print (\" * \", end = \" \")\n",
    "    print('\\n')"
   ]
  },
  {
   "cell_type": "code",
   "execution_count": 7,
   "id": "19f4e022",
   "metadata": {},
   "outputs": [
    {
     "name": "stdout",
     "output_type": "stream",
     "text": [
      " *    *    *    *    *   \n",
      "\n",
      " *    *    *    *    *   \n",
      "\n",
      " *    *    *    *    *   \n",
      "\n",
      " *    *    *    *    *   \n",
      "\n",
      " *    *    *    *    *   \n",
      "\n"
     ]
    }
   ],
   "source": [
    "for i in range (0,5):\n",
    "    for j in range (0,5):\n",
    "        print (\" * \", end = \"  \")\n",
    "    print('\\n')"
   ]
  },
  {
   "cell_type": "code",
   "execution_count": 4,
   "id": "928cec67",
   "metadata": {},
   "outputs": [
    {
     "name": "stdout",
     "output_type": "stream",
     "text": [
      " *    *    *    *    *   \n",
      "\n",
      "       \n",
      "\n",
      "       \n",
      "\n",
      "       \n",
      "\n",
      "       \n",
      "\n"
     ]
    }
   ],
   "source": [
    "for i in range (0,5):\n",
    "    for j in range (0,5):\n",
    "        if (i == 0 or i == -1):\n",
    "            print (\" * \", end = \"  \")\n",
    "        elif (j == 0 or j == -1):\n",
    "            print (\"  \", end = \" \")\n",
    "        else:\n",
    "            print ('', end = ' ')\n",
    "    print('\\n')"
   ]
  },
  {
   "cell_type": "code",
   "execution_count": 6,
   "id": "9e777be6",
   "metadata": {},
   "outputs": [
    {
     "name": "stdout",
     "output_type": "stream",
     "text": [
      "* * * * * \n",
      "*       * \n",
      "*       * \n",
      "*       * \n",
      "* * * * * \n"
     ]
    }
   ],
   "source": [
    "for raw in range (5):\n",
    "    for col in range (5):\n",
    "        if (raw in {0,4}):\n",
    "            print(\"*\", end = ' ')\n",
    "        elif (raw in {1,2,3,4}) and (col in {0,4}):\n",
    "                print (\"*\", end = ' ')\n",
    "        else:\n",
    "                print (' ', end = ' ')\n",
    "    print ()"
   ]
  },
  {
   "cell_type": "code",
   "execution_count": 12,
   "id": "46ddc530",
   "metadata": {},
   "outputs": [
    {
     "name": "stdout",
     "output_type": "stream",
     "text": [
      "* * * * * \n",
      "* p p p * \n",
      "* p p p * \n",
      "* p p p * \n",
      "* * * * * \n"
     ]
    }
   ],
   "source": [
    "for raw in range (5):\n",
    "    for col in range (5):\n",
    "        if (raw in {0,4}):\n",
    "            print(\"*\", end = ' ')\n",
    "        elif (raw in {1,2,3,4}) and (col in {0,4}):\n",
    "                print (\"*\", end = ' ')\n",
    "        else:\n",
    "                print ('p', end = ' ')\n",
    "    print ()"
   ]
  },
  {
   "cell_type": "code",
   "execution_count": 8,
   "id": "096218d9",
   "metadata": {},
   "outputs": [
    {
     "name": "stdout",
     "output_type": "stream",
     "text": [
      "0 \n",
      "\n",
      "0 1 \n",
      "\n",
      "0 1 2 \n",
      "\n",
      "0 1 2 3 \n",
      "\n",
      "0 1 2 3 4 \n",
      "\n"
     ]
    }
   ],
   "source": [
    "for i in range (0,5):\n",
    "    for j in range (i+1):\n",
    "        print (j, end = \" \")\n",
    "    print('\\n')"
   ]
  },
  {
   "cell_type": "code",
   "execution_count": 1,
   "id": "4b3da955",
   "metadata": {},
   "outputs": [
    {
     "name": "stdout",
     "output_type": "stream",
     "text": [
      "enter the value of a: 5\n",
      "\n",
      "\n",
      "A \n",
      "\n",
      "A B \n",
      "\n",
      "A B C \n",
      "\n",
      "A B C D \n",
      "\n"
     ]
    }
   ],
   "source": [
    "a = int(input(\"enter the value of a: \"))\n",
    "for i in range (0,a):\n",
    "    for j in range (65, 65+i):\n",
    "        print(chr(j), end = \" \")\n",
    "    print('\\n')"
   ]
  },
  {
   "cell_type": "code",
   "execution_count": 13,
   "id": "25c5a01b",
   "metadata": {},
   "outputs": [
    {
     "name": "stdout",
     "output_type": "stream",
     "text": [
      "enter the value of a: 5\n",
      "A \n",
      "\n",
      "B B \n",
      "\n",
      "C C C \n",
      "\n",
      "D D D D \n",
      "\n",
      "E E E E E \n",
      "\n"
     ]
    }
   ],
   "source": [
    "a = int(input(\"enter the value of a: \"))\n",
    "for i in range (65,70):\n",
    "    for j in range (65, i+1):\n",
    "        print(chr(i), end = \" \")\n",
    "    print('\\n')"
   ]
  },
  {
   "cell_type": "code",
   "execution_count": 1,
   "id": "c897afc5",
   "metadata": {},
   "outputs": [
    {
     "name": "stdout",
     "output_type": "stream",
     "text": [
      "Enter number of rows: 5\n",
      " *   *   *   *   *  \n",
      "\n",
      " *   *   *   *  \n",
      "\n",
      " *   *   *  \n",
      "\n",
      " *   *  \n",
      "\n",
      " *  \n",
      "\n"
     ]
    }
   ],
   "source": [
    "a = int (input(\"Enter number of rows: \"))\n",
    "for i in range (a,0,-1):\n",
    "    for j in range (0,i):\n",
    "        print(\" * \", end = \" \")\n",
    "    print('\\n')"
   ]
  },
  {
   "cell_type": "code",
   "execution_count": 15,
   "id": "656351df",
   "metadata": {},
   "outputs": [
    {
     "name": "stdout",
     "output_type": "stream",
     "text": [
      "Enter number of rows: 5\n",
      "A B C D E \n",
      "\n",
      "A B C D \n",
      "\n",
      "A B C \n",
      "\n",
      "A B \n",
      "\n",
      "A \n",
      "\n"
     ]
    }
   ],
   "source": [
    "a = int (input(\"Enter number of rows: \"))\n",
    "for i in range (a,0,-1):\n",
    "    for j in range (65,65+i):\n",
    "        print(chr(j), end = \" \")\n",
    "    print('\\n')"
   ]
  },
  {
   "cell_type": "code",
   "execution_count": 10,
   "id": "2e2be3b2",
   "metadata": {},
   "outputs": [
    {
     "name": "stdout",
     "output_type": "stream",
     "text": [
      "enter number of rows: 5\n",
      "    * \n",
      "\n",
      "   * * \n",
      "\n",
      "  * * * \n",
      "\n",
      " * * * * \n",
      "\n",
      "* * * * * \n",
      "\n"
     ]
    }
   ],
   "source": [
    "n = int(input(\"enter number of rows: \"))\n",
    "k = n-1\n",
    "for i in range (0,n):\n",
    "    for j in range(0,k):\n",
    "        print(end=\" \")\n",
    "    k = k-1\n",
    "    for j in range (0,i+1):\n",
    "        print(\"*\", end = \" \")\n",
    "    print (\"\\n\")"
   ]
  },
  {
   "cell_type": "code",
   "execution_count": 5,
   "id": "c8e0875f",
   "metadata": {},
   "outputs": [
    {
     "name": "stdout",
     "output_type": "stream",
     "text": [
      "enter number of rows: 5\n",
      "* * * * * * * \n",
      "  * * * * * \n",
      "    * * * \n",
      "      * \n"
     ]
    }
   ],
   "source": [
    "n = int(input(\"enter number of rows: \"))\n",
    "for i in range(n,1,-1):\n",
    "    for space in range (0,n-i):\n",
    "        print(\" \", end = \" \")\n",
    "    for j in range (i, 2*i-1):\n",
    "        print (\"*\", end = \" \")\n",
    "    for j in range (1, i-1):\n",
    "        print (\"*\", end = \" \")\n",
    "    print ()"
   ]
  },
  {
   "cell_type": "code",
   "execution_count": 5,
   "id": "d19db9d8",
   "metadata": {},
   "outputs": [
    {
     "name": "stdout",
     "output_type": "stream",
     "text": [
      "1 \n",
      "\n",
      "2 3 \n",
      "\n",
      "4 5 6 \n",
      "\n",
      "7 8 9 10 \n",
      "\n",
      "11 12 13 14 15 \n",
      "\n"
     ]
    }
   ],
   "source": [
    "num = 1\n",
    "n = 5\n",
    "for i in range (0,n):\n",
    "    for j in range (0,i+1):\n",
    "        print(num, end = \" \")\n",
    "        num = num + 1\n",
    "    print (\"\\n\")"
   ]
  },
  {
   "cell_type": "code",
   "execution_count": 2,
   "id": "d2b730a9",
   "metadata": {},
   "outputs": [
    {
     "name": "stdout",
     "output_type": "stream",
     "text": [
      "1\n",
      "2\n",
      "3\n",
      "4\n",
      "5\n"
     ]
    }
   ],
   "source": [
    "a=1\n",
    "while a<6:\n",
    "    print(a)\n",
    "    a=a+1 ## counter"
   ]
  },
  {
   "cell_type": "code",
   "execution_count": 3,
   "id": "6f2c1897",
   "metadata": {},
   "outputs": [
    {
     "name": "stdout",
     "output_type": "stream",
     "text": [
      "1\n",
      "2\n",
      "3\n",
      "4\n",
      "5\n",
      "6\n",
      "7\n"
     ]
    }
   ],
   "source": [
    "a=1\n",
    "while a<=10:\n",
    "    print (a)\n",
    "    a=a+1\n",
    "    if a==8 :\n",
    "        break\n",
    "    #a=a+1"
   ]
  },
  {
   "cell_type": "code",
   "execution_count": 4,
   "id": "a4981ece",
   "metadata": {},
   "outputs": [
    {
     "name": "stdout",
     "output_type": "stream",
     "text": [
      "1\n",
      "2\n",
      "3\n",
      "4\n"
     ]
    }
   ],
   "source": [
    "a = [1,2,3,4]\n",
    "for i in a:\n",
    "    pass\n",
    "    print(i)"
   ]
  },
  {
   "cell_type": "code",
   "execution_count": 3,
   "id": "e7a5cb10",
   "metadata": {},
   "outputs": [
    {
     "name": "stdout",
     "output_type": "stream",
     "text": [
      "1\n",
      "2\n",
      "3\n"
     ]
    }
   ],
   "source": [
    "a = [1,2,3,4]\n",
    "for i in a:\n",
    "    if i==4:\n",
    "        break\n",
    "    print(i)"
   ]
  },
  {
   "cell_type": "code",
   "execution_count": 7,
   "id": "7827da0b",
   "metadata": {},
   "outputs": [],
   "source": [
    "a = 8\n",
    "while a == 6:\n",
    "    print(\"okay\")\n",
    "    a = a+1\n",
    "    break\n",
    "    print (a)"
   ]
  },
  {
   "cell_type": "code",
   "execution_count": 8,
   "id": "90951c8c",
   "metadata": {},
   "outputs": [
    {
     "name": "stdout",
     "output_type": "stream",
     "text": [
      "1\n",
      "2\n",
      "3\n"
     ]
    }
   ],
   "source": [
    "l = [1,2,3,4,\"emailid\"]\n",
    "for i in l:\n",
    "    if i == 4:\n",
    "        break\n",
    "    print(i)\n",
    "else:\n",
    "    print (\"check this statement\")"
   ]
  },
  {
   "cell_type": "code",
   "execution_count": 9,
   "id": "640d18ba",
   "metadata": {},
   "outputs": [
    {
     "name": "stdout",
     "output_type": "stream",
     "text": [
      "1\n",
      "2\n",
      "3\n",
      "4\n"
     ]
    }
   ],
   "source": [
    "l = [1,2,3,4,'parag',3.3,3.5,3.6]\n",
    "for i in l:\n",
    "    if type(i) == int:\n",
    "        print(i)"
   ]
  },
  {
   "cell_type": "code",
   "execution_count": 10,
   "id": "c162de06",
   "metadata": {},
   "outputs": [
    {
     "name": "stdout",
     "output_type": "stream",
     "text": [
      "r\n",
      "a\n"
     ]
    }
   ],
   "source": [
    "l = ['r','a',3,4,\"emailid\"]\n",
    "for i in l:\n",
    "    if type(i) == int:\n",
    "        break\n",
    "    print(i)\n",
    "else:\n",
    "    print (\"check the statement\")"
   ]
  },
  {
   "cell_type": "code",
   "execution_count": 11,
   "id": "9a2f7536",
   "metadata": {},
   "outputs": [
    {
     "name": "stdout",
     "output_type": "stream",
     "text": [
      "     \n",
      "    *\n",
      "   **\n",
      "  ***\n",
      " ****\n",
      "*****\n"
     ]
    }
   ],
   "source": [
    "n=5; i=0\n",
    "while (i<=n):\n",
    "    print(\" \" * (n-i) + \"*\" * i)\n",
    "    i = i + 1"
   ]
  },
  {
   "cell_type": "code",
   "execution_count": 13,
   "id": "47b22e1e",
   "metadata": {},
   "outputs": [
    {
     "name": "stdout",
     "output_type": "stream",
     "text": [
      "     \n",
      "*    \n",
      "**   \n",
      "***  \n",
      "**** \n",
      "*****\n"
     ]
    }
   ],
   "source": [
    "n=5; i=0\n",
    "while (i<=n):\n",
    "    print(\"*\" * i + \" \" * (n-i))\n",
    "    i = i + 1"
   ]
  },
  {
   "cell_type": "code",
   "execution_count": null,
   "id": "ad5bf1ae",
   "metadata": {},
   "outputs": [],
   "source": [
    "a = int(input(\"enter the number: \"))\n",
    "if a!= "
   ]
  },
  {
   "cell_type": "code",
   "execution_count": 1,
   "id": "a68ad32f",
   "metadata": {},
   "outputs": [],
   "source": [
    "def test():\n",
    "    pass"
   ]
  },
  {
   "cell_type": "code",
   "execution_count": 2,
   "id": "854e30d2",
   "metadata": {},
   "outputs": [],
   "source": [
    "def test1():\n",
    "    print(\"hello world\")"
   ]
  },
  {
   "cell_type": "code",
   "execution_count": 3,
   "id": "a57b2755",
   "metadata": {},
   "outputs": [
    {
     "name": "stdout",
     "output_type": "stream",
     "text": [
      "hello world\n"
     ]
    }
   ],
   "source": [
    "test1()"
   ]
  },
  {
   "cell_type": "code",
   "execution_count": 7,
   "id": "0984655e",
   "metadata": {},
   "outputs": [
    {
     "name": "stdout",
     "output_type": "stream",
     "text": [
      "11\n"
     ]
    }
   ],
   "source": [
    "def test2(a,b):\n",
    "    print(a+b)\n",
    "test2(5,6)"
   ]
  },
  {
   "cell_type": "code",
   "execution_count": 9,
   "id": "32a72250",
   "metadata": {},
   "outputs": [
    {
     "name": "stdout",
     "output_type": "stream",
     "text": [
      "11\n"
     ]
    }
   ],
   "source": [
    "def test2(a,b):\n",
    "    \"\"\"this is a fuction for addition of two number\"\"\"\n",
    "    print(a+b)\n",
    "test2(5,6)"
   ]
  },
  {
   "cell_type": "code",
   "execution_count": 13,
   "id": "ccc5b1db",
   "metadata": {},
   "outputs": [
    {
     "name": "stdout",
     "output_type": "stream",
     "text": [
      "9\n",
      "-1\n",
      "42\n",
      "5.0\n"
     ]
    }
   ],
   "source": [
    "def test(a,b):\n",
    "    \"\"\"this is a function of addition of two number\"\"\"\n",
    "    print(a+b)\n",
    "def test1(a,b):\n",
    "    \"\"\"this is a function of subtraction of two number\"\"\"\n",
    "    print(a-b)\n",
    "def test2(a,b):\n",
    "    \"\"\"this is a function of multiplication of two number\"\"\"\n",
    "    print(a*b)\n",
    "def test3(a,b):\n",
    "    \"\"\"this is a function of division of two number\"\"\"\n",
    "    print(a/b)\n",
    "    \n",
    "test(4,5)\n",
    "test1(5,6)\n",
    "test2(6,7)\n",
    "test3(10,2)"
   ]
  },
  {
   "cell_type": "code",
   "execution_count": 15,
   "id": "a0cbe765",
   "metadata": {},
   "outputs": [
    {
     "name": "stdout",
     "output_type": "stream",
     "text": [
      "you have bike: True\n",
      "you have car: True\n",
      "you can travel 100 kms: True\n",
      "\n",
      "you have bike: True\n",
      "you have car: False\n",
      "you can travel 100 kms: False\n",
      "\n",
      "you have bike: False\n",
      "you have car: True\n",
      "you can travel 100 kms: False\n",
      "\n",
      "you have bike: False\n",
      "you have car: False\n",
      "you can travel 100 kms: False\n",
      "\n"
     ]
    }
   ],
   "source": [
    "#block one\n",
    "bike = True\n",
    "car = True\n",
    "travel_100_km = bike and car\n",
    "\n",
    "print(f\"you have bike: {bike}\")\n",
    "print(f\"you have car: {car}\")\n",
    "print(f\"you can travel 100 kms: {travel_100_km}\\n\")\n",
    "\n",
    "#block two\n",
    "bike = True\n",
    "car = False\n",
    "travel_100_km = bike and car\n",
    "\n",
    "print(f\"you have bike: {bike}\")\n",
    "print(f\"you have car: {car}\")\n",
    "print(f\"you can travel 100 kms: {travel_100_km}\\n\")\n",
    "\n",
    "#block three\n",
    "bike = False\n",
    "car = True\n",
    "travel_100_km = bike and car\n",
    "\n",
    "print(f\"you have bike: {bike}\")\n",
    "print(f\"you have car: {car}\")\n",
    "print(f\"you can travel 100 kms: {travel_100_km}\\n\")\n",
    "\n",
    "#block four\n",
    "bike = False\n",
    "car = False\n",
    "travel_100_km = bike and car\n",
    "\n",
    "print(f\"you have bike: {bike}\")\n",
    "print(f\"you have car: {car}\")\n",
    "print(f\"you can travel 100 kms: {travel_100_km}\\n\")"
   ]
  },
  {
   "cell_type": "code",
   "execution_count": 18,
   "id": "60c37640",
   "metadata": {},
   "outputs": [
    {
     "name": "stdout",
     "output_type": "stream",
     "text": [
      "you have bike: False\n",
      "you have car: False\n",
      "you can travel 100 kms: False\n",
      "\n",
      "you have bike: False\n",
      "you have car: True\n",
      "you can travel 100 kms: True\n",
      "\n",
      "you have bike: True\n",
      "you have car: False\n",
      "you can travel 100 kms: True\n",
      "\n",
      "you have bike: True\n",
      "you have car: True\n",
      "you can travel 100 kms: True\n",
      "\n"
     ]
    }
   ],
   "source": [
    "def travel_or_not (bike,car):\n",
    "    travel_100_km = bike or car\n",
    "    \n",
    "    print(f\"you have bike: {bike}\")\n",
    "    print(f\"you have car: {car}\")\n",
    "    print(f\"you can travel 100 kms: {travel_100_km}\\n\")\n",
    "    \n",
    "travel_or_not(False,False)\n",
    "\n",
    "travel_or_not(False,True)\n",
    "\n",
    "travel_or_not(True,False)\n",
    "\n",
    "travel_or_not(True,True)"
   ]
  },
  {
   "cell_type": "code",
   "execution_count": 22,
   "id": "89472b42",
   "metadata": {},
   "outputs": [
    {
     "name": "stdout",
     "output_type": "stream",
     "text": [
      "you have bike: False\n",
      "you have car: False\n",
      "you can travel 100 kms: False\n",
      "\n",
      "you have bike: False\n",
      "you have car: True\n",
      "you can travel 100 kms: True\n",
      "\n",
      "you have bike: True\n",
      "you have car: False\n",
      "you can travel 100 kms: True\n",
      "\n",
      "you have bike: True\n",
      "you have car: True\n",
      "you can travel 100 kms: True\n",
      "\n"
     ]
    }
   ],
   "source": [
    "def travel_or_not (bike,car):\n",
    "    travel_100_km = bike or car\n",
    "    \n",
    "    print(f\"you have bike: {bike}\")\n",
    "    print(f\"you have car: {car}\")\n",
    "    print(f\"you can travel 100 kms: {travel_100_km}\\n\")\n",
    "\n",
    "BIKE = [False,False,True,True]\n",
    "CAR = [False,True,False,True]\n",
    "\n",
    "for bike, car in zip(BIKE, CAR):\n",
    "    travel_or_not(bike,car)"
   ]
  },
  {
   "cell_type": "code",
   "execution_count": 1,
   "id": "bc90dd28",
   "metadata": {},
   "outputs": [],
   "source": [
    "def test(a,b):\n",
    "    print(a+b)"
   ]
  },
  {
   "cell_type": "code",
   "execution_count": 2,
   "id": "c169f5c9",
   "metadata": {},
   "outputs": [
    {
     "name": "stdout",
     "output_type": "stream",
     "text": [
      "7\n"
     ]
    }
   ],
   "source": [
    "test(3,4)\n"
   ]
  },
  {
   "cell_type": "code",
   "execution_count": 3,
   "id": "603123dc",
   "metadata": {},
   "outputs": [],
   "source": [
    "def test(a=10,b=10):\n",
    "    print(a+b)\n",
    "    "
   ]
  },
  {
   "cell_type": "code",
   "execution_count": 4,
   "id": "600871fc",
   "metadata": {},
   "outputs": [
    {
     "name": "stdout",
     "output_type": "stream",
     "text": [
      "20\n"
     ]
    }
   ],
   "source": [
    "test()"
   ]
  },
  {
   "cell_type": "code",
   "execution_count": 6,
   "id": "01bd658f",
   "metadata": {},
   "outputs": [
    {
     "name": "stdout",
     "output_type": "stream",
     "text": [
      "60\n"
     ]
    }
   ],
   "source": [
    "def test(a,b=30):\n",
    "    print(a+b)\n",
    "test(30)"
   ]
  },
  {
   "cell_type": "code",
   "execution_count": 7,
   "id": "2059b649",
   "metadata": {},
   "outputs": [],
   "source": [
    "def test1():\n",
    "    return 'hello world'"
   ]
  },
  {
   "cell_type": "code",
   "execution_count": 8,
   "id": "51de4143",
   "metadata": {},
   "outputs": [
    {
     "data": {
      "text/plain": [
       "'hello world'"
      ]
     },
     "execution_count": 8,
     "metadata": {},
     "output_type": "execute_result"
    }
   ],
   "source": [
    "test1()"
   ]
  },
  {
   "cell_type": "code",
   "execution_count": 10,
   "id": "09b7e236",
   "metadata": {},
   "outputs": [
    {
     "data": {
      "text/plain": [
       "7"
      ]
     },
     "execution_count": 10,
     "metadata": {},
     "output_type": "execute_result"
    }
   ],
   "source": [
    "def test1(a,b):\n",
    "    return a+b\n",
    "test1(3,4)"
   ]
  },
  {
   "cell_type": "code",
   "execution_count": 11,
   "id": "fba92060",
   "metadata": {},
   "outputs": [
    {
     "name": "stdout",
     "output_type": "stream",
     "text": [
      "a+b\n"
     ]
    }
   ],
   "source": [
    "def test1(a,b):\n",
    "    print ('a+b')\n",
    "test1(3,4)"
   ]
  },
  {
   "cell_type": "code",
   "execution_count": 12,
   "id": "59d2a85d",
   "metadata": {},
   "outputs": [
    {
     "data": {
      "text/plain": [
       "63"
      ]
     },
     "execution_count": 12,
     "metadata": {},
     "output_type": "execute_result"
    }
   ],
   "source": [
    "def test2(a,b=20,c=40):\n",
    "    return a+b+c\n",
    "test2(3)"
   ]
  },
  {
   "cell_type": "code",
   "execution_count": 13,
   "id": "c4313a64",
   "metadata": {},
   "outputs": [
    {
     "data": {
      "text/plain": [
       "12"
      ]
     },
     "execution_count": 13,
     "metadata": {},
     "output_type": "execute_result"
    }
   ],
   "source": [
    "def test2(a,b=20,c=40):\n",
    "    return a+b+c\n",
    "test2(3,4,5)"
   ]
  },
  {
   "cell_type": "code",
   "execution_count": 14,
   "id": "7b1c81a7",
   "metadata": {},
   "outputs": [
    {
     "data": {
      "text/plain": [
       "([2, 3, 4, 5, 8],)"
      ]
     },
     "execution_count": 14,
     "metadata": {},
     "output_type": "execute_result"
    }
   ],
   "source": [
    "def test (*args):\n",
    "    return args\n",
    "test([2,3,4,5,8])"
   ]
  },
  {
   "cell_type": "code",
   "execution_count": 17,
   "id": "e8ed03d5",
   "metadata": {},
   "outputs": [
    {
     "data": {
      "text/plain": [
       "(3, (4, 5, 6, [8, 9]))"
      ]
     },
     "execution_count": 17,
     "metadata": {},
     "output_type": "execute_result"
    }
   ],
   "source": [
    "def test (a,*b):\n",
    "    return a,b\n",
    "test(3,4,5,6,[8,9])"
   ]
  },
  {
   "cell_type": "code",
   "execution_count": 18,
   "id": "ecd0e227",
   "metadata": {},
   "outputs": [
    {
     "data": {
      "text/plain": [
       "((3, 4, 5, 6, [8, 9]), 10)"
      ]
     },
     "execution_count": 18,
     "metadata": {},
     "output_type": "execute_result"
    }
   ],
   "source": [
    "def test (*a,b=10):\n",
    "    return a,b\n",
    "test(3,4,5,6,[8,9])"
   ]
  },
  {
   "cell_type": "code",
   "execution_count": 20,
   "id": "095efe04",
   "metadata": {},
   "outputs": [
    {
     "data": {
      "text/plain": [
       "{'a': 10, 'b': 20, 'c': 30, 'd': 40}"
      ]
     },
     "execution_count": 20,
     "metadata": {},
     "output_type": "execute_result"
    }
   ],
   "source": [
    "def test(**kwargs):\n",
    "    return kwargs\n",
    "test(a=10,b=20,c=30,d=40)"
   ]
  },
  {
   "cell_type": "code",
   "execution_count": 23,
   "id": "da867786",
   "metadata": {},
   "outputs": [
    {
     "data": {
      "text/plain": [
       "(1, 2, (3, 4, 5, [7, 8, 9]), 10)"
      ]
     },
     "execution_count": 23,
     "metadata": {},
     "output_type": "execute_result"
    }
   ],
   "source": [
    "def test(a,b,*c,d=10):\n",
    "    return (a,b,c,d)\n",
    "test(1,2,3,4,5,[7,8,9])"
   ]
  },
  {
   "cell_type": "code",
   "execution_count": 31,
   "id": "4d29383a",
   "metadata": {},
   "outputs": [
    {
     "name": "stdout",
     "output_type": "stream",
     "text": [
      "score in Digital_Image_Processing = 78\n",
      "score in Microprocessor = 79\n",
      "score in Signals_and_systems = 83\n",
      "\n",
      "total marks obtained 240\n"
     ]
    }
   ],
   "source": [
    "def marks_in_subjects_of_semester(**kwargs):\n",
    "    def total_marks(marks_list):\n",
    "        return sum (marks_list)\n",
    "    \n",
    "    marks_list = list()\n",
    "    for subject,marks in kwargs.items():\n",
    "        marks_list.append(marks)\n",
    "        print(f\"score in {subject} = {marks}\")\n",
    "        \n",
    "    return total_marks(marks_list)\n",
    "results = marks_in_subjects_of_semester(Digital_Image_Processing = 78, Microprocessor = 79, Signals_and_systems = 83)\n",
    "print(f\"\\ntotal marks obtained {results}\")"
   ]
  },
  {
   "cell_type": "code",
   "execution_count": 2,
   "id": "23a239bf",
   "metadata": {},
   "outputs": [
    {
     "name": "stdout",
     "output_type": "stream",
     "text": [
      "Enter number of row: 7\n",
      "      *\n",
      "     ***\n",
      "    *****\n",
      "   *******\n",
      "  *********\n",
      " ***********\n",
      "*************\n",
      " ***********\n",
      "  *********\n",
      "   *******\n",
      "    *****\n",
      "     ***\n",
      "      *\n"
     ]
    }
   ],
   "source": [
    "# Diamond pattern\n",
    "\n",
    "# Reading number of row\n",
    "row = int(input('Enter number of row: '))\n",
    "\n",
    "# Upper part of diamond\n",
    "for i in range(1, row+1):\n",
    "    for j in range(1,row-i+1):\n",
    "        print(\" \", end=\"\")\n",
    "    for j in range(1, 2*i):\n",
    "        print(\"*\", end=\"\")\n",
    "    print()\n",
    "\n",
    "# Lower part of diamond\n",
    "for i in range(row-1,0, -1):\n",
    "    for j in range(1,row-i+1):\n",
    "        print(\" \", end=\"\")\n",
    "    for j in range(1, 2*i):\n",
    "        print(\"*\", end=\"\")\n",
    "    print()"
   ]
  },
  {
   "cell_type": "code",
   "execution_count": 3,
   "id": "93563b1b",
   "metadata": {},
   "outputs": [
    {
     "name": "stdout",
     "output_type": "stream",
     "text": [
      "Enter number of row: 7\n",
      "      *\n",
      "     * *\n",
      "    *   *\n",
      "   *     *\n",
      "  *       *\n",
      " *         *\n",
      "*           *\n",
      " *         *\n",
      "  *       *\n",
      "   *     *\n",
      "    *   *\n",
      "     * *\n",
      "      *\n"
     ]
    }
   ],
   "source": [
    "# Hollow Diamond pattern\n",
    "\n",
    "# Reading number of row\n",
    "row = int(input('Enter number of row: '))\n",
    "\n",
    "# Upper part of hollow diamond\n",
    "for i in range(1, row+1):\n",
    "    for j in range(1,row-i+1):\n",
    "        print(\" \", end=\"\")\n",
    "    for j in range(1, 2*i):\n",
    "        if j==1 or j==2*i-1:\n",
    "            print(\"*\", end=\"\")\n",
    "        else:\n",
    "            print(\" \", end=\"\")\n",
    "    print()\n",
    "\n",
    "# Lower part of hollow diamond\n",
    "for i in range(row-1,0, -1):\n",
    "    for j in range(1,row-i+1):\n",
    "        print(\" \", end=\"\")\n",
    "    for j in range(1, 2*i):\n",
    "        if j==1 or j==2*i-1:\n",
    "            print(\"*\", end=\"\")\n",
    "        else:\n",
    "            print(\" \", end=\"\")\n",
    "    print()"
   ]
  },
  {
   "cell_type": "code",
   "execution_count": null,
   "id": "32dc9d02",
   "metadata": {},
   "outputs": [],
   "source": []
  }
 ],
 "metadata": {
  "kernelspec": {
   "display_name": "Python 3 (ipykernel)",
   "language": "python",
   "name": "python3"
  },
  "language_info": {
   "codemirror_mode": {
    "name": "ipython",
    "version": 3
   },
   "file_extension": ".py",
   "mimetype": "text/x-python",
   "name": "python",
   "nbconvert_exporter": "python",
   "pygments_lexer": "ipython3",
   "version": "3.9.13"
  }
 },
 "nbformat": 4,
 "nbformat_minor": 5
}
