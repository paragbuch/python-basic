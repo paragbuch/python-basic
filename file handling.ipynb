{
 "cells": [
  {
   "cell_type": "code",
   "execution_count": 1,
   "id": "dba0d529",
   "metadata": {},
   "outputs": [],
   "source": [
    "f = open(\"test51.txt\",\"w\")"
   ]
  },
  {
   "cell_type": "code",
   "execution_count": 2,
   "id": "6460785b",
   "metadata": {},
   "outputs": [
    {
     "name": "stdout",
     "output_type": "stream",
     "text": [
      " Volume in drive C has no label.\n",
      " Volume Serial Number is 320E-DDCF\n",
      "\n",
      " Directory of C:\\Users\\Milan\\PARAG\n",
      "\n",
      "10-01-2023  16:36    <DIR>          .\n",
      "10-01-2023  16:36    <DIR>          ..\n",
      "09-01-2023  15:51    <DIR>          .ipynb_checkpoints\n",
      "06-01-2023  19:18            21,269 MY PRACTICE.ipynb\n",
      "01-01-2023  16:12            36,407 parag.ipynb\n",
      "10-01-2023  16:36                 0 test51.txt\n",
      "25-12-2022  12:55            13,137 Untitled.ipynb\n",
      "25-12-2022  15:09             9,722 Untitled1.ipynb\n",
      "12-12-2022  20:57             3,820 Untitled2.ipynb\n",
      "15-12-2022  16:38            14,505 Untitled3.ipynb\n",
      "19-12-2022  16:44             5,582 Untitled4.ipynb\n",
      "01-01-2023  19:45               970 Untitled5.ipynb\n",
      "10-01-2023  16:33            40,550 Untitled6.ipynb\n",
      "09-01-2023  15:53               589 Untitled7.ipynb\n",
      "              11 File(s)        146,551 bytes\n",
      "               3 Dir(s)  50,388,119,552 bytes free\n"
     ]
    }
   ],
   "source": [
    "%ls"
   ]
  },
  {
   "cell_type": "code",
   "execution_count": 3,
   "id": "77e64809",
   "metadata": {},
   "outputs": [
    {
     "data": {
      "text/plain": [
       "36"
      ]
     },
     "execution_count": 3,
     "metadata": {},
     "output_type": "execute_result"
    }
   ],
   "source": [
    "f.write(\"nbdsjc jsdsdhkjj lskjhjsf dsjhsjhdfj\")"
   ]
  },
  {
   "cell_type": "code",
   "execution_count": 5,
   "id": "57acf1af",
   "metadata": {},
   "outputs": [],
   "source": [
    "f.close()"
   ]
  },
  {
   "cell_type": "code",
   "execution_count": 6,
   "id": "4fbb8218",
   "metadata": {},
   "outputs": [],
   "source": [
    "f = open(\"text1.txt\",\"w\")"
   ]
  },
  {
   "cell_type": "code",
   "execution_count": 7,
   "id": "66903241",
   "metadata": {},
   "outputs": [
    {
     "name": "stdout",
     "output_type": "stream",
     "text": [
      " Volume in drive C has no label.\n",
      " Volume Serial Number is 320E-DDCF\n",
      "\n",
      " Directory of C:\\Users\\Milan\\PARAG\n",
      "\n",
      "10-01-2023  16:43    <DIR>          .\n",
      "10-01-2023  16:43    <DIR>          ..\n",
      "10-01-2023  16:39    <DIR>          .ipynb_checkpoints\n",
      "10-01-2023  16:43             2,670 file handling.ipynb\n",
      "06-01-2023  19:18            21,269 MY PRACTICE.ipynb\n",
      "01-01-2023  16:12            36,407 parag.ipynb\n",
      "10-01-2023  16:42                36 test51.txt\n",
      "10-01-2023  16:43                 0 text1.txt\n",
      "25-12-2022  12:55            13,137 Untitled.ipynb\n",
      "25-12-2022  15:09             9,722 Untitled1.ipynb\n",
      "12-12-2022  20:57             3,820 Untitled2.ipynb\n",
      "15-12-2022  16:38            14,505 Untitled3.ipynb\n",
      "19-12-2022  16:44             5,582 Untitled4.ipynb\n",
      "01-01-2023  19:45               970 Untitled5.ipynb\n",
      "10-01-2023  16:33            40,550 Untitled6.ipynb\n",
      "              12 File(s)        148,668 bytes\n",
      "               3 Dir(s)  50,389,614,592 bytes free\n"
     ]
    }
   ],
   "source": [
    "%ls"
   ]
  },
  {
   "cell_type": "code",
   "execution_count": 8,
   "id": "46c72077",
   "metadata": {},
   "outputs": [
    {
     "data": {
      "text/plain": [
       "42"
      ]
     },
     "execution_count": 8,
     "metadata": {},
     "output_type": "execute_result"
    }
   ],
   "source": [
    "f.write(\"my name is parag iam a production engineer\")"
   ]
  },
  {
   "cell_type": "code",
   "execution_count": 9,
   "id": "43750652",
   "metadata": {},
   "outputs": [],
   "source": [
    "f.close()"
   ]
  },
  {
   "cell_type": "code",
   "execution_count": 2,
   "id": "98bf5cdc",
   "metadata": {},
   "outputs": [],
   "source": [
    "f = open(\"test1.txt\",\"a\")"
   ]
  },
  {
   "cell_type": "code",
   "execution_count": 3,
   "id": "ef304940",
   "metadata": {},
   "outputs": [
    {
     "data": {
      "text/plain": [
       "9"
      ]
     },
     "execution_count": 3,
     "metadata": {},
     "output_type": "execute_result"
    }
   ],
   "source": [
    "f.write(\"ahgajdhjd\")"
   ]
  },
  {
   "cell_type": "code",
   "execution_count": 4,
   "id": "dd29a9ff",
   "metadata": {},
   "outputs": [],
   "source": [
    "f.close()"
   ]
  },
  {
   "cell_type": "code",
   "execution_count": 5,
   "id": "f58efd64",
   "metadata": {},
   "outputs": [],
   "source": [
    "f = open(\"text2.txt\",\"w\")"
   ]
  },
  {
   "cell_type": "code",
   "execution_count": 6,
   "id": "4002121b",
   "metadata": {},
   "outputs": [
    {
     "name": "stdout",
     "output_type": "stream",
     "text": [
      " Volume in drive C has no label.\n",
      " Volume Serial Number is 320E-DDCF\n",
      "\n",
      " Directory of C:\\Users\\Milan\\PARAG\n",
      "\n",
      "10-01-2023  16:51    <DIR>          .\n",
      "10-01-2023  16:51    <DIR>          ..\n",
      "10-01-2023  16:39    <DIR>          .ipynb_checkpoints\n",
      "10-01-2023  16:51             5,440 file handling.ipynb\n",
      "06-01-2023  19:18            21,269 MY PRACTICE.ipynb\n",
      "01-01-2023  16:12            36,407 parag.ipynb\n",
      "10-01-2023  16:49                 9 test1.txt\n",
      "10-01-2023  16:47                52 test51.txt\n",
      "10-01-2023  16:44                42 text1.txt\n",
      "10-01-2023  16:51                 0 text2.txt\n",
      "25-12-2022  12:55            13,137 Untitled.ipynb\n",
      "25-12-2022  15:09             9,722 Untitled1.ipynb\n",
      "12-12-2022  20:57             3,820 Untitled2.ipynb\n",
      "15-12-2022  16:38            14,505 Untitled3.ipynb\n",
      "19-12-2022  16:44             5,582 Untitled4.ipynb\n",
      "01-01-2023  19:45               970 Untitled5.ipynb\n",
      "10-01-2023  16:33            40,550 Untitled6.ipynb\n",
      "              14 File(s)        151,505 bytes\n",
      "               3 Dir(s)  50,397,380,608 bytes free\n"
     ]
    }
   ],
   "source": [
    "%ls"
   ]
  },
  {
   "cell_type": "code",
   "execution_count": 7,
   "id": "27267db6",
   "metadata": {},
   "outputs": [
    {
     "data": {
      "text/plain": [
       "7"
      ]
     },
     "execution_count": 7,
     "metadata": {},
     "output_type": "execute_result"
    }
   ],
   "source": [
    "f.write(\"my name\")"
   ]
  },
  {
   "cell_type": "code",
   "execution_count": 8,
   "id": "b880b98c",
   "metadata": {},
   "outputs": [],
   "source": [
    "f.close()"
   ]
  },
  {
   "cell_type": "code",
   "execution_count": 9,
   "id": "19ca053b",
   "metadata": {},
   "outputs": [],
   "source": [
    "f = open(\"text2.txt\",\"a\")"
   ]
  },
  {
   "cell_type": "code",
   "execution_count": 10,
   "id": "05070b10",
   "metadata": {},
   "outputs": [
    {
     "data": {
      "text/plain": [
       "5"
      ]
     },
     "execution_count": 10,
     "metadata": {},
     "output_type": "execute_result"
    }
   ],
   "source": [
    "f.write(\"parag\")"
   ]
  },
  {
   "cell_type": "code",
   "execution_count": 11,
   "id": "29230e6d",
   "metadata": {},
   "outputs": [],
   "source": [
    "f.close()"
   ]
  },
  {
   "cell_type": "code",
   "execution_count": 2,
   "id": "4f1cd41d",
   "metadata": {},
   "outputs": [],
   "source": [
    "f = open(\"text3.txt\",\"w\")"
   ]
  },
  {
   "cell_type": "code",
   "execution_count": 3,
   "id": "700c0b2f",
   "metadata": {},
   "outputs": [
    {
     "data": {
      "text/plain": [
       "1013"
      ]
     },
     "execution_count": 3,
     "metadata": {},
     "output_type": "execute_result"
    }
   ],
   "source": [
    "f.write(\"\"\"Python is a high-level, general-purpose programming language. Its design philosophy emphasizes code readability with the use of significant indentation.\n",
    "\n",
    "Python is dynamically-typed and garbage-collected. It supports multiple programming paradigms, including structured (particularly procedural), object-oriented and functional programming. It is often described as a \"batteries included\" language due to its comprehensive standard library.\n",
    "\n",
    "Guido van Rossum began working on Python in the late 1980s as a successor to the ABC programming language and first released it in 1991 as Python 0.9.0. Python 2.0 was released in 2000 and introduced new features such as list comprehensions, cycle-detecting garbage collection, reference counting, and Unicode support. Python 3.0, released in 2008, was a major revision not completely backward-compatible with earlier versions. Python 2.7.18, released in 2020, was the last release of Python 2.\n",
    "\n",
    "Python consistently ranks as one of the most popular programming languages.\"\"\")"
   ]
  },
  {
   "cell_type": "code",
   "execution_count": 4,
   "id": "09480bc8",
   "metadata": {},
   "outputs": [],
   "source": [
    "f.close()"
   ]
  },
  {
   "cell_type": "code",
   "execution_count": 6,
   "id": "2b52ef79",
   "metadata": {},
   "outputs": [],
   "source": [
    "f = open(\"text3.txt\" , \"r+\")"
   ]
  },
  {
   "cell_type": "code",
   "execution_count": 7,
   "id": "ae3bfa42",
   "metadata": {},
   "outputs": [
    {
     "data": {
      "text/plain": [
       "'Python is a high-level, general-purpose programming language. Its design philosophy emphasizes code readability with the use of significant indentation.\\n\\nPython is dynamically-typed and garbage-collected. It supports multiple programming paradigms, including structured (particularly procedural), object-oriented and functional programming. It is often described as a \"batteries included\" language due to its comprehensive standard library.\\n\\nGuido van Rossum began working on Python in the late 1980s as a successor to the ABC programming language and first released it in 1991 as Python 0.9.0. Python 2.0 was released in 2000 and introduced new features such as list comprehensions, cycle-detecting garbage collection, reference counting, and Unicode support. Python 3.0, released in 2008, was a major revision not completely backward-compatible with earlier versions. Python 2.7.18, released in 2020, was the last release of Python 2.\\n\\nPython consistently ranks as one of the most popular programming languages.'"
      ]
     },
     "execution_count": 7,
     "metadata": {},
     "output_type": "execute_result"
    }
   ],
   "source": [
    "f.read()"
   ]
  },
  {
   "cell_type": "code",
   "execution_count": 8,
   "id": "c03732f8",
   "metadata": {},
   "outputs": [
    {
     "data": {
      "text/plain": [
       "5"
      ]
     },
     "execution_count": 8,
     "metadata": {},
     "output_type": "execute_result"
    }
   ],
   "source": [
    "f.seek(5)"
   ]
  },
  {
   "cell_type": "code",
   "execution_count": 9,
   "id": "a99aa5e8",
   "metadata": {},
   "outputs": [
    {
     "data": {
      "text/plain": [
       "'n is a high-level, general-purpose programming language. Its design philosophy emphasizes code readability with the use of significant indentation.\\n'"
      ]
     },
     "execution_count": 9,
     "metadata": {},
     "output_type": "execute_result"
    }
   ],
   "source": [
    "f.readline()"
   ]
  },
  {
   "cell_type": "code",
   "execution_count": 12,
   "id": "0064b877",
   "metadata": {},
   "outputs": [
    {
     "name": "stdout",
     "output_type": "stream",
     "text": [
      "Python is a high-level, general-purpose programming language. Its design philosophy emphasizes code readability with the use of significant indentation.\n",
      " \n",
      " Python is dynamically-typed and garbage-collected. It supports multiple programming paradigms, including structured (particularly procedural), object-oriented and functional programming. It is often described as a \"batteries included\" language due to its comprehensive standard library.\n",
      " \n",
      " Guido van Rossum began working on Python in the late 1980s as a successor to the ABC programming language and first released it in 1991 as Python 0.9.0. Python 2.0 was released in 2000 and introduced new features such as list comprehensions, cycle-detecting garbage collection, reference counting, and Unicode support. Python 3.0, released in 2008, was a major revision not completely backward-compatible with earlier versions. Python 2.7.18, released in 2020, was the last release of Python 2.\n",
      " \n",
      " Python consistently ranks as one of the most popular programming languages. "
     ]
    }
   ],
   "source": [
    "f = open(\"text3.txt\", \"r+\")\n",
    "for i in f:\n",
    "    print(i, end = \" \")"
   ]
  },
  {
   "cell_type": "code",
   "execution_count": null,
   "id": "a5648eb8",
   "metadata": {},
   "outputs": [],
   "source": []
  }
 ],
 "metadata": {
  "kernelspec": {
   "display_name": "Python 3 (ipykernel)",
   "language": "python",
   "name": "python3"
  },
  "language_info": {
   "codemirror_mode": {
    "name": "ipython",
    "version": 3
   },
   "file_extension": ".py",
   "mimetype": "text/x-python",
   "name": "python",
   "nbconvert_exporter": "python",
   "pygments_lexer": "ipython3",
   "version": "3.9.13"
  }
 },
 "nbformat": 4,
 "nbformat_minor": 5
}
