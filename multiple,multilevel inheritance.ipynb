{
 "cells": [
  {
   "cell_type": "code",
   "execution_count": 1,
   "id": "5d567105",
   "metadata": {},
   "outputs": [
    {
     "data": {
      "text/plain": [
       "'this is a function of class A'"
      ]
     },
     "execution_count": 1,
     "metadata": {},
     "output_type": "execute_result"
    }
   ],
   "source": [
    "#multilevel inheritance\n",
    "class A:\n",
    "    def func1(self):\n",
    "        return \"this is a function of class A\"\n",
    "class B(A):\n",
    "    def func2(self):\n",
    "        return \"this is a function of class B\"\n",
    "class C(B):\n",
    "    def func3(self):\n",
    "        return \"this is a function of class C\"\n",
    "obj = C()\n",
    "obj.func1()"
   ]
  },
  {
   "cell_type": "code",
   "execution_count": 2,
   "id": "9dae1d05",
   "metadata": {},
   "outputs": [
    {
     "data": {
      "text/plain": [
       "'this is a function of class A'"
      ]
     },
     "execution_count": 2,
     "metadata": {},
     "output_type": "execute_result"
    }
   ],
   "source": [
    "#multiple inheritance\n",
    "##multiple inheritance\n",
    "class A:\n",
    "    def func1(self):\n",
    "        return \"this is a function of class A\"\n",
    "class B(A):\n",
    "    def func2(self):\n",
    "        return \"this is a function of class B\"\n",
    "class C(A):\n",
    "    def func3(self):\n",
    "        return \"this is a function of class C\"\n",
    "    \n",
    "obj = C()\n",
    "obj.func1()"
   ]
  },
  {
   "cell_type": "code",
   "execution_count": 3,
   "id": "5dc614c0",
   "metadata": {},
   "outputs": [
    {
     "name": "stdout",
     "output_type": "stream",
     "text": [
      "Meow\n",
      "I am a cat. My name is Kitty.I am 2.5 year old\n",
      "Meow\n",
      "Bark\n",
      "I am a dog. My name is Fluffy.I am 4 year old\n",
      "Bark\n"
     ]
    }
   ],
   "source": [
    "#polymorprism\n",
    "class cat:\n",
    "    def __init__(self,name,age):\n",
    "        self.name = name\n",
    "        self.age = age\n",
    "    \n",
    "    def info(self):\n",
    "        print(f\"I am a cat. My name is {self.name}.I am {self.age} year old\")\n",
    "    \n",
    "    def make_sound(self):\n",
    "        print(\"Meow\")\n",
    "        \n",
    "class dog:\n",
    "    def __init__ (self,name,age):\n",
    "        self.name = name\n",
    "        self.age = age\n",
    "    \n",
    "    def info(self):\n",
    "        print(f\"I am a dog. My name is {self.name}.I am {self.age} year old\")\n",
    "        \n",
    "    def make_sound(self):\n",
    "        print(\"Bark\")\n",
    "        \n",
    "cat1 = cat(\"Kitty\",2.5)\n",
    "dog1 = dog(\"Fluffy\",4)\n",
    "\n",
    "for animal in (cat1,dog1):\n",
    "    animal.make_sound()\n",
    "    animal.info()\n",
    "    animal.make_sound()"
   ]
  },
  {
   "cell_type": "code",
   "execution_count": 4,
   "id": "c9c97cef",
   "metadata": {},
   "outputs": [
    {
     "name": "stdout",
     "output_type": "stream",
     "text": [
      "This will share my facebook story\n"
     ]
    }
   ],
   "source": [
    "#overloading\n",
    "class insta:\n",
    "    def share_stories(self):\n",
    "        print(\"This will share my insta story\")\n",
    "        \n",
    "class facebook(insta):\n",
    "    def share_stories(self):\n",
    "        print(\"This will share my facebook story\")\n",
    "        \n",
    "obj = facebook()\n",
    "obj.share_stories()"
   ]
  },
  {
   "cell_type": "code",
   "execution_count": 5,
   "id": "4663da3c",
   "metadata": {},
   "outputs": [
    {
     "name": "stdout",
     "output_type": "stream",
     "text": [
      "This will share my insta story\n",
      "This will share my facebook story\n"
     ]
    }
   ],
   "source": [
    "#overriding\n",
    "class insta:\n",
    "    def share_stories(self):\n",
    "        print(\"This will share my insta story\")\n",
    "        \n",
    "class facebook(insta):\n",
    "    def share_stories(self):\n",
    "        super().share_stories()\n",
    "        print(\"This will share my facebook story\")\n",
    "        \n",
    "obj = facebook()\n",
    "obj.share_stories()"
   ]
  },
  {
   "cell_type": "code",
   "execution_count": 11,
   "id": "21da1419",
   "metadata": {},
   "outputs": [
    {
     "name": "stdout",
     "output_type": "stream",
     "text": [
      "enter weight of person (kg) : 60\n",
      "enter height of person (meter) : 1.62\n",
      "22.86236854138088\n"
     ]
    }
   ],
   "source": [
    "class bmi():\n",
    "    \"\"\"this is a program for the calculate body mass index for person\"\"\"\n",
    "    def __init__(self,w,h):\n",
    "        self.w = w\n",
    "        self.h = h\n",
    "    def bmi_cal(self):\n",
    "        try :\n",
    "            bmi = self.w / ((self.h)*(self.h))\n",
    "            print(bmi)\n",
    "        except Exception as e:\n",
    "            print(e)\n",
    "            \n",
    "try:\n",
    "    w = float(input(\"enter weight of person (kg) : \"))\n",
    "    h = float(input(\"enter height of person (meter) : \"))\n",
    "    obj = bmi(w,h)\n",
    "    obj.bmi_cal()\n",
    "    \n",
    "except:\n",
    "    print(\"error in our program\")"
   ]
  },
  {
   "cell_type": "code",
   "execution_count": 4,
   "id": "2bf95d33",
   "metadata": {},
   "outputs": [
    {
     "data": {
      "text/plain": [
       "'this is a benz car'"
      ]
     },
     "execution_count": 4,
     "metadata": {},
     "output_type": "execute_result"
    }
   ],
   "source": [
    "#multiple inheritance\n",
    "class car():\n",
    "    def benz(self):\n",
    "        return(\"this is a benz car\")\n",
    "class bike(car):\n",
    "    def bmw(self):\n",
    "        return(\"this is a bmw bike\")\n",
    "class bus(car):\n",
    "    def volvo(self):\n",
    "        return(\"this is a volvo bus\")\n",
    "class truck(car):\n",
    "    def eicher(self):\n",
    "        return(\"this is a eicher truck\")\n",
    "class plane(car):\n",
    "    def indigo(self):\n",
    "        return(\"this is a indigo plane\")\n",
    "\n",
    "obj = plane()\n",
    "obj.benz()"
   ]
  },
  {
   "cell_type": "code",
   "execution_count": 7,
   "id": "03556731",
   "metadata": {},
   "outputs": [
    {
     "data": {
      "text/plain": [
       "'this is a eicher truck'"
      ]
     },
     "execution_count": 7,
     "metadata": {},
     "output_type": "execute_result"
    }
   ],
   "source": [
    "#mulilevel inheritance\n",
    "class car():\n",
    "    def benz(self):\n",
    "        return(\"this is a benz car\")\n",
    "class bike(car):\n",
    "    def bmw(self):\n",
    "        return(\"this is a bmw bike\")\n",
    "class bus(bike):\n",
    "    def volvo(self):\n",
    "        return(\"this is a volvo bus\")\n",
    "class truck(bus):\n",
    "    def eicher(self):\n",
    "        return(\"this is a eicher truck\")\n",
    "class plane(truck):\n",
    "    def indigo(self):\n",
    "        return(\"this is a indigo plane\")\n",
    "\n",
    "obj = plane()\n",
    "obj.eicher()"
   ]
  },
  {
   "cell_type": "code",
   "execution_count": 3,
   "id": "2250d9f7",
   "metadata": {},
   "outputs": [
    {
     "name": "stdout",
     "output_type": "stream",
     "text": [
      "This is product and flipkart class is invoked. The name is Iphone. This costs 2.5 rupees.\n",
      "This is product and amazon class is invoked. The name is Iphone. This costs 4 rupees.\n"
     ]
    }
   ],
   "source": [
    "#polymorprism\n",
    "class amazon:\n",
    "    def __init__(self, name, price):\n",
    "        self.name = name\n",
    "        self.price = price\n",
    "   \n",
    "    def info(self):\n",
    "        print(f\"This is product and amazon class is invoked. The name is {self.name}. This costs {self.price} rupees.\")\n",
    "    \n",
    "class flipkart:\n",
    "    def __init__(self, name, price):\n",
    "        self.name = name\n",
    "        self.price = price\n",
    "    \n",
    "    def info(self):\n",
    "        print(f\"This is product and flipkart class is invoked. The name is {self.name}. This costs {self.price} rupees.\")\n",
    "    \n",
    "obj_FLP = flipkart(\"Iphone\", 2.5)\n",
    "obj_AMZ = amazon(\"Iphone\", 4)\n",
    "\n",
    "for product in (obj_FLP, obj_AMZ):\n",
    "    product.info()"
   ]
  },
  {
   "cell_type": "code",
   "execution_count": 6,
   "id": "8d7476be",
   "metadata": {},
   "outputs": [
    {
     "name": "stdout",
     "output_type": "stream",
     "text": [
      "(3, 5)\n"
     ]
    }
   ],
   "source": [
    "#overloading\n",
    "\n",
    "class complex:\n",
    "    def __init__(self, a, b):\n",
    "        self.a = a\n",
    "        self.b = b\n",
    "  \n",
    "     # adding two objects \n",
    "    def __add__(self, other):\n",
    "        return self.a + other.a, self.b + other.b\n",
    "  \n",
    "Ob1 = complex(1, 2)\n",
    "Ob2 = complex(2, 3)\n",
    "Ob3 = Ob1 + Ob2\n",
    "print(Ob3)"
   ]
  },
  {
   "cell_type": "code",
   "execution_count": 7,
   "id": "8cc62395",
   "metadata": {},
   "outputs": [
    {
     "name": "stdout",
     "output_type": "stream",
     "text": [
      "ob1 is lessthan ob2\n",
      "Not equal\n"
     ]
    }
   ],
   "source": [
    "class A:\n",
    "    def __init__(self, a):\n",
    "        self.a = a\n",
    "    def __lt__(self, other):\n",
    "        if(self.a<other.a):\n",
    "            return \"ob1 is lessthan ob2\"\n",
    "        else:\n",
    "            return \"ob2 is less than ob1\"\n",
    "    def __eq__(self, other):\n",
    "        if(self.a == other.a):\n",
    "            return \"Both are equal\"\n",
    "        else:\n",
    "            return \"Not equal\"\n",
    "                 \n",
    "ob1 = A(2)\n",
    "ob2 = A(3)\n",
    "print(ob1 < ob2)\n",
    " \n",
    "ob3 = A(4)\n",
    "ob4 = A(4)\n",
    "print(ob1 == ob2)"
   ]
  },
  {
   "cell_type": "code",
   "execution_count": 9,
   "id": "1990a42e",
   "metadata": {},
   "outputs": [
    {
     "name": "stdout",
     "output_type": "stream",
     "text": [
      "Hi \n",
      "My name is parag\n"
     ]
    }
   ],
   "source": [
    "#overriding\n",
    "\n",
    "class xyz:\n",
    "    def test(self):\n",
    "        print(\"Hi \")\n",
    "        \n",
    "    def test2(self):\n",
    "        print(\"My name is parag\")\n",
    "        \n",
    "class xyz1(xyz):\n",
    "    def test(self):\n",
    "        print(\"Hello world\")\n",
    "        \n",
    "    def test2(self):\n",
    "        print(\"Good morning\")\n",
    "        \n",
    "obj = xyz()\n",
    "\n",
    "obj.test()\n",
    "obj.test2()"
   ]
  },
  {
   "cell_type": "code",
   "execution_count": null,
   "id": "6874753f",
   "metadata": {},
   "outputs": [],
   "source": []
  }
 ],
 "metadata": {
  "kernelspec": {
   "display_name": "Python 3 (ipykernel)",
   "language": "python",
   "name": "python3"
  },
  "language_info": {
   "codemirror_mode": {
    "name": "ipython",
    "version": 3
   },
   "file_extension": ".py",
   "mimetype": "text/x-python",
   "name": "python",
   "nbconvert_exporter": "python",
   "pygments_lexer": "ipython3",
   "version": "3.9.13"
  }
 },
 "nbformat": 4,
 "nbformat_minor": 5
}
