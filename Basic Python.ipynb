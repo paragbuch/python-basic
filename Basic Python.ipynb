{
 "cells": [
  {
   "cell_type": "code",
   "execution_count": 1,
   "id": "6fde3488",
   "metadata": {},
   "outputs": [
    {
     "data": {
      "text/plain": [
       "'hello world'"
      ]
     },
     "execution_count": 1,
     "metadata": {},
     "output_type": "execute_result"
    }
   ],
   "source": [
    "'hello world'"
   ]
  },
  {
   "cell_type": "code",
   "execution_count": 2,
   "id": "12f4da1e",
   "metadata": {},
   "outputs": [
    {
     "name": "stdout",
     "output_type": "stream",
     "text": [
      "hello world\n"
     ]
    }
   ],
   "source": [
    "print ('hello world')"
   ]
  },
  {
   "cell_type": "code",
   "execution_count": 3,
   "id": "7561fa1f",
   "metadata": {},
   "outputs": [],
   "source": [
    "a = 5"
   ]
  },
  {
   "cell_type": "code",
   "execution_count": 4,
   "id": "eb12a83a",
   "metadata": {},
   "outputs": [
    {
     "data": {
      "text/plain": [
       "5"
      ]
     },
     "execution_count": 4,
     "metadata": {},
     "output_type": "execute_result"
    }
   ],
   "source": [
    "a"
   ]
  },
  {
   "cell_type": "code",
   "execution_count": 5,
   "id": "501c4efe",
   "metadata": {},
   "outputs": [
    {
     "name": "stdout",
     "output_type": "stream",
     "text": [
      "5\n"
     ]
    }
   ],
   "source": [
    "print (a)"
   ]
  },
  {
   "cell_type": "code",
   "execution_count": 6,
   "id": "3e2cdcda",
   "metadata": {},
   "outputs": [
    {
     "data": {
      "text/plain": [
       "10"
      ]
     },
     "execution_count": 6,
     "metadata": {},
     "output_type": "execute_result"
    }
   ],
   "source": [
    "a = 5\n",
    "b = 5\n",
    "a + b"
   ]
  },
  {
   "cell_type": "code",
   "execution_count": 7,
   "id": "0f428ce1",
   "metadata": {},
   "outputs": [
    {
     "data": {
      "text/plain": [
       "0"
      ]
     },
     "execution_count": 7,
     "metadata": {},
     "output_type": "execute_result"
    }
   ],
   "source": [
    "a - b "
   ]
  },
  {
   "cell_type": "code",
   "execution_count": 8,
   "id": "2f0fb1ad",
   "metadata": {},
   "outputs": [
    {
     "data": {
      "text/plain": [
       "1.0"
      ]
     },
     "execution_count": 8,
     "metadata": {},
     "output_type": "execute_result"
    }
   ],
   "source": [
    "a + b\n",
    "a - b\n",
    "a * b\n",
    "a / b"
   ]
  },
  {
   "cell_type": "code",
   "execution_count": 9,
   "id": "61a0d35c",
   "metadata": {},
   "outputs": [
    {
     "name": "stdout",
     "output_type": "stream",
     "text": [
      "10\n",
      "0\n",
      "25\n",
      "1.0\n"
     ]
    }
   ],
   "source": [
    "print (a + b)\n",
    "print (a - b)\n",
    "print (a * b)\n",
    "print (a / b)"
   ]
  },
  {
   "cell_type": "code",
   "execution_count": 10,
   "id": "27230ed5",
   "metadata": {},
   "outputs": [],
   "source": [
    "a = 'parag'\n",
    "b = 'buch'"
   ]
  },
  {
   "cell_type": "code",
   "execution_count": 11,
   "id": "141125c7",
   "metadata": {},
   "outputs": [
    {
     "data": {
      "text/plain": [
       "'paragbuch'"
      ]
     },
     "execution_count": 11,
     "metadata": {},
     "output_type": "execute_result"
    }
   ],
   "source": [
    "a + b"
   ]
  },
  {
   "cell_type": "code",
   "execution_count": 12,
   "id": "4955b37d",
   "metadata": {},
   "outputs": [
    {
     "data": {
      "text/plain": [
       "'parag buch'"
      ]
     },
     "execution_count": 12,
     "metadata": {},
     "output_type": "execute_result"
    }
   ],
   "source": [
    "a + \" \"+b"
   ]
  },
  {
   "cell_type": "code",
   "execution_count": 13,
   "id": "06601a43",
   "metadata": {},
   "outputs": [
    {
     "data": {
      "text/plain": [
       "str"
      ]
     },
     "execution_count": 13,
     "metadata": {},
     "output_type": "execute_result"
    }
   ],
   "source": [
    "type (a)"
   ]
  },
  {
   "cell_type": "code",
   "execution_count": 14,
   "id": "a14f4002",
   "metadata": {},
   "outputs": [
    {
     "data": {
      "text/plain": [
       "str"
      ]
     },
     "execution_count": 14,
     "metadata": {},
     "output_type": "execute_result"
    }
   ],
   "source": [
    "type (b)"
   ]
  },
  {
   "cell_type": "code",
   "execution_count": 15,
   "id": "659b2d43",
   "metadata": {},
   "outputs": [],
   "source": [
    "c = 10"
   ]
  },
  {
   "cell_type": "code",
   "execution_count": 16,
   "id": "d594a2b3",
   "metadata": {},
   "outputs": [
    {
     "data": {
      "text/plain": [
       "int"
      ]
     },
     "execution_count": 16,
     "metadata": {},
     "output_type": "execute_result"
    }
   ],
   "source": [
    "type (c)"
   ]
  },
  {
   "cell_type": "code",
   "execution_count": 17,
   "id": "0704f20a",
   "metadata": {},
   "outputs": [],
   "source": [
    "d = 10.10"
   ]
  },
  {
   "cell_type": "code",
   "execution_count": 18,
   "id": "64a2895e",
   "metadata": {},
   "outputs": [
    {
     "data": {
      "text/plain": [
       "float"
      ]
     },
     "execution_count": 18,
     "metadata": {},
     "output_type": "execute_result"
    }
   ],
   "source": [
    "type (d)"
   ]
  },
  {
   "cell_type": "code",
   "execution_count": 2,
   "id": "e0a26f49",
   "metadata": {},
   "outputs": [
    {
     "name": "stdout",
     "output_type": "stream",
     "text": [
      "10\n",
      "15\n"
     ]
    },
    {
     "data": {
      "text/plain": [
       "'1015'"
      ]
     },
     "execution_count": 2,
     "metadata": {},
     "output_type": "execute_result"
    }
   ],
   "source": [
    "a = input()\n",
    "b = input()\n",
    "a + b"
   ]
  },
  {
   "cell_type": "code",
   "execution_count": 3,
   "id": "7a3b0142",
   "metadata": {},
   "outputs": [
    {
     "data": {
      "text/plain": [
       "str"
      ]
     },
     "execution_count": 3,
     "metadata": {},
     "output_type": "execute_result"
    }
   ],
   "source": [
    "type (a)"
   ]
  },
  {
   "cell_type": "code",
   "execution_count": 4,
   "id": "2240cd99",
   "metadata": {},
   "outputs": [
    {
     "name": "stdout",
     "output_type": "stream",
     "text": [
      "10\n",
      "15\n"
     ]
    },
    {
     "data": {
      "text/plain": [
       "25"
      ]
     },
     "execution_count": 4,
     "metadata": {},
     "output_type": "execute_result"
    }
   ],
   "source": [
    "a = int(input())\n",
    "b = int(input())\n",
    "a + b"
   ]
  },
  {
   "cell_type": "code",
   "execution_count": 5,
   "id": "01d5a79c",
   "metadata": {},
   "outputs": [
    {
     "data": {
      "text/plain": [
       "int"
      ]
     },
     "execution_count": 5,
     "metadata": {},
     "output_type": "execute_result"
    }
   ],
   "source": [
    "type (a)"
   ]
  },
  {
   "cell_type": "code",
   "execution_count": 3,
   "id": "7f6bd8cd",
   "metadata": {},
   "outputs": [],
   "source": [
    "a = 'kansara'"
   ]
  },
  {
   "cell_type": "code",
   "execution_count": 7,
   "id": "fb181c09",
   "metadata": {},
   "outputs": [
    {
     "data": {
      "text/plain": [
       "7"
      ]
     },
     "execution_count": 7,
     "metadata": {},
     "output_type": "execute_result"
    }
   ],
   "source": [
    "len (a)"
   ]
  },
  {
   "cell_type": "code",
   "execution_count": 8,
   "id": "7e9e30bc",
   "metadata": {},
   "outputs": [
    {
     "data": {
      "text/plain": [
       "'kansara'"
      ]
     },
     "execution_count": 8,
     "metadata": {},
     "output_type": "execute_result"
    }
   ],
   "source": [
    "a"
   ]
  },
  {
   "cell_type": "code",
   "execution_count": 9,
   "id": "d00735e2",
   "metadata": {},
   "outputs": [
    {
     "data": {
      "text/plain": [
       "'k'"
      ]
     },
     "execution_count": 9,
     "metadata": {},
     "output_type": "execute_result"
    }
   ],
   "source": [
    "a[0]"
   ]
  },
  {
   "cell_type": "code",
   "execution_count": 4,
   "id": "e2c7f209",
   "metadata": {},
   "outputs": [
    {
     "data": {
      "text/plain": [
       "'a'"
      ]
     },
     "execution_count": 4,
     "metadata": {},
     "output_type": "execute_result"
    }
   ],
   "source": [
    "a[1]"
   ]
  },
  {
   "cell_type": "code",
   "execution_count": 5,
   "id": "25c13899",
   "metadata": {},
   "outputs": [
    {
     "data": {
      "text/plain": [
       "'n'"
      ]
     },
     "execution_count": 5,
     "metadata": {},
     "output_type": "execute_result"
    }
   ],
   "source": [
    "a[2]"
   ]
  },
  {
   "cell_type": "code",
   "execution_count": 6,
   "id": "7eb240fa",
   "metadata": {},
   "outputs": [
    {
     "data": {
      "text/plain": [
       "'a'"
      ]
     },
     "execution_count": 6,
     "metadata": {},
     "output_type": "execute_result"
    }
   ],
   "source": [
    "a[-1]"
   ]
  },
  {
   "cell_type": "code",
   "execution_count": 7,
   "id": "c5eea5c4",
   "metadata": {},
   "outputs": [
    {
     "data": {
      "text/plain": [
       "'r'"
      ]
     },
     "execution_count": 7,
     "metadata": {},
     "output_type": "execute_result"
    }
   ],
   "source": [
    "a[-2]"
   ]
  },
  {
   "cell_type": "code",
   "execution_count": 8,
   "id": "c830e01b",
   "metadata": {},
   "outputs": [],
   "source": [
    "a='paragkansara'"
   ]
  },
  {
   "cell_type": "code",
   "execution_count": 9,
   "id": "1fe65cad",
   "metadata": {},
   "outputs": [
    {
     "data": {
      "text/plain": [
       "12"
      ]
     },
     "execution_count": 9,
     "metadata": {},
     "output_type": "execute_result"
    }
   ],
   "source": [
    "len (a)"
   ]
  },
  {
   "cell_type": "code",
   "execution_count": 10,
   "id": "5ce85b08",
   "metadata": {},
   "outputs": [
    {
     "data": {
      "text/plain": [
       "'paragkansara'"
      ]
     },
     "execution_count": 10,
     "metadata": {},
     "output_type": "execute_result"
    }
   ],
   "source": [
    "a[0:12]"
   ]
  },
  {
   "cell_type": "code",
   "execution_count": 11,
   "id": "bcd53d0c",
   "metadata": {},
   "outputs": [
    {
     "data": {
      "text/plain": [
       "'prgasr'"
      ]
     },
     "execution_count": 11,
     "metadata": {},
     "output_type": "execute_result"
    }
   ],
   "source": [
    "a[0:12:2]"
   ]
  },
  {
   "cell_type": "code",
   "execution_count": 12,
   "id": "2a0655f5",
   "metadata": {},
   "outputs": [
    {
     "data": {
      "text/plain": [
       "'paaa'"
      ]
     },
     "execution_count": 12,
     "metadata": {},
     "output_type": "execute_result"
    }
   ],
   "source": [
    "a[0:12:3]"
   ]
  },
  {
   "cell_type": "code",
   "execution_count": 13,
   "id": "9ef4259a",
   "metadata": {},
   "outputs": [
    {
     "data": {
      "text/plain": [
       "'prgas'"
      ]
     },
     "execution_count": 13,
     "metadata": {},
     "output_type": "execute_result"
    }
   ],
   "source": [
    "a[0:10:2]"
   ]
  },
  {
   "cell_type": "code",
   "execution_count": 14,
   "id": "16ba0d0e",
   "metadata": {},
   "outputs": [
    {
     "data": {
      "text/plain": [
       "''"
      ]
     },
     "execution_count": 14,
     "metadata": {},
     "output_type": "execute_result"
    }
   ],
   "source": [
    "a[0:12:-1]"
   ]
  },
  {
   "cell_type": "code",
   "execution_count": 15,
   "id": "081eb22e",
   "metadata": {},
   "outputs": [
    {
     "data": {
      "text/plain": [
       "'arasnakgarap'"
      ]
     },
     "execution_count": 15,
     "metadata": {},
     "output_type": "execute_result"
    }
   ],
   "source": [
    "a[::-1]"
   ]
  },
  {
   "cell_type": "code",
   "execution_count": 17,
   "id": "8f7773ad",
   "metadata": {},
   "outputs": [],
   "source": [
    "l=[3,4,5]"
   ]
  },
  {
   "cell_type": "code",
   "execution_count": 18,
   "id": "2c559bc3",
   "metadata": {},
   "outputs": [],
   "source": [
    "l1=[4,5,6]"
   ]
  },
  {
   "cell_type": "code",
   "execution_count": 19,
   "id": "7310a53c",
   "metadata": {},
   "outputs": [],
   "source": [
    "l.append(l1)"
   ]
  },
  {
   "cell_type": "code",
   "execution_count": 20,
   "id": "d59844ad",
   "metadata": {},
   "outputs": [
    {
     "data": {
      "text/plain": [
       "[3, 4, 5, [4, 5, 6]]"
      ]
     },
     "execution_count": 20,
     "metadata": {},
     "output_type": "execute_result"
    }
   ],
   "source": [
    "l"
   ]
  },
  {
   "cell_type": "code",
   "execution_count": 2,
   "id": "65c533e5",
   "metadata": {},
   "outputs": [
    {
     "data": {
      "text/plain": [
       "4"
      ]
     },
     "execution_count": 2,
     "metadata": {},
     "output_type": "execute_result"
    }
   ],
   "source": [
    "l=[2,3,4,5,6,7]\n",
    "l.pop(2)"
   ]
  },
  {
   "cell_type": "code",
   "execution_count": 34,
   "id": "08e50e45",
   "metadata": {},
   "outputs": [],
   "source": [
    "a=[2,3,4,5,6,9,11]\n",
    "a.remove(6)"
   ]
  },
  {
   "cell_type": "code",
   "execution_count": 35,
   "id": "f3826fa5",
   "metadata": {},
   "outputs": [
    {
     "data": {
      "text/plain": [
       "[2, 3, 4, 5, 9, 11]"
      ]
     },
     "execution_count": 35,
     "metadata": {},
     "output_type": "execute_result"
    }
   ],
   "source": [
    "a"
   ]
  },
  {
   "cell_type": "code",
   "execution_count": 36,
   "id": "a50a2eb4",
   "metadata": {},
   "outputs": [
    {
     "data": {
      "text/plain": [
       "True"
      ]
     },
     "execution_count": 36,
     "metadata": {},
     "output_type": "execute_result"
    }
   ],
   "source": [
    "5<10"
   ]
  },
  {
   "cell_type": "code",
   "execution_count": 37,
   "id": "8a3ddef7",
   "metadata": {},
   "outputs": [
    {
     "data": {
      "text/plain": [
       "False"
      ]
     },
     "execution_count": 37,
     "metadata": {},
     "output_type": "execute_result"
    }
   ],
   "source": [
    "5>10"
   ]
  },
  {
   "cell_type": "code",
   "execution_count": 38,
   "id": "ad434cb6",
   "metadata": {},
   "outputs": [],
   "source": [
    "a=5\n",
    "b=10"
   ]
  },
  {
   "cell_type": "code",
   "execution_count": 39,
   "id": "f173cba1",
   "metadata": {},
   "outputs": [
    {
     "data": {
      "text/plain": [
       "True"
      ]
     },
     "execution_count": 39,
     "metadata": {},
     "output_type": "execute_result"
    }
   ],
   "source": [
    "a<b"
   ]
  },
  {
   "cell_type": "code",
   "execution_count": 41,
   "id": "f36cbbd7",
   "metadata": {},
   "outputs": [
    {
     "data": {
      "text/plain": [
       "False"
      ]
     },
     "execution_count": 41,
     "metadata": {},
     "output_type": "execute_result"
    }
   ],
   "source": [
    "a>b"
   ]
  },
  {
   "cell_type": "code",
   "execution_count": 42,
   "id": "ae8da6a6",
   "metadata": {},
   "outputs": [
    {
     "name": "stdout",
     "output_type": "stream",
     "text": [
      "10\n"
     ]
    }
   ],
   "source": [
    "if a<b:\n",
    "    print (b)\n",
    "else:\n",
    "    print (a)"
   ]
  },
  {
   "cell_type": "code",
   "execution_count": 43,
   "id": "2a7f4b7a",
   "metadata": {},
   "outputs": [
    {
     "name": "stdout",
     "output_type": "stream",
     "text": [
      "6\n",
      "7\n",
      "7\n"
     ]
    }
   ],
   "source": [
    "a=int(input())\n",
    "b=int(input())\n",
    "if a<b:\n",
    "    print(b)\n",
    "else:\n",
    "    print(a)"
   ]
  },
  {
   "cell_type": "code",
   "execution_count": 44,
   "id": "6dbe57ed",
   "metadata": {},
   "outputs": [
    {
     "name": "stdout",
     "output_type": "stream",
     "text": [
      "7\n",
      "4\n",
      "7\n"
     ]
    }
   ],
   "source": [
    "a=int(input())\n",
    "b=int(input())\n",
    "if a<b:\n",
    "    print(b)\n",
    "else:\n",
    "    print(a)"
   ]
  },
  {
   "cell_type": "code",
   "execution_count": 45,
   "id": "edd7505d",
   "metadata": {},
   "outputs": [
    {
     "name": "stdout",
     "output_type": "stream",
     "text": [
      "12\n",
      "This is even number\n"
     ]
    }
   ],
   "source": [
    "a = int(input())\n",
    "if a%2 == 0:\n",
    "    print (\"This is even number\")\n",
    "else:\n",
    "    print (\"This is odd number\")"
   ]
  },
  {
   "cell_type": "code",
   "execution_count": 46,
   "id": "99be64d0",
   "metadata": {},
   "outputs": [
    {
     "name": "stdout",
     "output_type": "stream",
     "text": [
      "15\n",
      "This is odd number\n"
     ]
    }
   ],
   "source": [
    "a = int(input())\n",
    "if a%2 != 0:\n",
    "    print(\"This is odd number\")\n",
    "else:\n",
    "    print(\"This is even number\")"
   ]
  },
  {
   "cell_type": "code",
   "execution_count": 47,
   "id": "7b7a7fdb",
   "metadata": {},
   "outputs": [],
   "source": [
    "a = ('paragkansara')"
   ]
  },
  {
   "cell_type": "code",
   "execution_count": 48,
   "id": "62dafdf3",
   "metadata": {},
   "outputs": [
    {
     "data": {
      "text/plain": [
       "12"
      ]
     },
     "execution_count": 48,
     "metadata": {},
     "output_type": "execute_result"
    }
   ],
   "source": [
    "len(a)"
   ]
  },
  {
   "cell_type": "code",
   "execution_count": 49,
   "id": "5a2adf9d",
   "metadata": {},
   "outputs": [],
   "source": [
    "b = ('paragbuch')"
   ]
  },
  {
   "cell_type": "code",
   "execution_count": 50,
   "id": "b22d5741",
   "metadata": {},
   "outputs": [
    {
     "data": {
      "text/plain": [
       "9"
      ]
     },
     "execution_count": 50,
     "metadata": {},
     "output_type": "execute_result"
    }
   ],
   "source": [
    "len(b)"
   ]
  },
  {
   "cell_type": "code",
   "execution_count": 51,
   "id": "b16335ea",
   "metadata": {},
   "outputs": [
    {
     "name": "stdout",
     "output_type": "stream",
     "text": [
      "paragbuch\n"
     ]
    }
   ],
   "source": [
    "if len(a)<len(b):\n",
    "    print(a)\n",
    "else:\n",
    "    print(b)"
   ]
  },
  {
   "cell_type": "code",
   "execution_count": 3,
   "id": "c22c76c9",
   "metadata": {},
   "outputs": [
    {
     "name": "stdout",
     "output_type": "stream",
     "text": [
      "kanak\n",
      "This is pelindrome word\n"
     ]
    }
   ],
   "source": [
    "a = str(input())\n",
    "s = a[::-1]\n",
    "if a==s:\n",
    "    print(\"This is pelindrome word\")\n",
    "else:\n",
    "    print(\"This is not pelindrome word\")"
   ]
  },
  {
   "cell_type": "code",
   "execution_count": 4,
   "id": "d937552e",
   "metadata": {},
   "outputs": [
    {
     "name": "stdout",
     "output_type": "stream",
     "text": [
      "5\n",
      "5\n",
      "5\n",
      "zero\n"
     ]
    }
   ],
   "source": [
    "a = int(input())\n",
    "b = int(input())\n",
    "if a<=b:\n",
    "    print(b)\n",
    "    if a==b:\n",
    "        print('zero')\n",
    "else:\n",
    "    print(a)"
   ]
  },
  {
   "cell_type": "code",
   "execution_count": 5,
   "id": "29786799",
   "metadata": {},
   "outputs": [
    {
     "name": "stdout",
     "output_type": "stream",
     "text": [
      "5\n",
      "6\n",
      "6\n"
     ]
    }
   ],
   "source": [
    "a = int(input())\n",
    "b = int(input())\n",
    "if a<b:\n",
    "    print(b)\n",
    "elif a==b:\n",
    "    print('zero')\n",
    "else:\n",
    "    print(a)"
   ]
  },
  {
   "cell_type": "code",
   "execution_count": 6,
   "id": "dda0967c",
   "metadata": {},
   "outputs": [
    {
     "name": "stdout",
     "output_type": "stream",
     "text": [
      "30\n",
      "fail\n"
     ]
    }
   ],
   "source": [
    "a = int(input())\n",
    "if a<40:\n",
    "    print ('fail')\n",
    "elif a<50:\n",
    "    print ('pass')\n",
    "elif a<60:\n",
    "    print ('first class')\n",
    "else:\n",
    "    print ('distingtion')"
   ]
  },
  {
   "cell_type": "code",
   "execution_count": 7,
   "id": "b0379eeb",
   "metadata": {},
   "outputs": [
    {
     "name": "stdout",
     "output_type": "stream",
     "text": [
      "enter the income of the person1000\n",
      "they get 10% discount 100.0\n"
     ]
    }
   ],
   "source": [
    "income = int(input(\"enter the income of the person\"))\n",
    "if income < 10000:\n",
    "    print(\"they get 10% discount\", income*0.1)\n",
    "else:\n",
    "    print(\"they do not get any discount\")"
   ]
  },
  {
   "cell_type": "code",
   "execution_count": 4,
   "id": "614c36f2",
   "metadata": {},
   "outputs": [
    {
     "name": "stdout",
     "output_type": "stream",
     "text": [
      "enter value of a= 5\n",
      "enter value of b= 6\n",
      "a=6\n",
      "b=5\n"
     ]
    }
   ],
   "source": [
    "a = input(\"enter value of a= \")\n",
    "b = input(\"enter value of b= \")\n",
    "temp = a \n",
    "a = b\n",
    "b = temp\n",
    "\n",
    "print(\"a=\" + a)\n",
    "print(\"b=\" + b)"
   ]
  },
  {
   "cell_type": "code",
   "execution_count": null,
   "id": "0d063cf9",
   "metadata": {},
   "outputs": [],
   "source": []
  }
 ],
 "metadata": {
  "kernelspec": {
   "display_name": "Python 3 (ipykernel)",
   "language": "python",
   "name": "python3"
  },
  "language_info": {
   "codemirror_mode": {
    "name": "ipython",
    "version": 3
   },
   "file_extension": ".py",
   "mimetype": "text/x-python",
   "name": "python",
   "nbconvert_exporter": "python",
   "pygments_lexer": "ipython3",
   "version": "3.9.13"
  }
 },
 "nbformat": 4,
 "nbformat_minor": 5
}
